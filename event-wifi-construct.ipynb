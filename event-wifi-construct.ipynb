{
 "cells": [
  {
   "cell_type": "markdown",
   "metadata": {
    "heading_collapsed": true,
    "lc_cell_meme": {
     "current": "102e8fee-cdbe-11e7-bab8-0242ac120002",
     "next": "102e97be-cdbe-11e7-bab8-0242ac120002",
     "previous": null
    }
   },
   "source": [
    "# 前提条件"
   ]
  },
  {
   "cell_type": "markdown",
   "metadata": {
    "hidden": true,
    "lc_cell_meme": {
     "current": "102e97be-cdbe-11e7-bab8-0242ac120002",
     "history": [
      {
       "current": "102e97be-cdbe-11e7-bab8-0242ac120002",
       "next": "102e9ca0-cdbe-11e7-bab8-0242ac120002",
       "previous": "102e8fee-cdbe-11e7-bab8-0242ac120002"
      }
     ],
     "next": "102e97be-cdbe-11e7-bab8-0242ac120002",
     "previous": "102e8fee-cdbe-11e7-bab8-0242ac120002"
    }
   },
   "source": [
    "## ホストマシンに物理NICが3つあって、1つは上流に接続、2つはブリッジに繋がった状態であること\n",
    "\n",
    "/etc/network/interfacesの例\n",
    "```\n",
    "auto lo\n",
    "iface lo inet loopback\n",
    "\n",
    "# 1つは上流に接続\n",
    "auto eth0\n",
    "iface eth0 inet dhcp\n",
    "\n",
    "# 2つはブリッジに繋がった状態\n",
    "auto enx14\n",
    "iface enx14 inet manual\n",
    "\n",
    "auto enx19\n",
    "iface enx19 inet manual\n",
    "\n",
    "auto br14\n",
    "iface br14 inet static\n",
    "address 192.168.14.1\n",
    "netmask 255.255.255.0\n",
    "bridge_ports enx14\n",
    "bridge_maxwait 0\n",
    "bridge_fd 0\n",
    "bridge_stp off\n",
    "\n",
    "auto br19\n",
    "iface br19 inet static\n",
    "address 192.168.19.1\n",
    "netmask 255.255.255.0\n",
    "bridge_ports enx19\n",
    "bridge_maxwait 0\n",
    "bridge_fd 0\n",
    "bridge_stp off\n",
    "```"
   ]
  },
  {
   "cell_type": "markdown",
   "metadata": {
    "hidden": true,
    "lc_cell_meme": {
     "current": "102e97be-cdbe-11e7-bab8-0242ac120002",
     "history": [
      {
       "current": "102e97be-cdbe-11e7-bab8-0242ac120002",
       "next": "102e9ca0-cdbe-11e7-bab8-0242ac120002",
       "previous": "102e8fee-cdbe-11e7-bab8-0242ac120002"
      }
     ],
     "next": "102e9ca0-cdbe-11e7-bab8-0242ac120002",
     "previous": "102e97be-cdbe-11e7-bab8-0242ac120002"
    }
   },
   "source": [
    "## 同梱のdocker-compose.ymlでコンテナ一式が起動した状態であること\n",
    "\n",
    "[同梱のdocker-compose.yml](/edit/wifi/docker-compose.yml)\n",
    "\n",
    "docker-composeで作成された各種リソースには、起動した場所（docker-compose.ymlの場所）を示す文字列が接頭語として追加される。このnotebookでは/rootで起動して、接頭語がrootになっている前提とする。"
   ]
  },
  {
   "cell_type": "markdown",
   "metadata": {
    "heading_collapsed": true,
    "lc_cell_meme": {
     "current": "102e9ca0-cdbe-11e7-bab8-0242ac120002",
     "history": [
      {
       "current": "102e9ca0-cdbe-11e7-bab8-0242ac120002",
       "next": "9ebd3e4e-cb5d-11e7-ab92-0242ac120003",
       "previous": "102e97be-cdbe-11e7-bab8-0242ac120002"
      }
     ],
     "next": "7d4a4108-cdc4-11e7-bab8-0242ac120002",
     "previous": "102e97be-cdbe-11e7-bab8-0242ac120002"
    }
   },
   "source": [
    "# Juputerの設定"
   ]
  },
  {
   "cell_type": "markdown",
   "metadata": {
    "hidden": true,
    "lc_cell_meme": {
     "current": "7d4a4108-cdc4-11e7-bab8-0242ac120002",
     "next": "9ebd3e4e-cb5d-11e7-ab92-0242ac120003",
     "previous": "102e9ca0-cdbe-11e7-bab8-0242ac120002"
    }
   },
   "source": [
    "タイムゾーンをJSTにする。dockerコマンドをインストールする。\n",
    "\n",
    "jupyterには/var/run/docker.sockをマウントしているので、dockerコマンドがあれば、他のコンテナを操作することが可能となる。"
   ]
  },
  {
   "cell_type": "code",
   "execution_count": null,
   "metadata": {
    "hidden": true,
    "lc_cell_meme": {
     "current": "9ebd3e4e-cb5d-11e7-ab92-0242ac120003",
     "history": [
      {
       "current": "9ebd3e4e-cb5d-11e7-ab92-0242ac120003",
       "next": null,
       "previous": null
      },
      {
       "current": "9ebd3e4e-cb5d-11e7-ab92-0242ac120003",
       "next": "e6351f44-cb5d-11e7-ab92-0242ac120003",
       "previous": null
      },
      {
       "current": "9ebd3e4e-cb5d-11e7-ab92-0242ac120003",
       "next": "9ebd3e4e-cb5d-11e7-ab92-0242ac120003",
       "previous": null
      },
      {
       "current": "9ebd3e4e-cb5d-11e7-ab92-0242ac120003",
       "next": "e6351f44-cb5d-11e7-ab92-0242ac120003",
       "previous": null
      },
      {
       "current": "9ebd3e4e-cb5d-11e7-ab92-0242ac120003",
       "next": "963c83d4-ccf6-11e7-84d7-0242ac120003",
       "previous": null
      },
      {
       "current": "9ebd3e4e-cb5d-11e7-ab92-0242ac120003",
       "next": "963c83d4-ccf6-11e7-84d7-0242ac120003",
       "previous": "102e9ca0-cdbe-11e7-bab8-0242ac120002"
      },
      {
       "current": "9ebd3e4e-cb5d-11e7-ab92-0242ac120003",
       "next": "963c83d4-ccf6-11e7-84d7-0242ac120003",
       "previous": "7d4a4108-cdc4-11e7-bab8-0242ac120002"
      },
      {
       "current": "9ebd3e4e-cb5d-11e7-ab92-0242ac120003",
       "next": "c4cc1e20-cdc4-11e7-bab8-0242ac120002",
       "previous": "7d4a4108-cdc4-11e7-bab8-0242ac120002"
      }
     ],
     "next": "c4cc2474-cdc4-11e7-bab8-0242ac120002",
     "previous": "7d4a4108-cdc4-11e7-bab8-0242ac120002"
    },
    "pinned_outputs": []
   },
   "outputs": [],
   "source": [
    "%%bash\n",
    "sudo -i\n",
    "echo Asia/Tokyo > /etc/timezone\n",
    "dpkg-reconfigure --frontend noninteractive tzdata\n",
    "curl -fsSL https://download.docker.com/linux/static/stable/x86_64/docker-17.09.0-ce.tgz \\\n",
    "  | tar -xzC /usr/local/bin --strip=1 docker/docker\n",
    "docker ps -a"
   ]
  },
  {
   "cell_type": "markdown",
   "metadata": {
    "heading_collapsed": true,
    "lc_cell_meme": {
     "current": "c4cc2474-cdc4-11e7-bab8-0242ac120002",
     "history": [
      {
       "current": "c4cc2474-cdc4-11e7-bab8-0242ac120002",
       "next": "963c83d4-ccf6-11e7-84d7-0242ac120003",
       "previous": "c4cc1e20-cdc4-11e7-bab8-0242ac120002"
      },
      {
       "current": "c4cc2474-cdc4-11e7-bab8-0242ac120002",
       "next": "d4458eb6-cf38-11e7-b332-0242ac120002",
       "previous": "c4cc1e20-cdc4-11e7-bab8-0242ac120002"
      },
      {
       "current": "c4cc2474-cdc4-11e7-bab8-0242ac120002",
       "next": "d4458eb6-cf38-11e7-b332-0242ac120002",
       "previous": "9ebd3e4e-cb5d-11e7-ab92-0242ac120003"
      }
     ],
     "next": "963c83d4-ccf6-11e7-84d7-0242ac120003",
     "previous": "9ebd3e4e-cb5d-11e7-ab92-0242ac120003"
    }
   },
   "source": [
    "# VyOSの設定\n",
    "\n",
    "vyosには3つのネットワークを繋ぐが、docker-composeの挙動により、default以外のネットワークがコンテナにアタッチされる順番が保証されず、ネットワークとinterfaceの対応関係が固定されない（順序を固定する方法が見つからなかった）。そこで、wireのアタッチをコンテナ起動後に追加設定として行う。\n",
    "\n",
    "因みに、docker createして、ネットワークをアタッチして、startさせる場合は、bridgeネットワークの名前順で認識される。dokcerの使われ方の主流では、デバイスとか気にしない感じで問題ないので、この辺の作りがイマイチなままなんだろうな。\n",
    "\n",
    "vyosのinterfaceを確認する。起動時にアタッチされた2つ（eth0、eth1）が見えている。"
   ]
  },
  {
   "cell_type": "code",
   "execution_count": null,
   "metadata": {
    "hidden": true,
    "lc_cell_meme": {
     "current": "963c83d4-ccf6-11e7-84d7-0242ac120003",
     "history": [
      {
       "current": "963c83d4-ccf6-11e7-84d7-0242ac120003",
       "next": "fc8cfe3c-cb68-11e7-ab92-0242ac120003",
       "previous": "9ebd3e4e-cb5d-11e7-ab92-0242ac120003"
      },
      {
       "current": "963c83d4-ccf6-11e7-84d7-0242ac120003",
       "next": "fc8cfe3c-cb68-11e7-ab92-0242ac120003",
       "previous": "c4cc2474-cdc4-11e7-bab8-0242ac120002"
      },
      {
       "current": "963c83d4-ccf6-11e7-84d7-0242ac120003",
       "next": "d445938e-cf38-11e7-b332-0242ac120002",
       "previous": "d4458eb6-cf38-11e7-b332-0242ac120002"
      }
     ],
     "next": "d445938e-cf38-11e7-b332-0242ac120002",
     "previous": "c4cc2474-cdc4-11e7-bab8-0242ac120002"
    },
    "pinned_outputs": []
   },
   "outputs": [],
   "source": [
    "!sudo docker exec vyos ifconfig"
   ]
  },
  {
   "cell_type": "markdown",
   "metadata": {
    "hidden": true,
    "lc_cell_meme": {
     "current": "d445938e-cf38-11e7-b332-0242ac120002",
     "next": "fc8cfe3c-cb68-11e7-ab92-0242ac120003",
     "previous": "963c83d4-ccf6-11e7-84d7-0242ac120003"
    }
   },
   "source": [
    "dockerがコンテナ用に持っているネットワークを確認する。docker-composeで作ったネットワークには起動場所の接頭語が付くので注意。"
   ]
  },
  {
   "cell_type": "code",
   "execution_count": null,
   "metadata": {
    "hidden": true,
    "lc_cell_meme": {
     "current": "fc8cfe3c-cb68-11e7-ab92-0242ac120003",
     "history": [
      {
       "current": "fc8cfe3c-cb68-11e7-ab92-0242ac120003",
       "next": null,
       "previous": "381d521a-cb66-11e7-ab92-0242ac120003"
      },
      {
       "current": "fc8cfe3c-cb68-11e7-ab92-0242ac120003",
       "next": null,
       "previous": "e6351f44-cb5d-11e7-ab92-0242ac120003"
      },
      {
       "current": "fc8cfe3c-cb68-11e7-ab92-0242ac120003",
       "next": "963c894c-ccf6-11e7-84d7-0242ac120003",
       "previous": "963c83d4-ccf6-11e7-84d7-0242ac120003"
      },
      {
       "current": "fc8cfe3c-cb68-11e7-ab92-0242ac120003",
       "next": "963c894c-ccf6-11e7-84d7-0242ac120003",
       "previous": "d445938e-cf38-11e7-b332-0242ac120002"
      }
     ],
     "next": "dbbe9958-cf3d-11e7-b332-0242ac120002",
     "previous": "d445938e-cf38-11e7-b332-0242ac120002"
    },
    "pinned_outputs": []
   },
   "outputs": [],
   "source": [
    "!sudo docker network ls"
   ]
  },
  {
   "cell_type": "markdown",
   "metadata": {
    "hidden": true,
    "lc_cell_meme": {
     "current": "dbbe9958-cf3d-11e7-b332-0242ac120002",
     "next": "963c894c-ccf6-11e7-84d7-0242ac120003",
     "previous": "fc8cfe3c-cb68-11e7-ab92-0242ac120003"
    }
   },
   "source": [
    "vyosにroot_wireをアタッチ。"
   ]
  },
  {
   "cell_type": "code",
   "execution_count": null,
   "metadata": {
    "hidden": true,
    "lc_cell_meme": {
     "current": "963c894c-ccf6-11e7-84d7-0242ac120003",
     "history": [
      {
       "current": "963c894c-ccf6-11e7-84d7-0242ac120003",
       "next": "e6351f44-cb5d-11e7-ab92-0242ac120003",
       "previous": "fc8cfe3c-cb68-11e7-ab92-0242ac120003"
      },
      {
       "current": "963c894c-ccf6-11e7-84d7-0242ac120003",
       "next": "963c894c-ccf6-11e7-84d7-0242ac120003",
       "previous": "fc8cfe3c-cb68-11e7-ab92-0242ac120003"
      },
      {
       "current": "963c894c-ccf6-11e7-84d7-0242ac120003",
       "next": "963c894c-ccf6-11e7-84d7-0242ac120003",
       "previous": "dbbe9958-cf3d-11e7-b332-0242ac120002"
      }
     ],
     "next": "23414cd0-cf3e-11e7-b332-0242ac120002",
     "previous": "dbbe9958-cf3d-11e7-b332-0242ac120002"
    }
   },
   "outputs": [],
   "source": [
    "!sudo docker network connect root_wire vyos"
   ]
  },
  {
   "cell_type": "markdown",
   "metadata": {
    "hidden": true,
    "lc_cell_meme": {
     "current": "23414cd0-cf3e-11e7-b332-0242ac120002",
     "next": "963c894c-ccf6-11e7-84d7-0242ac120003",
     "previous": "963c894c-ccf6-11e7-84d7-0242ac120003"
    }
   },
   "source": [
    "3つ目のネットワークがeth2として増えているのを確認する。"
   ]
  },
  {
   "cell_type": "code",
   "execution_count": null,
   "metadata": {
    "hidden": true,
    "lc_cell_meme": {
     "current": "963c894c-ccf6-11e7-84d7-0242ac120003",
     "history": [
      {
       "current": "963c894c-ccf6-11e7-84d7-0242ac120003",
       "next": "e6351f44-cb5d-11e7-ab92-0242ac120003",
       "previous": "fc8cfe3c-cb68-11e7-ab92-0242ac120003"
      },
      {
       "current": "963c894c-ccf6-11e7-84d7-0242ac120003",
       "next": "e6351f44-cb5d-11e7-ab92-0242ac120003",
       "previous": "963c894c-ccf6-11e7-84d7-0242ac120003"
      },
      {
       "current": "963c894c-ccf6-11e7-84d7-0242ac120003",
       "next": "a1769c32-cdb2-11e7-bab8-0242ac120002",
       "previous": "963c894c-ccf6-11e7-84d7-0242ac120003"
      },
      {
       "current": "963c894c-ccf6-11e7-84d7-0242ac120003",
       "next": "71f5386a-cdc6-11e7-bab8-0242ac120002",
       "previous": "963c894c-ccf6-11e7-84d7-0242ac120003"
      }
     ],
     "next": "71f5386a-cdc6-11e7-bab8-0242ac120002",
     "previous": "23414cd0-cf3e-11e7-b332-0242ac120002"
    },
    "pinned_outputs": []
   },
   "outputs": [],
   "source": [
    "!sudo docker exec vyos ifconfig"
   ]
  },
  {
   "cell_type": "markdown",
   "metadata": {
    "hidden": true,
    "lc_cell_meme": {
     "current": "71f5386a-cdc6-11e7-bab8-0242ac120002",
     "next": "e6351f44-cb5d-11e7-ab92-0242ac120003",
     "previous": "963c894c-ccf6-11e7-84d7-0242ac120003"
    }
   },
   "source": [
    "vyosのルータ設定はansible経由で行う。connection:dockerで接続するため、vyos_configが使えないので、スクリプトファイルをコピーしてシェル実行する。併せて、docker execからvyosのコマンドを叩くためのスクリプトファイルもコピーしておく。\n",
    "\n",
    "[vyosの設定](/edit/wifi/vyos-setup.vsh)\n",
    "\n",
    "[コマンドのラッパ](/edit/wifi/run-command.sh)"
   ]
  },
  {
   "cell_type": "code",
   "execution_count": null,
   "metadata": {
    "hidden": true,
    "lc_cell_meme": {
     "current": "e6351f44-cb5d-11e7-ab92-0242ac120003",
     "history": [
      {
       "current": "e6351f44-cb5d-11e7-ab92-0242ac120003",
       "next": null,
       "previous": "9ebd3e4e-cb5d-11e7-ab92-0242ac120003"
      },
      {
       "current": "e6351f44-cb5d-11e7-ab92-0242ac120003",
       "next": "bcc9fa02-cb5e-11e7-ab92-0242ac120003",
       "previous": "9ebd3e4e-cb5d-11e7-ab92-0242ac120003"
      },
      {
       "current": "e6351f44-cb5d-11e7-ab92-0242ac120003",
       "next": null,
       "previous": "bcc9fa02-cb5e-11e7-ab92-0242ac120003"
      },
      {
       "current": "e6351f44-cb5d-11e7-ab92-0242ac120003",
       "next": "381d521a-cb66-11e7-ab92-0242ac120003",
       "previous": "bcc9fa02-cb5e-11e7-ab92-0242ac120003"
      },
      {
       "current": "e6351f44-cb5d-11e7-ab92-0242ac120003",
       "next": "fc8cfe3c-cb68-11e7-ab92-0242ac120003",
       "previous": "9ebd3e4e-cb5d-11e7-ab92-0242ac120003"
      },
      {
       "current": "e6351f44-cb5d-11e7-ab92-0242ac120003",
       "next": null,
       "previous": "963c894c-ccf6-11e7-84d7-0242ac120003"
      },
      {
       "current": "e6351f44-cb5d-11e7-ab92-0242ac120003",
       "next": "0bbc97ac-cd01-11e7-b777-0242ac120002",
       "previous": "963c894c-ccf6-11e7-84d7-0242ac120003"
      },
      {
       "current": "e6351f44-cb5d-11e7-ab92-0242ac120003",
       "next": "a1769c32-cdb2-11e7-bab8-0242ac120002",
       "previous": "963c894c-ccf6-11e7-84d7-0242ac120003"
      },
      {
       "current": "e6351f44-cb5d-11e7-ab92-0242ac120003",
       "next": "0bbc97ac-cd01-11e7-b777-0242ac120002",
       "previous": "a1769c32-cdb2-11e7-bab8-0242ac120002"
      },
      {
       "current": "e6351f44-cb5d-11e7-ab92-0242ac120003",
       "next": "7809af3c-cdb3-11e7-bab8-0242ac120002",
       "previous": "a1769c32-cdb2-11e7-bab8-0242ac120002"
      },
      {
       "current": "e6351f44-cb5d-11e7-ab92-0242ac120003",
       "next": "c4cc2938-cdc4-11e7-bab8-0242ac120002",
       "previous": "a1769c32-cdb2-11e7-bab8-0242ac120002"
      },
      {
       "current": "e6351f44-cb5d-11e7-ab92-0242ac120003",
       "next": "a1769c32-cdb2-11e7-bab8-0242ac120002",
       "previous": "71f5386a-cdc6-11e7-bab8-0242ac120002"
      }
     ],
     "next": "981014d6-cf36-11e7-b332-0242ac120002",
     "previous": "71f5386a-cdc6-11e7-bab8-0242ac120002"
    },
    "pinned_outputs": []
   },
   "outputs": [],
   "source": [
    "!sudo ansible-playbook -i vyos, vyos-setup.yml"
   ]
  },
  {
   "cell_type": "markdown",
   "metadata": {
    "hidden": true,
    "lc_cell_meme": {
     "current": "981014d6-cf36-11e7-b332-0242ac120002",
     "next": "a1769c32-cdb2-11e7-bab8-0242ac120002",
     "previous": "e6351f44-cb5d-11e7-ab92-0242ac120003"
    }
   },
   "source": [
    "こんな感じでvyosのコマンドが叩ける。"
   ]
  },
  {
   "cell_type": "code",
   "execution_count": null,
   "metadata": {
    "hidden": true,
    "lc_cell_meme": {
     "current": "a1769c32-cdb2-11e7-bab8-0242ac120002",
     "history": [
      {
       "current": "a1769c32-cdb2-11e7-bab8-0242ac120002",
       "next": "0bbc97ac-cd01-11e7-b777-0242ac120002",
       "previous": "e6351f44-cb5d-11e7-ab92-0242ac120003"
      },
      {
       "current": "a1769c32-cdb2-11e7-bab8-0242ac120002",
       "next": "e6351f44-cb5d-11e7-ab92-0242ac120003",
       "previous": "963c894c-ccf6-11e7-84d7-0242ac120003"
      },
      {
       "current": "a1769c32-cdb2-11e7-bab8-0242ac120002",
       "next": "c4cc2938-cdc4-11e7-bab8-0242ac120002",
       "previous": "e6351f44-cb5d-11e7-ab92-0242ac120003"
      },
      {
       "current": "a1769c32-cdb2-11e7-bab8-0242ac120002",
       "next": "1f1d2a92-cdc8-11e7-bab8-0242ac120002",
       "previous": "e6351f44-cb5d-11e7-ab92-0242ac120003"
      }
     ],
     "next": "1f1d2a92-cdc8-11e7-bab8-0242ac120002",
     "previous": "981014d6-cf36-11e7-b332-0242ac120002"
    },
    "pinned_outputs": []
   },
   "outputs": [],
   "source": [
    "!sudo docker exec --user vyos vyos /home/vyos/run-command.sh show interfaces"
   ]
  },
  {
   "cell_type": "markdown",
   "metadata": {
    "hidden": true,
    "lc_cell_meme": {
     "current": "1f1d2a92-cdc8-11e7-bab8-0242ac120002",
     "next": "c4cc2938-cdc4-11e7-bab8-0242ac120002",
     "previous": "a1769c32-cdb2-11e7-bab8-0242ac120002"
    }
   },
   "source": [
    "因みに、VyOSは実質Debianなので、interfaceが絡んだ機能（例えば、FireWallやQoS）は、OSのネットワーク設定で実現されている。このため、本事例のようにコンテナで利用すると、ネットワークデバイスが完全仮想化されていないことから、ネットワーク関連の機能のいくつかが動作しない。vyosにdocker execしてドヤ顔するのが不要で、そこそこのスペックのマシンが用意できるなら、普通にxenとか使った完全仮想化の方が、トラブルも少ないだろう。"
   ]
  },
  {
   "cell_type": "markdown",
   "metadata": {
    "heading_collapsed": true,
    "lc_cell_meme": {
     "current": "c4cc2938-cdc4-11e7-bab8-0242ac120002",
     "history": [
      {
       "current": "c4cc2938-cdc4-11e7-bab8-0242ac120002",
       "next": "c4cc2dca-cdc4-11e7-bab8-0242ac120002",
       "previous": "e6351f44-cb5d-11e7-ab92-0242ac120003"
      },
      {
       "current": "c4cc2938-cdc4-11e7-bab8-0242ac120002",
       "next": "c4cc2dca-cdc4-11e7-bab8-0242ac120002",
       "previous": "a1769c32-cdb2-11e7-bab8-0242ac120002"
      }
     ],
     "next": "c4cc2dca-cdc4-11e7-bab8-0242ac120002",
     "previous": "1f1d2a92-cdc8-11e7-bab8-0242ac120002"
    }
   },
   "source": [
    "# Aironetの設定"
   ]
  },
  {
   "cell_type": "markdown",
   "metadata": {
    "hidden": true,
    "lc_cell_meme": {
     "current": "c4cc2dca-cdc4-11e7-bab8-0242ac120002",
     "next": "7809af3c-cdb3-11e7-bab8-0242ac120002",
     "previous": "c4cc2938-cdc4-11e7-bab8-0242ac120002"
    }
   },
   "source": [
    "工場出荷時設定のAironet1140を2台、wifiのネットワークに繋ぐ。vyosの設定に、macアドレスに対して固定のIPアドレスを払い出すように書いてあるので、Aironetがそのアドレスを掴めたか確認する。起動にそこそこ時間がかかるので、時間を空けて何度か試すこと。"
   ]
  },
  {
   "cell_type": "code",
   "execution_count": null,
   "metadata": {
    "hidden": true,
    "lc_cell_meme": {
     "current": "7809af3c-cdb3-11e7-bab8-0242ac120002",
     "history": [
      {
       "current": "7809af3c-cdb3-11e7-bab8-0242ac120002",
       "next": "0bbc97ac-cd01-11e7-b777-0242ac120002",
       "previous": "e6351f44-cb5d-11e7-ab92-0242ac120003"
      },
      {
       "current": "7809af3c-cdb3-11e7-bab8-0242ac120002",
       "next": "0bbc97ac-cd01-11e7-b777-0242ac120002",
       "previous": "c4cc2dca-cdc4-11e7-bab8-0242ac120002"
      }
     ],
     "next": "31e60498-cdcb-11e7-bab8-0242ac120002",
     "previous": "c4cc2dca-cdc4-11e7-bab8-0242ac120002"
    },
    "pinned_outputs": []
   },
   "outputs": [],
   "source": [
    "!ping -c 4 ap64\n",
    "!ping -c 4 ap83"
   ]
  },
  {
   "cell_type": "markdown",
   "metadata": {
    "hidden": true,
    "lc_cell_meme": {
     "current": "31e60498-cdcb-11e7-bab8-0242ac120002",
     "next": "0bbc97ac-cd01-11e7-b777-0242ac120002",
     "previous": "7809af3c-cdb3-11e7-bab8-0242ac120002"
    }
   },
   "source": [
    "工場出荷時設定のAironetは、telnetでデフォルトアカウントで入れるようになっているので、新規のアカウントで、sshでしか入れないように設定する。\n",
    "\n",
    "[playbook](/edit/wifi/aironet-setup.yml)"
   ]
  },
  {
   "cell_type": "code",
   "execution_count": null,
   "metadata": {
    "hidden": true,
    "lc_cell_meme": {
     "current": "0bbc97ac-cd01-11e7-b777-0242ac120002",
     "history": [
      {
       "current": "0bbc97ac-cd01-11e7-b777-0242ac120002",
       "next": "0bbc9e82-cd01-11e7-b777-0242ac120002",
       "previous": "e6351f44-cb5d-11e7-ab92-0242ac120003"
      },
      {
       "current": "0bbc97ac-cd01-11e7-b777-0242ac120002",
       "next": "e25549c6-cd01-11e7-b777-0242ac120002",
       "previous": "e6351f44-cb5d-11e7-ab92-0242ac120003"
      },
      {
       "current": "0bbc97ac-cd01-11e7-b777-0242ac120002",
       "next": "e25549c6-cd01-11e7-b777-0242ac120002",
       "previous": "a1769c32-cdb2-11e7-bab8-0242ac120002"
      },
      {
       "current": "0bbc97ac-cd01-11e7-b777-0242ac120002",
       "next": "e25549c6-cd01-11e7-b777-0242ac120002",
       "previous": "e6351f44-cb5d-11e7-ab92-0242ac120003"
      },
      {
       "current": "0bbc97ac-cd01-11e7-b777-0242ac120002",
       "next": "e25549c6-cd01-11e7-b777-0242ac120002",
       "previous": "7809af3c-cdb3-11e7-bab8-0242ac120002"
      }
     ],
     "next": "e25549c6-cd01-11e7-b777-0242ac120002",
     "previous": "31e60498-cdcb-11e7-bab8-0242ac120002"
    },
    "pinned_outputs": []
   },
   "outputs": [],
   "source": [
    "!ansible-playbook -i ap64,ap83, aironet-setup.yml -t ssh-setup"
   ]
  },
  {
   "cell_type": "markdown",
   "metadata": {
    "hidden": true,
    "lc_cell_meme": {
     "current": "e25549c6-cd01-11e7-b777-0242ac120002",
     "history": [
      {
       "current": "e25549c6-cd01-11e7-b777-0242ac120002",
       "next": null,
       "previous": "0bbc9e82-cd01-11e7-b777-0242ac120002"
      }
     ],
     "next": "0bbc9e82-cd01-11e7-b777-0242ac120002",
     "previous": "0bbc97ac-cd01-11e7-b777-0242ac120002"
    }
   },
   "source": [
    "## known_hostsにfingerprint 覚えさせる部分は手作業\n",
    "\n",
    "ansibleがAironetにsshするためにknown_hostsにfingerprintを覚えさせる必要がある。ansibleの設定で自動登録できるらしいが、jupyter内に入れてあるansibleのバージョンの問題か、動作しなかったので、terminalからの手作業で対応する。playbook内のアカウントを確認して、[一覧ページ](/tree/wifi)の右上「New」-「Terminal」からterminalを開いて、ssh接続を行い、fingerprintの記録を行う。\n",
    "\n",
    "```\n",
    "$ ssh wifiuser@ap64\n",
    "$ ssh wifiuser@ap83\n",
    "```\n",
    "\n",
    "Aironetへのssh接続でfingerprintの確認が出ない状態にできたら、アクセスポイントの設定を行える。"
   ]
  },
  {
   "cell_type": "code",
   "execution_count": null,
   "metadata": {
    "hidden": true,
    "lc_cell_meme": {
     "current": "0bbc9e82-cd01-11e7-b777-0242ac120002",
     "history": [
      {
       "current": "0bbc9e82-cd01-11e7-b777-0242ac120002",
       "next": null,
       "previous": "0bbc97ac-cd01-11e7-b777-0242ac120002"
      },
      {
       "current": "0bbc9e82-cd01-11e7-b777-0242ac120002",
       "next": "e25549c6-cd01-11e7-b777-0242ac120002",
       "previous": "0bbc97ac-cd01-11e7-b777-0242ac120002"
      },
      {
       "current": "0bbc9e82-cd01-11e7-b777-0242ac120002",
       "next": null,
       "previous": "e25549c6-cd01-11e7-b777-0242ac120002"
      },
      {
       "current": "0bbc9e82-cd01-11e7-b777-0242ac120002",
       "next": "4e9d981a-cdb4-11e7-bab8-0242ac120002",
       "previous": "e25549c6-cd01-11e7-b777-0242ac120002"
      }
     ],
     "next": "44ad7ebe-cdce-11e7-bab8-0242ac120002",
     "previous": "e25549c6-cd01-11e7-b777-0242ac120002"
    },
    "pinned_outputs": [],
    "scrolled": true
   },
   "outputs": [],
   "source": [
    "!ansible-playbook -i ap64,ap83, aironet-setup.yml -t setup"
   ]
  },
  {
   "cell_type": "markdown",
   "metadata": {
    "heading_collapsed": true,
    "lc_cell_meme": {
     "current": "44ad7ebe-cdce-11e7-bab8-0242ac120002",
     "next": "4e9d981a-cdb4-11e7-bab8-0242ac120002",
     "previous": "0bbc9e82-cd01-11e7-b777-0242ac120002"
    }
   },
   "source": [
    "# 接続の確認"
   ]
  },
  {
   "cell_type": "markdown",
   "metadata": {
    "hidden": true,
    "lc_cell_meme": {
     "current": "4e9d981a-cdb4-11e7-bab8-0242ac120002",
     "history": [
      {
       "current": "4e9d981a-cdb4-11e7-bab8-0242ac120002",
       "next": null,
       "previous": "0bbc9e82-cd01-11e7-b777-0242ac120002"
      },
      {
       "current": "4e9d981a-cdb4-11e7-bab8-0242ac120002",
       "next": null,
       "previous": "44ad7ebe-cdce-11e7-bab8-0242ac120002"
      },
      {
       "current": "4e9d981a-cdb4-11e7-bab8-0242ac120002",
       "next": "e22566ca-cec8-11e7-b332-0242ac120002",
       "previous": "44ad7ebe-cdce-11e7-bab8-0242ac120002"
      },
      {
       "current": "4e9d981a-cdb4-11e7-bab8-0242ac120002",
       "next": "c5a13474-cec9-11e7-b332-0242ac120002",
       "previous": "44ad7ebe-cdce-11e7-bab8-0242ac120002"
      }
     ],
     "next": "8546e9d6-cf33-11e7-b332-0242ac120002",
     "previous": "44ad7ebe-cdce-11e7-bab8-0242ac120002"
    }
   },
   "source": [
    "wifiで繋いだり、有線で繋いだりして、インターネットへの接続が行えることを確認する。"
   ]
  },
  {
   "cell_type": "markdown",
   "metadata": {
    "heading_collapsed": true,
    "lc_cell_meme": {
     "current": "8546e9d6-cf33-11e7-b332-0242ac120002",
     "next": "c5a13474-cec9-11e7-b332-0242ac120002",
     "previous": "4e9d981a-cdb4-11e7-bab8-0242ac120002"
    }
   },
   "source": [
    "# muninの設定\n",
    "\n",
    "ネットワークの稼働をモニタするのにmuninを使う。\n",
    "\n",
    "vyos、ap64、ap83をsnmpで監視する設定を行い、muninコンテナを再起動する。"
   ]
  },
  {
   "cell_type": "code",
   "execution_count": null,
   "metadata": {
    "hidden": true,
    "lc_cell_meme": {
     "current": "c5a13474-cec9-11e7-b332-0242ac120002",
     "history": [
      {
       "current": "c5a13474-cec9-11e7-b332-0242ac120002",
       "next": "e22566ca-cec8-11e7-b332-0242ac120002",
       "previous": "4e9d981a-cdb4-11e7-bab8-0242ac120002"
      },
      {
       "current": "c5a13474-cec9-11e7-b332-0242ac120002",
       "next": "c5a13474-cec9-11e7-b332-0242ac120002",
       "previous": "4e9d981a-cdb4-11e7-bab8-0242ac120002"
      }
     ],
     "next": "c5a13474-cec9-11e7-b332-0242ac120002",
     "previous": "8546e9d6-cf33-11e7-b332-0242ac120002"
    }
   },
   "outputs": [],
   "source": [
    "!sudo docker exec munin bash -c \"munin-node-configure --snmp vyos --snmpversion 2c --snmpcommunity muninconnect --shell | sh\""
   ]
  },
  {
   "cell_type": "code",
   "execution_count": null,
   "metadata": {
    "hidden": true,
    "lc_cell_meme": {
     "current": "c5a13474-cec9-11e7-b332-0242ac120002",
     "history": [
      {
       "current": "c5a13474-cec9-11e7-b332-0242ac120002",
       "next": "e22566ca-cec8-11e7-b332-0242ac120002",
       "previous": "4e9d981a-cdb4-11e7-bab8-0242ac120002"
      },
      {
       "current": "c5a13474-cec9-11e7-b332-0242ac120002",
       "next": "e22566ca-cec8-11e7-b332-0242ac120002",
       "previous": "4e9d981a-cdb4-11e7-bab8-0242ac120002"
      },
      {
       "current": "c5a13474-cec9-11e7-b332-0242ac120002",
       "next": "e22566ca-cec8-11e7-b332-0242ac120002",
       "previous": "c5a13474-cec9-11e7-b332-0242ac120002"
      },
      {
       "current": "c5a13474-cec9-11e7-b332-0242ac120002",
       "next": "e22566ca-cec8-11e7-b332-0242ac120002",
       "previous": "c5a13474-cec9-11e7-b332-0242ac120002"
      },
      {
       "current": "c5a13474-cec9-11e7-b332-0242ac120002",
       "next": "54adcaf6-ceca-11e7-b332-0242ac120002",
       "previous": "c5a13474-cec9-11e7-b332-0242ac120002"
      },
      {
       "current": "c5a13474-cec9-11e7-b332-0242ac120002",
       "next": "54adcaf6-ceca-11e7-b332-0242ac120002",
       "previous": "c5a13474-cec9-11e7-b332-0242ac120002"
      },
      {
       "current": "c5a13474-cec9-11e7-b332-0242ac120002",
       "next": "54adcaf6-ceca-11e7-b332-0242ac120002",
       "previous": "c5a13474-cec9-11e7-b332-0242ac120002"
      },
      {
       "current": "c5a13474-cec9-11e7-b332-0242ac120002",
       "next": "54adcaf6-ceca-11e7-b332-0242ac120002",
       "previous": "c5a13474-cec9-11e7-b332-0242ac120002"
      }
     ],
     "next": "c5a13474-cec9-11e7-b332-0242ac120002",
     "previous": "c5a13474-cec9-11e7-b332-0242ac120002"
    }
   },
   "outputs": [],
   "source": [
    "!sudo docker exec munin bash -c \"munin-node-configure --snmp ap64 --snmpversion 2c --snmpcommunity muninconnect --shell | sh\""
   ]
  },
  {
   "cell_type": "code",
   "execution_count": null,
   "metadata": {
    "hidden": true,
    "lc_cell_meme": {
     "current": "c5a13474-cec9-11e7-b332-0242ac120002",
     "history": [
      {
       "current": "c5a13474-cec9-11e7-b332-0242ac120002",
       "next": "e22566ca-cec8-11e7-b332-0242ac120002",
       "previous": "4e9d981a-cdb4-11e7-bab8-0242ac120002"
      },
      {
       "current": "c5a13474-cec9-11e7-b332-0242ac120002",
       "next": "e22566ca-cec8-11e7-b332-0242ac120002",
       "previous": "4e9d981a-cdb4-11e7-bab8-0242ac120002"
      },
      {
       "current": "c5a13474-cec9-11e7-b332-0242ac120002",
       "next": "e22566ca-cec8-11e7-b332-0242ac120002",
       "previous": "c5a13474-cec9-11e7-b332-0242ac120002"
      },
      {
       "current": "c5a13474-cec9-11e7-b332-0242ac120002",
       "next": "e22566ca-cec8-11e7-b332-0242ac120002",
       "previous": "c5a13474-cec9-11e7-b332-0242ac120002"
      },
      {
       "current": "c5a13474-cec9-11e7-b332-0242ac120002",
       "next": "54adcaf6-ceca-11e7-b332-0242ac120002",
       "previous": "c5a13474-cec9-11e7-b332-0242ac120002"
      },
      {
       "current": "c5a13474-cec9-11e7-b332-0242ac120002",
       "next": "54adcaf6-ceca-11e7-b332-0242ac120002",
       "previous": "c5a13474-cec9-11e7-b332-0242ac120002"
      },
      {
       "current": "c5a13474-cec9-11e7-b332-0242ac120002",
       "next": "54adcaf6-ceca-11e7-b332-0242ac120002",
       "previous": "c5a13474-cec9-11e7-b332-0242ac120002"
      }
     ],
     "next": "54adcaf6-ceca-11e7-b332-0242ac120002",
     "previous": "c5a13474-cec9-11e7-b332-0242ac120002"
    }
   },
   "outputs": [],
   "source": [
    "!sudo docker exec munin bash -c \"munin-node-configure --snmp ap83 --snmpversion 2c --snmpcommunity muninconnect --shell | sh\""
   ]
  },
  {
   "cell_type": "code",
   "execution_count": null,
   "metadata": {
    "hidden": true,
    "lc_cell_meme": {
     "current": "54adcaf6-ceca-11e7-b332-0242ac120002",
     "history": [
      {
       "current": "54adcaf6-ceca-11e7-b332-0242ac120002",
       "next": "e22566ca-cec8-11e7-b332-0242ac120002",
       "previous": "c5a13474-cec9-11e7-b332-0242ac120002"
      }
     ],
     "next": "9c32eed8-ceca-11e7-b332-0242ac120002",
     "previous": "c5a13474-cec9-11e7-b332-0242ac120002"
    }
   },
   "outputs": [],
   "source": [
    "!sudo docker exec munin bash -c 'echo -e \"\\n[snmp_*]\\nenv.community muninconnect\\nenv.version 2\\n\" >> /etc/munin/plugin-conf.d/munin-node'"
   ]
  },
  {
   "cell_type": "code",
   "execution_count": null,
   "metadata": {
    "hidden": true,
    "lc_cell_meme": {
     "current": "9c32eed8-ceca-11e7-b332-0242ac120002",
     "next": "9c32f50e-ceca-11e7-b332-0242ac120002",
     "previous": "54adcaf6-ceca-11e7-b332-0242ac120002"
    }
   },
   "outputs": [],
   "source": [
    "!sudo docker exec munin bash -c 'echo -e \"\\n[vyos]\\n    address 127.0.0.1\\n    use_node_name no\\n[ap64]\\n    address 127.0.0.1\\n    use_node_name no\\n[ap83]\\n    address 127.0.0.1\\n    use_node_name no\\n\" >> /etc/munin/munin.conf'"
   ]
  },
  {
   "cell_type": "code",
   "execution_count": null,
   "metadata": {
    "hidden": true,
    "lc_cell_meme": {
     "current": "9c32f50e-ceca-11e7-b332-0242ac120002",
     "history": [
      {
       "current": "9c32f50e-ceca-11e7-b332-0242ac120002",
       "next": "e22566ca-cec8-11e7-b332-0242ac120002",
       "previous": "9c32eed8-ceca-11e7-b332-0242ac120002"
      }
     ],
     "next": "20a35e50-cecb-11e7-b332-0242ac120002",
     "previous": "9c32eed8-ceca-11e7-b332-0242ac120002"
    }
   },
   "outputs": [],
   "source": [
    "!sudo docker exec munin reboot"
   ]
  },
  {
   "cell_type": "markdown",
   "metadata": {
    "hidden": true,
    "lc_cell_meme": {
     "current": "20a35e50-cecb-11e7-b332-0242ac120002",
     "next": null,
     "previous": "9c32f50e-ceca-11e7-b332-0242ac120002"
    }
   },
   "source": [
    "muninコンテナ80番ポートにブラウザでアクセスするとグラフが見れる。"
   ]
  }
 ],
 "metadata": {
  "kernelspec": {
   "display_name": "Python 3",
   "language": "python",
   "name": "python3"
  },
  "language_info": {
   "codemirror_mode": {
    "name": "ipython",
    "version": 3
   },
   "file_extension": ".py",
   "mimetype": "text/x-python",
   "name": "python",
   "nbconvert_exporter": "python",
   "pygments_lexer": "ipython3",
   "version": "3.5.2"
  },
  "lc_notebook_meme": {
   "current": "9ebd387c-cb5d-11e7-ab92-0242ac120003",
   "lc_server_signature": {
    "current": {
     "notebook_dir": "/notebooks",
     "notebook_path": "/wifi",
     "server_url": "http://192.168.14.2:8888/",
     "signature_id": "fb1ecc3a-cec7-11e7-b332-0242ac120002"
    },
    "history": [
     {
      "notebook_dir": "/notebooks",
      "notebook_path": "/wifi",
      "server_url": "http://172.18.0.3:8888/",
      "signature_id": "3fb2b046-cb5d-11e7-ab92-0242ac120003"
     },
     {
      "notebook_dir": "/notebooks",
      "notebook_path": "/wifi",
      "server_url": "http://172.18.0.3:8888/",
      "signature_id": "f71c8e3e-cb6a-11e7-8aa9-0242ac120003"
     },
     {
      "notebook_dir": "/notebooks",
      "notebook_path": "/wifi",
      "server_url": "http://172.18.0.3:8888/",
      "signature_id": "9bd36a48-ccf5-11e7-84d7-0242ac120003"
     },
     {
      "notebook_dir": "/notebooks",
      "notebook_path": "/wifi",
      "server_url": "http://172.18.0.2:8888/",
      "signature_id": "6d4fc832-cd00-11e7-b777-0242ac120002"
     },
     {
      "notebook_dir": "/notebooks",
      "notebook_path": "/wifi",
      "server_url": "http://172.18.0.2:8888/",
      "signature_id": "3d80d954-cdb2-11e7-bab8-0242ac120002"
     },
     {
      "notebook_dir": "/notebooks",
      "notebook_path": "/wifi",
      "server_url": "http://172.18.0.2:8888/",
      "signature_id": "30b66460-cdd4-11e7-a50a-0242ac120002"
     },
     {
      "notebook_dir": "/notebooks",
      "notebook_path": "/wifi",
      "server_url": "http://172.18.0.2:8888/",
      "signature_id": "fb1ecc3a-cec7-11e7-b332-0242ac120002"
     }
    ]
   }
  },
  "toc": {
   "nav_menu": {},
   "number_sections": true,
   "sideBar": true,
   "skip_h1_title": false,
   "toc_cell": false,
   "toc_position": {},
   "toc_section_display": "block",
   "toc_window_display": false
  }
 },
 "nbformat": 4,
 "nbformat_minor": 2
}

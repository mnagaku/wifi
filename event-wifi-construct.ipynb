{
 "cells": [
  {
   "cell_type": "markdown",
   "metadata": {
    "heading_collapsed": true,
    "lc_cell_meme": {
     "current": "102e8fee-cdbe-11e7-bab8-0242ac120002",
     "next": "102e97be-cdbe-11e7-bab8-0242ac120002",
     "previous": null
    }
   },
   "source": [
    "# 前提条件"
   ]
  },
  {
   "cell_type": "markdown",
   "metadata": {
    "hidden": true,
    "lc_cell_meme": {
     "current": "102e97be-cdbe-11e7-bab8-0242ac120002",
     "history": [
      {
       "current": "102e97be-cdbe-11e7-bab8-0242ac120002",
       "next": "102e9ca0-cdbe-11e7-bab8-0242ac120002",
       "previous": "102e8fee-cdbe-11e7-bab8-0242ac120002"
      }
     ],
     "next": "102e97be-cdbe-11e7-bab8-0242ac120002",
     "previous": "102e8fee-cdbe-11e7-bab8-0242ac120002"
    }
   },
   "source": [
    "## ホストマシンに物理NICが3つあって、1つは上流に接続、2つはブリッジに繋がった状態であること\n",
    "\n",
    "/etc/network/interfacesの例\n",
    "```\n",
    "auto lo\n",
    "iface lo inet loopback\n",
    "\n",
    "# 1つは上流に接続\n",
    "auto eth0\n",
    "iface eth0 inet dhcp\n",
    "\n",
    "# 2つはブリッジに繋がった状態\n",
    "auto enx14\n",
    "iface enx14 inet manual\n",
    "\n",
    "auto enx19\n",
    "iface enx19 inet manual\n",
    "\n",
    "auto br14\n",
    "iface br14 inet static\n",
    "address 192.168.14.1\n",
    "netmask 255.255.255.0\n",
    "bridge_ports enx14\n",
    "bridge_maxwait 0\n",
    "bridge_fd 0\n",
    "bridge_stp off\n",
    "\n",
    "auto br19\n",
    "iface br19 inet static\n",
    "address 192.168.19.1\n",
    "netmask 255.255.255.0\n",
    "bridge_ports enx19\n",
    "bridge_maxwait 0\n",
    "bridge_fd 0\n",
    "bridge_stp off\n",
    "```"
   ]
  },
  {
   "cell_type": "markdown",
   "metadata": {
    "hidden": true,
    "lc_cell_meme": {
     "current": "102e97be-cdbe-11e7-bab8-0242ac120002",
     "history": [
      {
       "current": "102e97be-cdbe-11e7-bab8-0242ac120002",
       "next": "102e9ca0-cdbe-11e7-bab8-0242ac120002",
       "previous": "102e8fee-cdbe-11e7-bab8-0242ac120002"
      }
     ],
     "next": "102e9ca0-cdbe-11e7-bab8-0242ac120002",
     "previous": "102e97be-cdbe-11e7-bab8-0242ac120002"
    }
   },
   "source": [
    "## 同梱のdocker-compose.ymlでコンテナ一式が起動した状態であること\n",
    "\n",
    "[同梱のdocker-compose.yml](/edit/wifi/docker-compose.yml)"
   ]
  },
  {
   "cell_type": "markdown",
   "metadata": {
    "heading_collapsed": true,
    "lc_cell_meme": {
     "current": "102e9ca0-cdbe-11e7-bab8-0242ac120002",
     "history": [
      {
       "current": "102e9ca0-cdbe-11e7-bab8-0242ac120002",
       "next": "9ebd3e4e-cb5d-11e7-ab92-0242ac120003",
       "previous": "102e97be-cdbe-11e7-bab8-0242ac120002"
      }
     ],
     "next": "7d4a4108-cdc4-11e7-bab8-0242ac120002",
     "previous": "102e97be-cdbe-11e7-bab8-0242ac120002"
    }
   },
   "source": [
    "# Juputerの設定"
   ]
  },
  {
   "cell_type": "markdown",
   "metadata": {
    "hidden": true,
    "lc_cell_meme": {
     "current": "7d4a4108-cdc4-11e7-bab8-0242ac120002",
     "next": "9ebd3e4e-cb5d-11e7-ab92-0242ac120003",
     "previous": "102e9ca0-cdbe-11e7-bab8-0242ac120002"
    }
   },
   "source": [
    "タイムゾーンをJSTにする。dockerコマンドをインストールする。"
   ]
  },
  {
   "cell_type": "code",
   "execution_count": null,
   "metadata": {
    "hidden": true,
    "lc_cell_meme": {
     "current": "9ebd3e4e-cb5d-11e7-ab92-0242ac120003",
     "history": [
      {
       "current": "9ebd3e4e-cb5d-11e7-ab92-0242ac120003",
       "next": null,
       "previous": null
      },
      {
       "current": "9ebd3e4e-cb5d-11e7-ab92-0242ac120003",
       "next": "e6351f44-cb5d-11e7-ab92-0242ac120003",
       "previous": null
      },
      {
       "current": "9ebd3e4e-cb5d-11e7-ab92-0242ac120003",
       "next": "9ebd3e4e-cb5d-11e7-ab92-0242ac120003",
       "previous": null
      },
      {
       "current": "9ebd3e4e-cb5d-11e7-ab92-0242ac120003",
       "next": "e6351f44-cb5d-11e7-ab92-0242ac120003",
       "previous": null
      },
      {
       "current": "9ebd3e4e-cb5d-11e7-ab92-0242ac120003",
       "next": "963c83d4-ccf6-11e7-84d7-0242ac120003",
       "previous": null
      },
      {
       "current": "9ebd3e4e-cb5d-11e7-ab92-0242ac120003",
       "next": "963c83d4-ccf6-11e7-84d7-0242ac120003",
       "previous": "102e9ca0-cdbe-11e7-bab8-0242ac120002"
      },
      {
       "current": "9ebd3e4e-cb5d-11e7-ab92-0242ac120003",
       "next": "963c83d4-ccf6-11e7-84d7-0242ac120003",
       "previous": "7d4a4108-cdc4-11e7-bab8-0242ac120002"
      }
     ],
     "next": "c4cc1e20-cdc4-11e7-bab8-0242ac120002",
     "previous": "7d4a4108-cdc4-11e7-bab8-0242ac120002"
    },
    "pinned_outputs": [
     {
      "execution_count": 1,
      "outputs": [
       {
        "name": "stdout",
        "output_type": "stream",
        "text": "CONTAINER ID        IMAGE                        COMMAND                  CREATED             STATUS              PORTS               NAMES\n06d9ddaebe48        quantumobject/docker-cacti   \"/sbin/my_init\"          About an hour ago   Up About an hour    80/tcp              cacti\n37843a5fc32b        mnagaku/vyos                 \"/sbin/init\"             About an hour ago   Up About an hour                        vyos\n2a7648a46aa0        niicloudoperation/notebook   \"tini -- bash -c '...\"   About an hour ago   Up About an hour                        jupyter\n"
       },
       {
        "name": "stderr",
        "output_type": "stream",
        "text": "stdin: is not a tty\n\nCurrent default time zone: 'Asia/Tokyo'\nLocal time is now:      Mon Nov 20 19:18:18 JST 2017.\nUniversal Time is now:  Mon Nov 20 10:18:18 UTC 2017.\n\n"
       }
      ]
     }
    ]
   },
   "outputs": [],
   "source": [
    "%%bash\n",
    "sudo -i\n",
    "echo Asia/Tokyo > /etc/timezone\n",
    "dpkg-reconfigure --frontend noninteractive tzdata\n",
    "curl -fsSL https://download.docker.com/linux/static/stable/x86_64/docker-17.09.0-ce.tgz \\\n",
    "  | tar -xzC /usr/local/bin --strip=1 docker/docker\n",
    "docker ps -a"
   ]
  },
  {
   "cell_type": "markdown",
   "metadata": {
    "heading_collapsed": true,
    "lc_cell_meme": {
     "current": "c4cc1e20-cdc4-11e7-bab8-0242ac120002",
     "next": "c4cc2474-cdc4-11e7-bab8-0242ac120002",
     "previous": "9ebd3e4e-cb5d-11e7-ab92-0242ac120003"
    }
   },
   "source": [
    "# VyOSの設定"
   ]
  },
  {
   "cell_type": "markdown",
   "metadata": {
    "hidden": true,
    "lc_cell_meme": {
     "current": "c4cc2474-cdc4-11e7-bab8-0242ac120002",
     "next": "963c83d4-ccf6-11e7-84d7-0242ac120003",
     "previous": "c4cc1e20-cdc4-11e7-bab8-0242ac120002"
    }
   },
   "source": [
    "vyosには3つのネットワークを繋ぐが、docker-composeの挙動により、default以外のネットワークがコンテナにアタッチされる順番が保証されず、ネットワークとinterfaceの対応関係が固定されない（順序を固定する方法が見つからなかった）。そこで、wireのアタッチをコンテナ起動後に追加設定として行う。\n",
    "\n",
    "因みに、docker createして、ネットワークをアタッチして、startさせる場合は、bridgeネットワークの名前順で認識される。dokcerの使われ方の主流では、デバイスとか気にしない感じで問題ないので、この辺の作りがイマイチなままなんだろうな。"
   ]
  },
  {
   "cell_type": "code",
   "execution_count": null,
   "metadata": {
    "hidden": true,
    "lc_cell_meme": {
     "current": "963c83d4-ccf6-11e7-84d7-0242ac120003",
     "history": [
      {
       "current": "963c83d4-ccf6-11e7-84d7-0242ac120003",
       "next": "fc8cfe3c-cb68-11e7-ab92-0242ac120003",
       "previous": "9ebd3e4e-cb5d-11e7-ab92-0242ac120003"
      }
     ],
     "next": "fc8cfe3c-cb68-11e7-ab92-0242ac120003",
     "previous": "c4cc2474-cdc4-11e7-bab8-0242ac120002"
    },
    "pinned_outputs": [
     {
      "execution_count": 2,
      "outputs": [
       {
        "name": "stdout",
        "output_type": "stream",
        "text": "eth0      Link encap:Ethernet  HWaddr 02:42:ac:12:00:03  \r\n          inet addr:172.18.0.3  Bcast:0.0.0.0  Mask:255.255.0.0\r\n          UP BROADCAST RUNNING MULTICAST  MTU:1500  Metric:1\r\n          RX packets:33 errors:0 dropped:0 overruns:0 frame:0\r\n          TX packets:0 errors:0 dropped:0 overruns:0 carrier:0\r\n          collisions:0 txqueuelen:0 \r\n          RX bytes:3290 (3.2 KiB)  TX bytes:0 (0.0 B)\r\n\r\neth1      Link encap:Ethernet  HWaddr 02:42:c0:a8:0e:03  \r\n          inet addr:192.168.14.3  Bcast:0.0.0.0  Mask:255.255.255.0\r\n          UP BROADCAST RUNNING MULTICAST  MTU:1500  Metric:1\r\n          RX packets:34 errors:0 dropped:0 overruns:0 frame:0\r\n          TX packets:0 errors:0 dropped:0 overruns:0 carrier:0\r\n          collisions:0 txqueuelen:0 \r\n          RX bytes:3104 (3.0 KiB)  TX bytes:0 (0.0 B)\r\n\r\nlo        Link encap:Local Loopback  \r\n          inet addr:127.0.0.1  Mask:255.0.0.0\r\n          UP LOOPBACK RUNNING  MTU:65536  Metric:1\r\n          RX packets:2226 errors:0 dropped:0 overruns:0 frame:0\r\n          TX packets:2226 errors:0 dropped:0 overruns:0 carrier:0\r\n          collisions:0 txqueuelen:1 \r\n          RX bytes:115908 (113.1 KiB)  TX bytes:115908 (113.1 KiB)\r\n\r\n"
       }
      ]
     }
    ]
   },
   "outputs": [],
   "source": [
    "!sudo docker exec vyos ifconfig"
   ]
  },
  {
   "cell_type": "code",
   "execution_count": null,
   "metadata": {
    "hidden": true,
    "lc_cell_meme": {
     "current": "fc8cfe3c-cb68-11e7-ab92-0242ac120003",
     "history": [
      {
       "current": "fc8cfe3c-cb68-11e7-ab92-0242ac120003",
       "next": null,
       "previous": "381d521a-cb66-11e7-ab92-0242ac120003"
      },
      {
       "current": "fc8cfe3c-cb68-11e7-ab92-0242ac120003",
       "next": null,
       "previous": "e6351f44-cb5d-11e7-ab92-0242ac120003"
      }
     ],
     "next": "963c894c-ccf6-11e7-84d7-0242ac120003",
     "previous": "963c83d4-ccf6-11e7-84d7-0242ac120003"
    },
    "pinned_outputs": [
     {
      "execution_count": 3,
      "outputs": [
       {
        "name": "stdout",
        "output_type": "stream",
        "text": "NETWORK ID          NAME                DRIVER              SCOPE\r\n6038541de77b        bridge              bridge              local\r\n3b9c79d243c1        host                host                local\r\n6c3e5aba58a0        none                null                local\r\n68e2fc9f2058        root_default        bridge              local\r\na3748acabd74        root_wifi           bridge              local\r\n63483570b427        root_wire           bridge              local\r\n"
       }
      ]
     }
    ]
   },
   "outputs": [],
   "source": [
    "!sudo docker network ls"
   ]
  },
  {
   "cell_type": "code",
   "execution_count": null,
   "metadata": {
    "hidden": true,
    "lc_cell_meme": {
     "current": "963c894c-ccf6-11e7-84d7-0242ac120003",
     "history": [
      {
       "current": "963c894c-ccf6-11e7-84d7-0242ac120003",
       "next": "e6351f44-cb5d-11e7-ab92-0242ac120003",
       "previous": "fc8cfe3c-cb68-11e7-ab92-0242ac120003"
      }
     ],
     "next": "963c894c-ccf6-11e7-84d7-0242ac120003",
     "previous": "fc8cfe3c-cb68-11e7-ab92-0242ac120003"
    }
   },
   "outputs": [],
   "source": [
    "!sudo docker network connect root_wire vyos"
   ]
  },
  {
   "cell_type": "code",
   "execution_count": null,
   "metadata": {
    "hidden": true,
    "lc_cell_meme": {
     "current": "963c894c-ccf6-11e7-84d7-0242ac120003",
     "history": [
      {
       "current": "963c894c-ccf6-11e7-84d7-0242ac120003",
       "next": "e6351f44-cb5d-11e7-ab92-0242ac120003",
       "previous": "fc8cfe3c-cb68-11e7-ab92-0242ac120003"
      },
      {
       "current": "963c894c-ccf6-11e7-84d7-0242ac120003",
       "next": "e6351f44-cb5d-11e7-ab92-0242ac120003",
       "previous": "963c894c-ccf6-11e7-84d7-0242ac120003"
      },
      {
       "current": "963c894c-ccf6-11e7-84d7-0242ac120003",
       "next": "a1769c32-cdb2-11e7-bab8-0242ac120002",
       "previous": "963c894c-ccf6-11e7-84d7-0242ac120003"
      }
     ],
     "next": "71f5386a-cdc6-11e7-bab8-0242ac120002",
     "previous": "963c894c-ccf6-11e7-84d7-0242ac120003"
    },
    "pinned_outputs": [
     {
      "execution_count": 5,
      "outputs": [
       {
        "name": "stdout",
        "output_type": "stream",
        "text": "eth0      Link encap:Ethernet  HWaddr 02:42:ac:12:00:03  \r\n          inet addr:172.18.0.3  Bcast:0.0.0.0  Mask:255.255.0.0\r\n          UP BROADCAST RUNNING MULTICAST  MTU:1500  Metric:1\r\n          RX packets:33 errors:0 dropped:0 overruns:0 frame:0\r\n          TX packets:0 errors:0 dropped:0 overruns:0 carrier:0\r\n          collisions:0 txqueuelen:0 \r\n          RX bytes:3290 (3.2 KiB)  TX bytes:0 (0.0 B)\r\n\r\neth1      Link encap:Ethernet  HWaddr 02:42:c0:a8:0e:03  \r\n          inet addr:192.168.14.3  Bcast:0.0.0.0  Mask:255.255.255.0\r\n          UP BROADCAST RUNNING MULTICAST  MTU:1500  Metric:1\r\n          RX packets:34 errors:0 dropped:0 overruns:0 frame:0\r\n          TX packets:0 errors:0 dropped:0 overruns:0 carrier:0\r\n          collisions:0 txqueuelen:0 \r\n          RX bytes:3104 (3.0 KiB)  TX bytes:0 (0.0 B)\r\n\r\neth2      Link encap:Ethernet  HWaddr 02:42:c0:a8:13:03  \r\n          inet addr:192.168.19.3  Bcast:0.0.0.0  Mask:255.255.255.0\r\n          UP BROADCAST RUNNING MULTICAST  MTU:1500  Metric:1\r\n          RX packets:12 errors:0 dropped:0 overruns:0 frame:0\r\n          TX packets:0 errors:0 dropped:0 overruns:0 carrier:0\r\n          collisions:0 txqueuelen:0 \r\n          RX bytes:1552 (1.5 KiB)  TX bytes:0 (0.0 B)\r\n\r\nlo        Link encap:Local Loopback  \r\n          inet addr:127.0.0.1  Mask:255.0.0.0\r\n          UP LOOPBACK RUNNING  MTU:65536  Metric:1\r\n          RX packets:2232 errors:0 dropped:0 overruns:0 frame:0\r\n          TX packets:2232 errors:0 dropped:0 overruns:0 carrier:0\r\n          collisions:0 txqueuelen:1 \r\n          RX bytes:116208 (113.4 KiB)  TX bytes:116208 (113.4 KiB)\r\n\r\n"
       }
      ]
     }
    ]
   },
   "outputs": [],
   "source": [
    "!sudo docker exec vyos ifconfig"
   ]
  },
  {
   "cell_type": "markdown",
   "metadata": {
    "hidden": true,
    "lc_cell_meme": {
     "current": "71f5386a-cdc6-11e7-bab8-0242ac120002",
     "next": "e6351f44-cb5d-11e7-ab92-0242ac120003",
     "previous": "963c894c-ccf6-11e7-84d7-0242ac120003"
    }
   },
   "source": [
    "vyosのルータ設定はansible経由で行う。connection:dockerで接続するため、vyos_configが使えないので、スクリプトファイルをコピーしてシェル実行する。併せて、docker execからvyosのコマンドを叩くためのスクリプトファイルもコピーしておく。\n",
    "\n",
    "[vyosの設定](/edit/wifi/vyos-setup.vsh)\n",
    "\n",
    "[コマンドのラッパ](/edit/wifi/run-command.sh)"
   ]
  },
  {
   "cell_type": "code",
   "execution_count": null,
   "metadata": {
    "hidden": true,
    "lc_cell_meme": {
     "current": "e6351f44-cb5d-11e7-ab92-0242ac120003",
     "history": [
      {
       "current": "e6351f44-cb5d-11e7-ab92-0242ac120003",
       "next": null,
       "previous": "9ebd3e4e-cb5d-11e7-ab92-0242ac120003"
      },
      {
       "current": "e6351f44-cb5d-11e7-ab92-0242ac120003",
       "next": "bcc9fa02-cb5e-11e7-ab92-0242ac120003",
       "previous": "9ebd3e4e-cb5d-11e7-ab92-0242ac120003"
      },
      {
       "current": "e6351f44-cb5d-11e7-ab92-0242ac120003",
       "next": null,
       "previous": "bcc9fa02-cb5e-11e7-ab92-0242ac120003"
      },
      {
       "current": "e6351f44-cb5d-11e7-ab92-0242ac120003",
       "next": "381d521a-cb66-11e7-ab92-0242ac120003",
       "previous": "bcc9fa02-cb5e-11e7-ab92-0242ac120003"
      },
      {
       "current": "e6351f44-cb5d-11e7-ab92-0242ac120003",
       "next": "fc8cfe3c-cb68-11e7-ab92-0242ac120003",
       "previous": "9ebd3e4e-cb5d-11e7-ab92-0242ac120003"
      },
      {
       "current": "e6351f44-cb5d-11e7-ab92-0242ac120003",
       "next": null,
       "previous": "963c894c-ccf6-11e7-84d7-0242ac120003"
      },
      {
       "current": "e6351f44-cb5d-11e7-ab92-0242ac120003",
       "next": "0bbc97ac-cd01-11e7-b777-0242ac120002",
       "previous": "963c894c-ccf6-11e7-84d7-0242ac120003"
      },
      {
       "current": "e6351f44-cb5d-11e7-ab92-0242ac120003",
       "next": "a1769c32-cdb2-11e7-bab8-0242ac120002",
       "previous": "963c894c-ccf6-11e7-84d7-0242ac120003"
      },
      {
       "current": "e6351f44-cb5d-11e7-ab92-0242ac120003",
       "next": "0bbc97ac-cd01-11e7-b777-0242ac120002",
       "previous": "a1769c32-cdb2-11e7-bab8-0242ac120002"
      },
      {
       "current": "e6351f44-cb5d-11e7-ab92-0242ac120003",
       "next": "7809af3c-cdb3-11e7-bab8-0242ac120002",
       "previous": "a1769c32-cdb2-11e7-bab8-0242ac120002"
      },
      {
       "current": "e6351f44-cb5d-11e7-ab92-0242ac120003",
       "next": "c4cc2938-cdc4-11e7-bab8-0242ac120002",
       "previous": "a1769c32-cdb2-11e7-bab8-0242ac120002"
      }
     ],
     "next": "a1769c32-cdb2-11e7-bab8-0242ac120002",
     "previous": "71f5386a-cdc6-11e7-bab8-0242ac120002"
    },
    "pinned_outputs": [
     {
      "execution_count": 6,
      "outputs": [
       {
        "name": "stdout",
        "output_type": "stream",
        "text": "\nPLAY [vyos] ********************************************************************\n\nTASK [copy] ********************************************************************\n\u001b[0;33mchanged: [vyos]\u001b[0m\n\nTASK [command] *****************************************************************\n\u001b[0;33mchanged: [vyos]\u001b[0m\n\nTASK [copy] ********************************************************************\n\u001b[0;33mchanged: [vyos]\u001b[0m\n\nPLAY RECAP *********************************************************************\n\u001b[0;33mvyos\u001b[0m                       : \u001b[0;32mok=3   \u001b[0m \u001b[0;33mchanged=3   \u001b[0m unreachable=0    failed=0   \n\n"
       }
      ]
     }
    ]
   },
   "outputs": [],
   "source": [
    "!sudo ansible-playbook -i vyos, vyos-setup.yml"
   ]
  },
  {
   "cell_type": "code",
   "execution_count": null,
   "metadata": {
    "hidden": true,
    "lc_cell_meme": {
     "current": "a1769c32-cdb2-11e7-bab8-0242ac120002",
     "history": [
      {
       "current": "a1769c32-cdb2-11e7-bab8-0242ac120002",
       "next": "0bbc97ac-cd01-11e7-b777-0242ac120002",
       "previous": "e6351f44-cb5d-11e7-ab92-0242ac120003"
      },
      {
       "current": "a1769c32-cdb2-11e7-bab8-0242ac120002",
       "next": "e6351f44-cb5d-11e7-ab92-0242ac120003",
       "previous": "963c894c-ccf6-11e7-84d7-0242ac120003"
      },
      {
       "current": "a1769c32-cdb2-11e7-bab8-0242ac120002",
       "next": "c4cc2938-cdc4-11e7-bab8-0242ac120002",
       "previous": "e6351f44-cb5d-11e7-ab92-0242ac120003"
      }
     ],
     "next": "1f1d2a92-cdc8-11e7-bab8-0242ac120002",
     "previous": "e6351f44-cb5d-11e7-ab92-0242ac120003"
    },
    "pinned_outputs": [
     {
      "execution_count": 7,
      "outputs": [
       {
        "name": "stdout",
        "output_type": "stream",
        "text": "Codes: S - State, L - Link, u - Up, D - Down, A - Admin Down\nInterface        IP Address                        S/L  Description\n---------        ----------                        ---  -----------\neth0             172.18.0.3/16                     u/u  \neth1             192.168.14.3/24                   u/u  \neth2             192.168.19.3/24                   u/u  \nlo               127.0.0.1/8                       u/u  \n"
       }
      ]
     }
    ]
   },
   "outputs": [],
   "source": [
    "!sudo docker exec --user vyos vyos /home/vyos/run-command.sh show interfaces"
   ]
  },
  {
   "cell_type": "markdown",
   "metadata": {
    "hidden": true,
    "lc_cell_meme": {
     "current": "1f1d2a92-cdc8-11e7-bab8-0242ac120002",
     "next": "c4cc2938-cdc4-11e7-bab8-0242ac120002",
     "previous": "a1769c32-cdb2-11e7-bab8-0242ac120002"
    }
   },
   "source": [
    "因みに、VyOSは実質Debianなので、interfaceが絡んだ機能（例えば、FireWallやQoS）は、OSのネットワーク設定で実現されている。このため、本事例のようにコンテナで利用すると、ネットワークデバイスが完全仮想化されていないことから、ネットワーク関連の機能のいくつかが動作しない。vyosにdocker execしてドヤ顔するのが不要で、そこそこのスペックのマシンが用意できるなら、普通にxenとか使った完全仮想化の方が、トラブルも少ないだろう。"
   ]
  },
  {
   "cell_type": "markdown",
   "metadata": {
    "heading_collapsed": true,
    "lc_cell_meme": {
     "current": "c4cc2938-cdc4-11e7-bab8-0242ac120002",
     "history": [
      {
       "current": "c4cc2938-cdc4-11e7-bab8-0242ac120002",
       "next": "c4cc2dca-cdc4-11e7-bab8-0242ac120002",
       "previous": "e6351f44-cb5d-11e7-ab92-0242ac120003"
      },
      {
       "current": "c4cc2938-cdc4-11e7-bab8-0242ac120002",
       "next": "c4cc2dca-cdc4-11e7-bab8-0242ac120002",
       "previous": "a1769c32-cdb2-11e7-bab8-0242ac120002"
      }
     ],
     "next": "c4cc2dca-cdc4-11e7-bab8-0242ac120002",
     "previous": "1f1d2a92-cdc8-11e7-bab8-0242ac120002"
    }
   },
   "source": [
    "# Aironetの設定"
   ]
  },
  {
   "cell_type": "markdown",
   "metadata": {
    "hidden": true,
    "lc_cell_meme": {
     "current": "c4cc2dca-cdc4-11e7-bab8-0242ac120002",
     "next": "7809af3c-cdb3-11e7-bab8-0242ac120002",
     "previous": "c4cc2938-cdc4-11e7-bab8-0242ac120002"
    }
   },
   "source": [
    "工場出荷時設定のAironet1140を2台、wifiのネットワークに繋ぐ。vyosの設定に、macアドレスに対して固定のIPアドレスを払い出すように書いてあるので、Aironetがそのアドレスを掴めたか確認する。起動にそこそこ時間がかかるので、時間を空けて何度か試すこと。"
   ]
  },
  {
   "cell_type": "code",
   "execution_count": null,
   "metadata": {
    "hidden": true,
    "lc_cell_meme": {
     "current": "7809af3c-cdb3-11e7-bab8-0242ac120002",
     "history": [
      {
       "current": "7809af3c-cdb3-11e7-bab8-0242ac120002",
       "next": "0bbc97ac-cd01-11e7-b777-0242ac120002",
       "previous": "e6351f44-cb5d-11e7-ab92-0242ac120003"
      },
      {
       "current": "7809af3c-cdb3-11e7-bab8-0242ac120002",
       "next": "0bbc97ac-cd01-11e7-b777-0242ac120002",
       "previous": "c4cc2dca-cdc4-11e7-bab8-0242ac120002"
      }
     ],
     "next": "31e60498-cdcb-11e7-bab8-0242ac120002",
     "previous": "c4cc2dca-cdc4-11e7-bab8-0242ac120002"
    },
    "pinned_outputs": [
     {
      "execution_count": 8,
      "outputs": [
       {
        "name": "stdout",
        "output_type": "stream",
        "text": "PING 192.168.14.64 (192.168.14.64): 56 data bytes\n64 bytes from 192.168.14.64: icmp_seq=0 ttl=255 time=2.458 ms\n64 bytes from 192.168.14.64: icmp_seq=1 ttl=255 time=1.132 ms\n64 bytes from 192.168.14.64: icmp_seq=2 ttl=255 time=1.263 ms\n64 bytes from 192.168.14.64: icmp_seq=3 ttl=255 time=1.190 ms\n--- 192.168.14.64 ping statistics ---\n4 packets transmitted, 4 packets received, 0% packet loss\nround-trip min/avg/max/stddev = 1.132/1.511/2.458/0.549 ms\nPING 192.168.14.83 (192.168.14.83): 56 data bytes\n64 bytes from 192.168.14.83: icmp_seq=0 ttl=255 time=2.467 ms\n64 bytes from 192.168.14.83: icmp_seq=1 ttl=255 time=1.232 ms\n64 bytes from 192.168.14.83: icmp_seq=2 ttl=255 time=1.205 ms\n64 bytes from 192.168.14.83: icmp_seq=3 ttl=255 time=1.155 ms\n--- 192.168.14.83 ping statistics ---\n4 packets transmitted, 4 packets received, 0% packet loss\nround-trip min/avg/max/stddev = 1.155/1.515/2.467/0.550 ms\n"
       }
      ]
     }
    ]
   },
   "outputs": [],
   "source": [
    "!ping -c 4 192.168.14.64\n",
    "!ping -c 4 192.168.14.83"
   ]
  },
  {
   "cell_type": "markdown",
   "metadata": {
    "hidden": true,
    "lc_cell_meme": {
     "current": "31e60498-cdcb-11e7-bab8-0242ac120002",
     "next": "0bbc97ac-cd01-11e7-b777-0242ac120002",
     "previous": "7809af3c-cdb3-11e7-bab8-0242ac120002"
    }
   },
   "source": [
    "工場出荷時設定のAironetは、telnetでデフォルトアカウントで入れるようになっているので、新規のアカウントで、sshでしか入れないように設定する。\n",
    "\n",
    "[playbook](/edit/wifi/aironet-setup.yml)"
   ]
  },
  {
   "cell_type": "code",
   "execution_count": null,
   "metadata": {
    "hidden": true,
    "lc_cell_meme": {
     "current": "0bbc97ac-cd01-11e7-b777-0242ac120002",
     "history": [
      {
       "current": "0bbc97ac-cd01-11e7-b777-0242ac120002",
       "next": "0bbc9e82-cd01-11e7-b777-0242ac120002",
       "previous": "e6351f44-cb5d-11e7-ab92-0242ac120003"
      },
      {
       "current": "0bbc97ac-cd01-11e7-b777-0242ac120002",
       "next": "e25549c6-cd01-11e7-b777-0242ac120002",
       "previous": "e6351f44-cb5d-11e7-ab92-0242ac120003"
      },
      {
       "current": "0bbc97ac-cd01-11e7-b777-0242ac120002",
       "next": "e25549c6-cd01-11e7-b777-0242ac120002",
       "previous": "a1769c32-cdb2-11e7-bab8-0242ac120002"
      },
      {
       "current": "0bbc97ac-cd01-11e7-b777-0242ac120002",
       "next": "e25549c6-cd01-11e7-b777-0242ac120002",
       "previous": "e6351f44-cb5d-11e7-ab92-0242ac120003"
      },
      {
       "current": "0bbc97ac-cd01-11e7-b777-0242ac120002",
       "next": "e25549c6-cd01-11e7-b777-0242ac120002",
       "previous": "7809af3c-cdb3-11e7-bab8-0242ac120002"
      }
     ],
     "next": "e25549c6-cd01-11e7-b777-0242ac120002",
     "previous": "31e60498-cdcb-11e7-bab8-0242ac120002"
    },
    "pinned_outputs": [
     {
      "execution_count": 9,
      "outputs": [
       {
        "name": "stdout",
        "output_type": "stream",
        "text": "\nPLAY [all] *********************************************************************\n\nTASK [telnet] ******************************************************************\n\u001b[0;33mchanged: [192.168.14.64]\u001b[0m\n\u001b[0;33mchanged: [192.168.14.83]\u001b[0m\n\nPLAY RECAP *********************************************************************\n\u001b[0;33m192.168.14.64\u001b[0m              : \u001b[0;32mok=1   \u001b[0m \u001b[0;33mchanged=1   \u001b[0m unreachable=0    failed=0   \n\u001b[0;33m192.168.14.83\u001b[0m              : \u001b[0;32mok=1   \u001b[0m \u001b[0;33mchanged=1   \u001b[0m unreachable=0    failed=0   \n\n"
       }
      ]
     }
    ]
   },
   "outputs": [],
   "source": [
    "!ansible-playbook -i 192.168.14.64,192.168.14.83, aironet-setup.yml -t ssh-setup"
   ]
  },
  {
   "cell_type": "markdown",
   "metadata": {
    "hidden": true,
    "lc_cell_meme": {
     "current": "e25549c6-cd01-11e7-b777-0242ac120002",
     "history": [
      {
       "current": "e25549c6-cd01-11e7-b777-0242ac120002",
       "next": null,
       "previous": "0bbc9e82-cd01-11e7-b777-0242ac120002"
      }
     ],
     "next": "0bbc9e82-cd01-11e7-b777-0242ac120002",
     "previous": "0bbc97ac-cd01-11e7-b777-0242ac120002"
    }
   },
   "source": [
    "## known_hostsにfingerprint 覚えさせる部分は手作業\n",
    "\n",
    "ansibleがAironetにsshするためにknown_hostsにfingerprintを覚えさせる必要があります。ansibleの設定で自動登録できるらしいのですが、jupyter内に入れてあるansibleのバージョンの問題か、動作しなかったので、terminalからの手作業で対応します。playbook内のアカウントを確認して、[一覧ページ](/tree/wifi)の右上「New」-「Terminal」からterminalを開いて、ssh接続を行ってください。\n",
    "\n",
    "```\n",
    "$ ssh wifiuser@192.168.14.64\n",
    "```\n",
    "\n",
    "Aironetへのssh接続でfingerprintの確認が出ない状態にできたら、アクセスポイントの設定を行えます。"
   ]
  },
  {
   "cell_type": "code",
   "execution_count": null,
   "metadata": {
    "hidden": true,
    "lc_cell_meme": {
     "current": "0bbc9e82-cd01-11e7-b777-0242ac120002",
     "history": [
      {
       "current": "0bbc9e82-cd01-11e7-b777-0242ac120002",
       "next": null,
       "previous": "0bbc97ac-cd01-11e7-b777-0242ac120002"
      },
      {
       "current": "0bbc9e82-cd01-11e7-b777-0242ac120002",
       "next": "e25549c6-cd01-11e7-b777-0242ac120002",
       "previous": "0bbc97ac-cd01-11e7-b777-0242ac120002"
      },
      {
       "current": "0bbc9e82-cd01-11e7-b777-0242ac120002",
       "next": null,
       "previous": "e25549c6-cd01-11e7-b777-0242ac120002"
      },
      {
       "current": "0bbc9e82-cd01-11e7-b777-0242ac120002",
       "next": "4e9d981a-cdb4-11e7-bab8-0242ac120002",
       "previous": "e25549c6-cd01-11e7-b777-0242ac120002"
      }
     ],
     "next": "44ad7ebe-cdce-11e7-bab8-0242ac120002",
     "previous": "e25549c6-cd01-11e7-b777-0242ac120002"
    },
    "pinned_outputs": [
     {
      "execution_count": 10,
      "outputs": [
       {
        "name": "stdout",
        "output_type": "stream",
        "text": "\nPLAY [all] *********************************************************************\n\nTASK [ios_config] **************************************************************\n\u001b[0;33mchanged: [192.168.14.83]\u001b[0m\n\u001b[0;33mchanged: [192.168.14.64]\u001b[0m\n\nTASK [ios_config] **************************************************************\n\u001b[0;33mchanged: [192.168.14.83]\u001b[0m\n\u001b[0;33mchanged: [192.168.14.64]\u001b[0m\n\nTASK [ios_config] **************************************************************\n\u001b[0;33mchanged: [192.168.14.64]\u001b[0m\n\u001b[0;33mchanged: [192.168.14.83]\u001b[0m\n\nTASK [ios_config] **************************************************************\n\u001b[0;33mchanged: [192.168.14.83]\u001b[0m\n\u001b[0;33mchanged: [192.168.14.64]\u001b[0m\n\nTASK [ios_config] **************************************************************\n\u001b[0;33mchanged: [192.168.14.83]\u001b[0m\n\u001b[0;33mchanged: [192.168.14.64]\u001b[0m\n\nTASK [ios_config] **************************************************************\n\u001b[0;33mchanged: [192.168.14.64]\u001b[0m\n\u001b[0;33mchanged: [192.168.14.83]\u001b[0m\n\nPLAY RECAP *********************************************************************\n\u001b[0;33m192.168.14.64\u001b[0m              : \u001b[0;32mok=6   \u001b[0m \u001b[0;33mchanged=6   \u001b[0m unreachable=0    failed=0   \n\u001b[0;33m192.168.14.83\u001b[0m              : \u001b[0;32mok=6   \u001b[0m \u001b[0;33mchanged=6   \u001b[0m unreachable=0    failed=0   \n\n"
       }
      ]
     }
    ],
    "scrolled": true
   },
   "outputs": [],
   "source": [
    "!ansible-playbook -i 192.168.14.64,192.168.14.83, aironet-setup.yml -t setup"
   ]
  },
  {
   "cell_type": "markdown",
   "metadata": {
    "lc_cell_meme": {
     "current": "44ad7ebe-cdce-11e7-bab8-0242ac120002",
     "next": "4e9d981a-cdb4-11e7-bab8-0242ac120002",
     "previous": "0bbc9e82-cd01-11e7-b777-0242ac120002"
    }
   },
   "source": [
    "# 接続の確認"
   ]
  },
  {
   "cell_type": "markdown",
   "metadata": {
    "lc_cell_meme": {
     "current": "4e9d981a-cdb4-11e7-bab8-0242ac120002",
     "history": [
      {
       "current": "4e9d981a-cdb4-11e7-bab8-0242ac120002",
       "next": null,
       "previous": "0bbc9e82-cd01-11e7-b777-0242ac120002"
      }
     ],
     "next": null,
     "previous": "44ad7ebe-cdce-11e7-bab8-0242ac120002"
    }
   },
   "source": [
    "wifiで繋いだり、有線で繋いだりして、インターネットへの接続が行えることを確認します。"
   ]
  }
 ],
 "metadata": {
  "kernelspec": {
   "display_name": "Python 3",
   "language": "python",
   "name": "python3"
  },
  "language_info": {
   "codemirror_mode": {
    "name": "ipython",
    "version": 3
   },
   "file_extension": ".py",
   "mimetype": "text/x-python",
   "name": "python",
   "nbconvert_exporter": "python",
   "pygments_lexer": "ipython3",
   "version": "3.5.2"
  },
  "lc_notebook_meme": {
   "current": "9ebd387c-cb5d-11e7-ab92-0242ac120003",
   "lc_server_signature": {
    "current": {
     "notebook_dir": "/notebooks",
     "notebook_path": "/wifi",
     "server_url": "http://172.18.0.2:8888/",
     "signature_id": "30b66460-cdd4-11e7-a50a-0242ac120002"
    },
    "history": [
     {
      "notebook_dir": "/notebooks",
      "notebook_path": "/wifi",
      "server_url": "http://172.18.0.3:8888/",
      "signature_id": "3fb2b046-cb5d-11e7-ab92-0242ac120003"
     },
     {
      "notebook_dir": "/notebooks",
      "notebook_path": "/wifi",
      "server_url": "http://172.18.0.3:8888/",
      "signature_id": "f71c8e3e-cb6a-11e7-8aa9-0242ac120003"
     },
     {
      "notebook_dir": "/notebooks",
      "notebook_path": "/wifi",
      "server_url": "http://172.18.0.3:8888/",
      "signature_id": "9bd36a48-ccf5-11e7-84d7-0242ac120003"
     },
     {
      "notebook_dir": "/notebooks",
      "notebook_path": "/wifi",
      "server_url": "http://172.18.0.2:8888/",
      "signature_id": "6d4fc832-cd00-11e7-b777-0242ac120002"
     },
     {
      "notebook_dir": "/notebooks",
      "notebook_path": "/wifi",
      "server_url": "http://172.18.0.2:8888/",
      "signature_id": "3d80d954-cdb2-11e7-bab8-0242ac120002"
     }
    ]
   }
  },
  "toc": {
   "nav_menu": {},
   "number_sections": true,
   "sideBar": true,
   "skip_h1_title": false,
   "toc_cell": false,
   "toc_position": {},
   "toc_section_display": "block",
   "toc_window_display": false
  }
 },
 "nbformat": 4,
 "nbformat_minor": 2
}

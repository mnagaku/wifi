{
 "cells": [
  {
   "cell_type": "markdown",
   "metadata": {
    "heading_collapsed": true,
    "lc_cell_meme": {
     "current": "102e8fee-cdbe-11e7-bab8-0242ac120002",
     "next": "102e97be-cdbe-11e7-bab8-0242ac120002",
     "previous": null
    }
   },
   "source": [
    "# 前提条件"
   ]
  },
  {
   "cell_type": "markdown",
   "metadata": {
    "hidden": true,
    "lc_cell_meme": {
     "current": "102e97be-cdbe-11e7-bab8-0242ac120002",
     "history": [
      {
       "current": "102e97be-cdbe-11e7-bab8-0242ac120002",
       "next": "102e9ca0-cdbe-11e7-bab8-0242ac120002",
       "previous": "102e8fee-cdbe-11e7-bab8-0242ac120002"
      },
      {
       "current": "102e97be-cdbe-11e7-bab8-0242ac120002",
       "next": "102e97be-cdbe-11e7-bab8-0242ac120002",
       "previous": "102e8fee-cdbe-11e7-bab8-0242ac120002"
      },
      {
       "current": "102e97be-cdbe-11e7-bab8-0242ac120002",
       "next": "aaadf4f8-d8b1-11e7-9867-0242ac120002",
       "previous": "102e8fee-cdbe-11e7-bab8-0242ac120002"
      },
      {
       "current": "102e97be-cdbe-11e7-bab8-0242ac120002",
       "next": "5ec8d2d2-d8cb-11e7-9867-0242ac120002",
       "previous": "102e8fee-cdbe-11e7-bab8-0242ac120002"
      }
     ],
     "next": "aaadf4f8-d8b1-11e7-9867-0242ac120002",
     "previous": "102e8fee-cdbe-11e7-bab8-0242ac120002"
    }
   },
   "source": [
    "## ホストマシンに物理NICが3つあって、1つは上流に接続、2つはブリッジに繋がった状態であること\n",
    "\n",
    "/etc/network/interfacesの例\n",
    "```\n",
    "auto lo\n",
    "iface lo inet loopback\n",
    "\n",
    "# 1つは上流に接続\n",
    "auto eth0\n",
    "iface eth0 inet dhcp\n",
    "\n",
    "# 2つはブリッジに繋がった状態\n",
    "auto enx14\n",
    "iface enx14 inet manual\n",
    "\n",
    "auto enx19\n",
    "iface enx19 inet manual\n",
    "\n",
    "auto br14\n",
    "iface br14 inet static\n",
    "address 192.168.14.1\n",
    "netmask 255.255.255.0\n",
    "bridge_ports enx14\n",
    "bridge_maxwait 0\n",
    "bridge_fd 0\n",
    "bridge_stp off\n",
    "\n",
    "auto br19\n",
    "iface br19 inet static\n",
    "address 192.168.19.1\n",
    "netmask 255.255.255.0\n",
    "bridge_ports enx19\n",
    "bridge_maxwait 0\n",
    "bridge_fd 0\n",
    "bridge_stp off\n",
    "\n",
    "```\n",
    "\n",
    "jupiterは3つのネットワークを全て繋ぐ設定で起動しているので、192.168.14.0/24と192.168.19.0/24のネットワークに繋がったインタフェースが見えていることと、上流への疎通があってインターネットに出れることを確認しておく。"
   ]
  },
  {
   "cell_type": "code",
   "execution_count": null,
   "metadata": {
    "hidden": true,
    "lc_cell_meme": {
     "current": "aaadf4f8-d8b1-11e7-9867-0242ac120002",
     "history": [
      {
       "current": "aaadf4f8-d8b1-11e7-9867-0242ac120002",
       "next": "102e97be-cdbe-11e7-bab8-0242ac120002",
       "previous": "102e97be-cdbe-11e7-bab8-0242ac120002"
      },
      {
       "current": "aaadf4f8-d8b1-11e7-9867-0242ac120002",
       "next": "102e97be-cdbe-11e7-bab8-0242ac120002",
       "previous": "5ec8d2d2-d8cb-11e7-9867-0242ac120002"
      }
     ],
     "next": "102e97be-cdbe-11e7-bab8-0242ac120002",
     "previous": "102e97be-cdbe-11e7-bab8-0242ac120002"
    },
    "pinned_outputs": [
     {
      "execution_count": 1,
      "outputs": [
       {
        "name": "stdout",
        "output_type": "stream",
        "text": "1: lo: <LOOPBACK,UP,LOWER_UP> mtu 65536 qdisc noqueue state UNKNOWN group default qlen 1\n    link/loopback 00:00:00:00:00:00 brd 00:00:00:00:00:00\n    inet 127.0.0.1/8 scope host lo\n       valid_lft forever preferred_lft forever\n30: eth0@if31: <BROADCAST,MULTICAST,UP,LOWER_UP> mtu 1500 qdisc noqueue state UP group default \n    link/ether 02:42:ac:12:00:02 brd ff:ff:ff:ff:ff:ff\n    inet 172.18.0.2/16 scope global eth0\n       valid_lft forever preferred_lft forever\n32: eth1@if33: <BROADCAST,MULTICAST,UP,LOWER_UP> mtu 1500 qdisc noqueue state UP group default \n    link/ether 02:42:c0:a8:13:02 brd ff:ff:ff:ff:ff:ff\n    inet 192.168.19.2/24 scope global eth1\n       valid_lft forever preferred_lft forever\n34: eth2@if35: <BROADCAST,MULTICAST,UP,LOWER_UP> mtu 1500 qdisc noqueue state UP group default \n    link/ether 02:42:c0:a8:0e:02 brd ff:ff:ff:ff:ff:ff\n    inet 192.168.14.2/24 scope global eth2\n       valid_lft forever preferred_lft forever\nPING yahoo.jp (183.79.227.111): 56 data bytes\n64 bytes from 183.79.227.111: icmp_seq=0 ttl=55 time=12.169 ms\n64 bytes from 183.79.227.111: icmp_seq=1 ttl=55 time=12.261 ms\n64 bytes from 183.79.227.111: icmp_seq=2 ttl=55 time=12.072 ms\n64 bytes from 183.79.227.111: icmp_seq=3 ttl=55 time=12.057 ms\n--- yahoo.jp ping statistics ---\n4 packets transmitted, 4 packets received, 0% packet loss\nround-trip min/avg/max/stddev = 12.057/12.140/12.261/0.082 ms\n"
       }
      ]
     }
    ]
   },
   "outputs": [],
   "source": [
    "!ip a\n",
    "!test $(ip a | grep 192.168.14 | wc -l) -eq 1\n",
    "!test $(ip a | grep 192.168.19 | wc -l) -eq 1\n",
    "\n",
    "!ping -c 4 yahoo.jp\n",
    "!test $(ping -c 4 yahoo.jp | grep \"4 packets received\" | wc -l) -eq 1"
   ]
  },
  {
   "cell_type": "markdown",
   "metadata": {
    "hidden": true,
    "lc_cell_meme": {
     "current": "102e97be-cdbe-11e7-bab8-0242ac120002",
     "history": [
      {
       "current": "102e97be-cdbe-11e7-bab8-0242ac120002",
       "next": "102e9ca0-cdbe-11e7-bab8-0242ac120002",
       "previous": "102e8fee-cdbe-11e7-bab8-0242ac120002"
      },
      {
       "current": "102e97be-cdbe-11e7-bab8-0242ac120002",
       "next": "102e9ca0-cdbe-11e7-bab8-0242ac120002",
       "previous": "102e97be-cdbe-11e7-bab8-0242ac120002"
      },
      {
       "current": "102e97be-cdbe-11e7-bab8-0242ac120002",
       "next": "102e9ca0-cdbe-11e7-bab8-0242ac120002",
       "previous": "aaadf4f8-d8b1-11e7-9867-0242ac120002"
      }
     ],
     "next": "6a5e463c-d8b6-11e7-9867-0242ac120002",
     "previous": "aaadf4f8-d8b1-11e7-9867-0242ac120002"
    }
   },
   "source": [
    "## 同梱のdocker-compose.ymlでコンテナ一式が起動した状態であること\n",
    "\n",
    "[同梱のdocker-compose.yml](/edit/wifi/docker-compose.yml)\n",
    "\n",
    "docker-composeで作成された各種リソースには、起動した場所（docker-compose.ymlの場所）を示す文字列が接頭語として追加される。このnotebookでは/rootで起動して、接頭語がrootになっている前提とする。\n",
    "\n",
    "コンテナ起動状態を確認するため、dockerコマンドをインストール（jupyterには/var/run/docker.sockをマウントして、dockerコマンドを使えるようにしてある）し、juyter、vyos、muninのコンテナが動いていることと、dockerの内部ネットワーク、root_default、root_wifi、root_wireが存在することを確認しておく。"
   ]
  },
  {
   "cell_type": "code",
   "execution_count": null,
   "metadata": {
    "hidden": true,
    "lc_cell_meme": {
     "current": "6a5e463c-d8b6-11e7-9867-0242ac120002",
     "next": "102e9ca0-cdbe-11e7-bab8-0242ac120002",
     "previous": "102e97be-cdbe-11e7-bab8-0242ac120002"
    },
    "pinned_outputs": [
     {
      "execution_count": 2,
      "outputs": [
       {
        "name": "stdout",
        "output_type": "stream",
        "text": "CONTAINER ID        IMAGE                        COMMAND                  CREATED             STATUS              PORTS               NAMES\n608397eb3d7c        shaf/munin-server            \"/start.sh\"              2 minutes ago       Up About a minute   80/tcp, 4949/tcp    munin\n8bc260a2210a        mnagaku/vyos                 \"/sbin/init\"             2 minutes ago       Up 2 minutes                            vyos\nebf656e6eb55        niicloudoperation/notebook   \"tini -- bash -c '...\"   2 minutes ago       Up 2 minutes                            jupyter\nNETWORK ID          NAME                DRIVER              SCOPE\nda2df38aa0ec        bridge              bridge              local\n3b9c79d243c1        host                host                local\n6c3e5aba58a0        none                null                local\n93f826ceaebf        root_default        bridge              local\n5420d7c8c2f9        root_wifi           bridge              local\n06eb9640925e        root_wire           bridge              local\n"
       }
      ]
     }
    ]
   },
   "outputs": [],
   "source": [
    "!curl -fsSL https://download.docker.com/linux/static/stable/x86_64/docker-17.09.0-ce.tgz \\\n",
    "    | sudo tar -xzC /usr/local/bin --strip=1 docker/docker\n",
    "\n",
    "!sudo docker ps\n",
    "!test $(sudo docker ps | grep jupyter | wc -l) -eq 1\n",
    "!test $(sudo docker ps | grep vyos | wc -l) -eq 1\n",
    "!test $(sudo docker ps | grep munin | wc -l) -eq 1\n",
    "\n",
    "!sudo docker network ls\n",
    "!test $(sudo docker network ls | grep root_default | wc -l) -eq 1\n",
    "!test $(sudo docker network ls | grep root_wifi | wc -l) -eq 1\n",
    "!test $(sudo docker network ls | grep root_wire | wc -l) -eq 1"
   ]
  },
  {
   "cell_type": "markdown",
   "metadata": {
    "heading_collapsed": true,
    "lc_cell_meme": {
     "current": "102e9ca0-cdbe-11e7-bab8-0242ac120002",
     "history": [
      {
       "current": "102e9ca0-cdbe-11e7-bab8-0242ac120002",
       "next": "9ebd3e4e-cb5d-11e7-ab92-0242ac120003",
       "previous": "102e97be-cdbe-11e7-bab8-0242ac120002"
      },
      {
       "current": "102e9ca0-cdbe-11e7-bab8-0242ac120002",
       "next": "7d4a4108-cdc4-11e7-bab8-0242ac120002",
       "previous": "102e97be-cdbe-11e7-bab8-0242ac120002"
      }
     ],
     "next": "7d4a4108-cdc4-11e7-bab8-0242ac120002",
     "previous": "6a5e463c-d8b6-11e7-9867-0242ac120002"
    }
   },
   "source": [
    "# Juputerの設定"
   ]
  },
  {
   "cell_type": "markdown",
   "metadata": {
    "hidden": true,
    "lc_cell_meme": {
     "current": "7d4a4108-cdc4-11e7-bab8-0242ac120002",
     "next": "9ebd3e4e-cb5d-11e7-ab92-0242ac120003",
     "previous": "102e9ca0-cdbe-11e7-bab8-0242ac120002"
    }
   },
   "source": [
    "タイムゾーンをJSTにする。dockerコマンドをインストールする。\n",
    "\n",
    "この[niicloudoperation/notebook](https://hub.docker.com/r/niicloudoperation/notebook/)は、国立情報学研究所クラウド運用チームの研究実践「Literate Computing for Reproducible Infrastructure」で実際に使われているもので、SDNにOpen Flowを使ったベアメタルのプライベートクラウドの構築・運用に使われている。"
   ]
  },
  {
   "cell_type": "code",
   "execution_count": null,
   "metadata": {
    "hidden": true,
    "lc_cell_meme": {
     "current": "9ebd3e4e-cb5d-11e7-ab92-0242ac120003",
     "history": [
      {
       "current": "9ebd3e4e-cb5d-11e7-ab92-0242ac120003",
       "next": null,
       "previous": null
      },
      {
       "current": "9ebd3e4e-cb5d-11e7-ab92-0242ac120003",
       "next": "e6351f44-cb5d-11e7-ab92-0242ac120003",
       "previous": null
      },
      {
       "current": "9ebd3e4e-cb5d-11e7-ab92-0242ac120003",
       "next": "9ebd3e4e-cb5d-11e7-ab92-0242ac120003",
       "previous": null
      },
      {
       "current": "9ebd3e4e-cb5d-11e7-ab92-0242ac120003",
       "next": "e6351f44-cb5d-11e7-ab92-0242ac120003",
       "previous": null
      },
      {
       "current": "9ebd3e4e-cb5d-11e7-ab92-0242ac120003",
       "next": "963c83d4-ccf6-11e7-84d7-0242ac120003",
       "previous": null
      },
      {
       "current": "9ebd3e4e-cb5d-11e7-ab92-0242ac120003",
       "next": "963c83d4-ccf6-11e7-84d7-0242ac120003",
       "previous": "102e9ca0-cdbe-11e7-bab8-0242ac120002"
      },
      {
       "current": "9ebd3e4e-cb5d-11e7-ab92-0242ac120003",
       "next": "963c83d4-ccf6-11e7-84d7-0242ac120003",
       "previous": "7d4a4108-cdc4-11e7-bab8-0242ac120002"
      },
      {
       "current": "9ebd3e4e-cb5d-11e7-ab92-0242ac120003",
       "next": "c4cc1e20-cdc4-11e7-bab8-0242ac120002",
       "previous": "7d4a4108-cdc4-11e7-bab8-0242ac120002"
      }
     ],
     "next": "c4cc2474-cdc4-11e7-bab8-0242ac120002",
     "previous": "7d4a4108-cdc4-11e7-bab8-0242ac120002"
    },
    "pinned_outputs": [
     {
      "execution_count": 3,
      "outputs": [
       {
        "name": "stdout",
        "output_type": "stream",
        "text": "Mon Dec  4 18:48:37 JST 2017\n"
       },
       {
        "name": "stderr",
        "output_type": "stream",
        "text": "stdin: is not a tty\n\nCurrent default time zone: 'Asia/Tokyo'\nLocal time is now:      Mon Dec  4 18:48:37 JST 2017.\nUniversal Time is now:  Mon Dec  4 09:48:37 UTC 2017.\n\n"
       }
      ]
     }
    ]
   },
   "outputs": [],
   "source": [
    "%%bash\n",
    "sudo -i\n",
    "echo Asia/Tokyo > /etc/timezone\n",
    "dpkg-reconfigure --frontend noninteractive tzdata\n",
    "date"
   ]
  },
  {
   "cell_type": "markdown",
   "metadata": {
    "heading_collapsed": true,
    "lc_cell_meme": {
     "current": "c4cc2474-cdc4-11e7-bab8-0242ac120002",
     "history": [
      {
       "current": "c4cc2474-cdc4-11e7-bab8-0242ac120002",
       "next": "963c83d4-ccf6-11e7-84d7-0242ac120003",
       "previous": "c4cc1e20-cdc4-11e7-bab8-0242ac120002"
      },
      {
       "current": "c4cc2474-cdc4-11e7-bab8-0242ac120002",
       "next": "d4458eb6-cf38-11e7-b332-0242ac120002",
       "previous": "c4cc1e20-cdc4-11e7-bab8-0242ac120002"
      },
      {
       "current": "c4cc2474-cdc4-11e7-bab8-0242ac120002",
       "next": "d4458eb6-cf38-11e7-b332-0242ac120002",
       "previous": "9ebd3e4e-cb5d-11e7-ab92-0242ac120003"
      },
      {
       "current": "c4cc2474-cdc4-11e7-bab8-0242ac120002",
       "next": "963c83d4-ccf6-11e7-84d7-0242ac120003",
       "previous": "9ebd3e4e-cb5d-11e7-ab92-0242ac120003"
      }
     ],
     "next": "c4cc2474-cdc4-11e7-bab8-0242ac120002",
     "previous": "9ebd3e4e-cb5d-11e7-ab92-0242ac120003"
    }
   },
   "source": [
    "# VyOSの設定"
   ]
  },
  {
   "cell_type": "markdown",
   "metadata": {
    "hidden": true,
    "lc_cell_meme": {
     "current": "c4cc2474-cdc4-11e7-bab8-0242ac120002",
     "history": [
      {
       "current": "c4cc2474-cdc4-11e7-bab8-0242ac120002",
       "next": "963c83d4-ccf6-11e7-84d7-0242ac120003",
       "previous": "c4cc1e20-cdc4-11e7-bab8-0242ac120002"
      },
      {
       "current": "c4cc2474-cdc4-11e7-bab8-0242ac120002",
       "next": "d4458eb6-cf38-11e7-b332-0242ac120002",
       "previous": "c4cc1e20-cdc4-11e7-bab8-0242ac120002"
      },
      {
       "current": "c4cc2474-cdc4-11e7-bab8-0242ac120002",
       "next": "d4458eb6-cf38-11e7-b332-0242ac120002",
       "previous": "9ebd3e4e-cb5d-11e7-ab92-0242ac120003"
      },
      {
       "current": "c4cc2474-cdc4-11e7-bab8-0242ac120002",
       "next": "963c83d4-ccf6-11e7-84d7-0242ac120003",
       "previous": "9ebd3e4e-cb5d-11e7-ab92-0242ac120003"
      }
     ],
     "next": "963c83d4-ccf6-11e7-84d7-0242ac120003",
     "previous": "c4cc2474-cdc4-11e7-bab8-0242ac120002"
    }
   },
   "source": [
    "[vyos](http://wiki.vyos-users.jp/)には3つのネットワークを繋ぐが、docker-composeの挙動により、default以外のネットワークがコンテナにアタッチされる順番が保証されず、ネットワークとinterfaceの対応関係が固定されない（順序を固定する方法が見つからなかった）。そこで、wireのアタッチをコンテナ起動後に追加設定として行う。\n",
    "\n",
    "因みに、docker createして、ネットワークをアタッチして、startさせる場合は、bridgeネットワークの名前順で認識される。dokcerの使われ方の主流では、デバイスとか気にしない感じで問題ないので、この辺の作りがイマイチなままなんだろうな。\n",
    "\n",
    "vyosのinterfaceを確認する。起動時にアタッチされた2つ（eth0、eth1）が見えている。"
   ]
  },
  {
   "cell_type": "code",
   "execution_count": null,
   "metadata": {
    "hidden": true,
    "lc_cell_meme": {
     "current": "963c83d4-ccf6-11e7-84d7-0242ac120003",
     "history": [
      {
       "current": "963c83d4-ccf6-11e7-84d7-0242ac120003",
       "next": "fc8cfe3c-cb68-11e7-ab92-0242ac120003",
       "previous": "9ebd3e4e-cb5d-11e7-ab92-0242ac120003"
      },
      {
       "current": "963c83d4-ccf6-11e7-84d7-0242ac120003",
       "next": "fc8cfe3c-cb68-11e7-ab92-0242ac120003",
       "previous": "c4cc2474-cdc4-11e7-bab8-0242ac120002"
      },
      {
       "current": "963c83d4-ccf6-11e7-84d7-0242ac120003",
       "next": "d445938e-cf38-11e7-b332-0242ac120002",
       "previous": "d4458eb6-cf38-11e7-b332-0242ac120002"
      }
     ],
     "next": "d445938e-cf38-11e7-b332-0242ac120002",
     "previous": "c4cc2474-cdc4-11e7-bab8-0242ac120002"
    },
    "pinned_outputs": [
     {
      "execution_count": 4,
      "outputs": [
       {
        "name": "stdout",
        "output_type": "stream",
        "text": "eth0      Link encap:Ethernet  HWaddr 02:42:ac:12:00:03  \r\n          inet addr:172.18.0.3  Bcast:0.0.0.0  Mask:255.255.0.0\r\n          UP BROADCAST RUNNING MULTICAST  MTU:1500  Metric:1\r\n          RX packets:58 errors:0 dropped:0 overruns:0 frame:0\r\n          TX packets:32 errors:0 dropped:0 overruns:0 carrier:0\r\n          collisions:0 txqueuelen:0 \r\n          RX bytes:5670 (5.5 KiB)  TX bytes:1656 (1.6 KiB)\r\n\r\neth1      Link encap:Ethernet  HWaddr 02:42:c0:a8:0e:03  \r\n          inet addr:192.168.14.3  Bcast:0.0.0.0  Mask:255.255.255.0\r\n          UP BROADCAST RUNNING MULTICAST  MTU:1500  Metric:1\r\n          RX packets:19 errors:0 dropped:0 overruns:0 frame:0\r\n          TX packets:0 errors:0 dropped:0 overruns:0 carrier:0\r\n          collisions:0 txqueuelen:0 \r\n          RX bytes:2306 (2.2 KiB)  TX bytes:0 (0.0 B)\r\n\r\nlo        Link encap:Local Loopback  \r\n          inet addr:127.0.0.1  Mask:255.0.0.0\r\n          UP LOOPBACK RUNNING  MTU:65536  Metric:1\r\n          RX packets:150 errors:0 dropped:0 overruns:0 frame:0\r\n          TX packets:150 errors:0 dropped:0 overruns:0 carrier:0\r\n          collisions:0 txqueuelen:1 \r\n          RX bytes:9228 (9.0 KiB)  TX bytes:9228 (9.0 KiB)\r\n\r\n"
       }
      ]
     }
    ],
    "scrolled": true
   },
   "outputs": [],
   "source": [
    "!sudo docker exec vyos ifconfig\n",
    "!test $(sudo docker exec vyos ifconfig | grep eth0 | wc -l) -eq 1\n",
    "!test $(sudo docker exec vyos ifconfig | grep eth1 | wc -l) -eq 1\n",
    "!test $(sudo docker exec vyos ifconfig | grep eth2 | wc -l) -eq 0"
   ]
  },
  {
   "cell_type": "markdown",
   "metadata": {
    "hidden": true,
    "lc_cell_meme": {
     "current": "d445938e-cf38-11e7-b332-0242ac120002",
     "next": "fc8cfe3c-cb68-11e7-ab92-0242ac120003",
     "previous": "963c83d4-ccf6-11e7-84d7-0242ac120003"
    }
   },
   "source": [
    "dockerがコンテナ用に持っているネットワークを確認する。docker-composeで作ったネットワークには起動場所の接頭語が付くので注意。"
   ]
  },
  {
   "cell_type": "code",
   "execution_count": null,
   "metadata": {
    "hidden": true,
    "lc_cell_meme": {
     "current": "fc8cfe3c-cb68-11e7-ab92-0242ac120003",
     "history": [
      {
       "current": "fc8cfe3c-cb68-11e7-ab92-0242ac120003",
       "next": null,
       "previous": "381d521a-cb66-11e7-ab92-0242ac120003"
      },
      {
       "current": "fc8cfe3c-cb68-11e7-ab92-0242ac120003",
       "next": null,
       "previous": "e6351f44-cb5d-11e7-ab92-0242ac120003"
      },
      {
       "current": "fc8cfe3c-cb68-11e7-ab92-0242ac120003",
       "next": "963c894c-ccf6-11e7-84d7-0242ac120003",
       "previous": "963c83d4-ccf6-11e7-84d7-0242ac120003"
      },
      {
       "current": "fc8cfe3c-cb68-11e7-ab92-0242ac120003",
       "next": "963c894c-ccf6-11e7-84d7-0242ac120003",
       "previous": "d445938e-cf38-11e7-b332-0242ac120002"
      }
     ],
     "next": "dbbe9958-cf3d-11e7-b332-0242ac120002",
     "previous": "d445938e-cf38-11e7-b332-0242ac120002"
    },
    "pinned_outputs": [
     {
      "execution_count": 5,
      "outputs": [
       {
        "name": "stdout",
        "output_type": "stream",
        "text": "NETWORK ID          NAME                DRIVER              SCOPE\r\nda2df38aa0ec        bridge              bridge              local\r\n3b9c79d243c1        host                host                local\r\n6c3e5aba58a0        none                null                local\r\n93f826ceaebf        root_default        bridge              local\r\n5420d7c8c2f9        root_wifi           bridge              local\r\n06eb9640925e        root_wire           bridge              local\r\n"
       }
      ]
     }
    ]
   },
   "outputs": [],
   "source": [
    "!sudo docker network ls"
   ]
  },
  {
   "cell_type": "markdown",
   "metadata": {
    "hidden": true,
    "lc_cell_meme": {
     "current": "dbbe9958-cf3d-11e7-b332-0242ac120002",
     "next": "963c894c-ccf6-11e7-84d7-0242ac120003",
     "previous": "fc8cfe3c-cb68-11e7-ab92-0242ac120003"
    }
   },
   "source": [
    "vyosにroot_wireをアタッチ。"
   ]
  },
  {
   "cell_type": "code",
   "execution_count": null,
   "metadata": {
    "hidden": true,
    "lc_cell_meme": {
     "current": "963c894c-ccf6-11e7-84d7-0242ac120003",
     "history": [
      {
       "current": "963c894c-ccf6-11e7-84d7-0242ac120003",
       "next": "e6351f44-cb5d-11e7-ab92-0242ac120003",
       "previous": "fc8cfe3c-cb68-11e7-ab92-0242ac120003"
      },
      {
       "current": "963c894c-ccf6-11e7-84d7-0242ac120003",
       "next": "963c894c-ccf6-11e7-84d7-0242ac120003",
       "previous": "fc8cfe3c-cb68-11e7-ab92-0242ac120003"
      },
      {
       "current": "963c894c-ccf6-11e7-84d7-0242ac120003",
       "next": "963c894c-ccf6-11e7-84d7-0242ac120003",
       "previous": "dbbe9958-cf3d-11e7-b332-0242ac120002"
      }
     ],
     "next": "23414cd0-cf3e-11e7-b332-0242ac120002",
     "previous": "dbbe9958-cf3d-11e7-b332-0242ac120002"
    }
   },
   "outputs": [],
   "source": [
    "!sudo docker network connect root_wire vyos"
   ]
  },
  {
   "cell_type": "markdown",
   "metadata": {
    "hidden": true,
    "lc_cell_meme": {
     "current": "23414cd0-cf3e-11e7-b332-0242ac120002",
     "next": "963c894c-ccf6-11e7-84d7-0242ac120003",
     "previous": "963c894c-ccf6-11e7-84d7-0242ac120003"
    }
   },
   "source": [
    "3つ目のネットワークがeth2として増えているのを確認する。"
   ]
  },
  {
   "cell_type": "code",
   "execution_count": null,
   "metadata": {
    "hidden": true,
    "lc_cell_meme": {
     "current": "963c894c-ccf6-11e7-84d7-0242ac120003",
     "history": [
      {
       "current": "963c894c-ccf6-11e7-84d7-0242ac120003",
       "next": "e6351f44-cb5d-11e7-ab92-0242ac120003",
       "previous": "fc8cfe3c-cb68-11e7-ab92-0242ac120003"
      },
      {
       "current": "963c894c-ccf6-11e7-84d7-0242ac120003",
       "next": "e6351f44-cb5d-11e7-ab92-0242ac120003",
       "previous": "963c894c-ccf6-11e7-84d7-0242ac120003"
      },
      {
       "current": "963c894c-ccf6-11e7-84d7-0242ac120003",
       "next": "a1769c32-cdb2-11e7-bab8-0242ac120002",
       "previous": "963c894c-ccf6-11e7-84d7-0242ac120003"
      },
      {
       "current": "963c894c-ccf6-11e7-84d7-0242ac120003",
       "next": "71f5386a-cdc6-11e7-bab8-0242ac120002",
       "previous": "963c894c-ccf6-11e7-84d7-0242ac120003"
      }
     ],
     "next": "71f5386a-cdc6-11e7-bab8-0242ac120002",
     "previous": "23414cd0-cf3e-11e7-b332-0242ac120002"
    },
    "pinned_outputs": [
     {
      "execution_count": 7,
      "outputs": [
       {
        "name": "stdout",
        "output_type": "stream",
        "text": "eth0      Link encap:Ethernet  HWaddr 02:42:ac:12:00:03  \r\n          inet addr:172.18.0.3  Bcast:0.0.0.0  Mask:255.255.0.0\r\n          UP BROADCAST RUNNING MULTICAST  MTU:1500  Metric:1\r\n          RX packets:60 errors:0 dropped:0 overruns:0 frame:0\r\n          TX packets:34 errors:0 dropped:0 overruns:0 carrier:0\r\n          collisions:0 txqueuelen:0 \r\n          RX bytes:5841 (5.7 KiB)  TX bytes:1764 (1.7 KiB)\r\n\r\neth1      Link encap:Ethernet  HWaddr 02:42:c0:a8:0e:03  \r\n          inet addr:192.168.14.3  Bcast:0.0.0.0  Mask:255.255.255.0\r\n          UP BROADCAST RUNNING MULTICAST  MTU:1500  Metric:1\r\n          RX packets:19 errors:0 dropped:0 overruns:0 frame:0\r\n          TX packets:0 errors:0 dropped:0 overruns:0 carrier:0\r\n          collisions:0 txqueuelen:0 \r\n          RX bytes:2306 (2.2 KiB)  TX bytes:0 (0.0 B)\r\n\r\neth2      Link encap:Ethernet  HWaddr 02:42:c0:a8:13:03  \r\n          inet addr:192.168.19.3  Bcast:0.0.0.0  Mask:255.255.255.0\r\n          UP BROADCAST RUNNING MULTICAST  MTU:1500  Metric:1\r\n          RX packets:3 errors:0 dropped:0 overruns:0 frame:0\r\n          TX packets:0 errors:0 dropped:0 overruns:0 carrier:0\r\n          collisions:0 txqueuelen:0 \r\n          RX bytes:258 (258.0 B)  TX bytes:0 (0.0 B)\r\n\r\nlo        Link encap:Local Loopback  \r\n          inet addr:127.0.0.1  Mask:255.0.0.0\r\n          UP LOOPBACK RUNNING  MTU:65536  Metric:1\r\n          RX packets:156 errors:0 dropped:0 overruns:0 frame:0\r\n          TX packets:156 errors:0 dropped:0 overruns:0 carrier:0\r\n          collisions:0 txqueuelen:1 \r\n          RX bytes:9528 (9.3 KiB)  TX bytes:9528 (9.3 KiB)\r\n\r\n"
       }
      ]
     }
    ]
   },
   "outputs": [],
   "source": [
    "!sudo docker exec vyos ifconfig\n",
    "!test $(sudo docker exec vyos ifconfig | grep eth0 | wc -l) -eq 1\n",
    "!test $(sudo docker exec vyos ifconfig | grep eth1 | wc -l) -eq 1\n",
    "!test $(sudo docker exec vyos ifconfig | grep eth2 | wc -l) -eq 1"
   ]
  },
  {
   "cell_type": "markdown",
   "metadata": {
    "hidden": true,
    "lc_cell_meme": {
     "current": "71f5386a-cdc6-11e7-bab8-0242ac120002",
     "next": "e6351f44-cb5d-11e7-ab92-0242ac120003",
     "previous": "963c894c-ccf6-11e7-84d7-0242ac120003"
    }
   },
   "source": [
    "vyosのルータ設定はansible経由で行う。connection:dockerで接続するため、vyos_configが使えないので、スクリプトファイルをコピーしてシェル実行する。併せて、docker execからvyosのコマンドを叩くためのスクリプトファイルもコピーしておく。\n",
    "\n",
    "[vyosの設定](/edit/wifi/vyos-setup.vsh)\n",
    "\n",
    "[コマンドのラッパ](/edit/wifi/run-command.sh)"
   ]
  },
  {
   "cell_type": "code",
   "execution_count": null,
   "metadata": {
    "hidden": true,
    "lc_cell_meme": {
     "current": "e6351f44-cb5d-11e7-ab92-0242ac120003",
     "history": [
      {
       "current": "e6351f44-cb5d-11e7-ab92-0242ac120003",
       "next": null,
       "previous": "9ebd3e4e-cb5d-11e7-ab92-0242ac120003"
      },
      {
       "current": "e6351f44-cb5d-11e7-ab92-0242ac120003",
       "next": "bcc9fa02-cb5e-11e7-ab92-0242ac120003",
       "previous": "9ebd3e4e-cb5d-11e7-ab92-0242ac120003"
      },
      {
       "current": "e6351f44-cb5d-11e7-ab92-0242ac120003",
       "next": null,
       "previous": "bcc9fa02-cb5e-11e7-ab92-0242ac120003"
      },
      {
       "current": "e6351f44-cb5d-11e7-ab92-0242ac120003",
       "next": "381d521a-cb66-11e7-ab92-0242ac120003",
       "previous": "bcc9fa02-cb5e-11e7-ab92-0242ac120003"
      },
      {
       "current": "e6351f44-cb5d-11e7-ab92-0242ac120003",
       "next": "fc8cfe3c-cb68-11e7-ab92-0242ac120003",
       "previous": "9ebd3e4e-cb5d-11e7-ab92-0242ac120003"
      },
      {
       "current": "e6351f44-cb5d-11e7-ab92-0242ac120003",
       "next": null,
       "previous": "963c894c-ccf6-11e7-84d7-0242ac120003"
      },
      {
       "current": "e6351f44-cb5d-11e7-ab92-0242ac120003",
       "next": "0bbc97ac-cd01-11e7-b777-0242ac120002",
       "previous": "963c894c-ccf6-11e7-84d7-0242ac120003"
      },
      {
       "current": "e6351f44-cb5d-11e7-ab92-0242ac120003",
       "next": "a1769c32-cdb2-11e7-bab8-0242ac120002",
       "previous": "963c894c-ccf6-11e7-84d7-0242ac120003"
      },
      {
       "current": "e6351f44-cb5d-11e7-ab92-0242ac120003",
       "next": "0bbc97ac-cd01-11e7-b777-0242ac120002",
       "previous": "a1769c32-cdb2-11e7-bab8-0242ac120002"
      },
      {
       "current": "e6351f44-cb5d-11e7-ab92-0242ac120003",
       "next": "7809af3c-cdb3-11e7-bab8-0242ac120002",
       "previous": "a1769c32-cdb2-11e7-bab8-0242ac120002"
      },
      {
       "current": "e6351f44-cb5d-11e7-ab92-0242ac120003",
       "next": "c4cc2938-cdc4-11e7-bab8-0242ac120002",
       "previous": "a1769c32-cdb2-11e7-bab8-0242ac120002"
      },
      {
       "current": "e6351f44-cb5d-11e7-ab92-0242ac120003",
       "next": "a1769c32-cdb2-11e7-bab8-0242ac120002",
       "previous": "71f5386a-cdc6-11e7-bab8-0242ac120002"
      }
     ],
     "next": "981014d6-cf36-11e7-b332-0242ac120002",
     "previous": "71f5386a-cdc6-11e7-bab8-0242ac120002"
    },
    "pinned_outputs": [
     {
      "execution_count": 8,
      "outputs": [
       {
        "name": "stdout",
        "output_type": "stream",
        "text": "\nPLAY [vyos] ********************************************************************\n\nTASK [copy] ********************************************************************\n\u001b[0;33mchanged: [vyos]\u001b[0m\n\nTASK [command] *****************************************************************\n\u001b[0;33mchanged: [vyos]\u001b[0m\n\nTASK [copy] ********************************************************************\n\u001b[0;33mchanged: [vyos]\u001b[0m\n\nPLAY RECAP *********************************************************************\n\u001b[0;33mvyos\u001b[0m                       : \u001b[0;32mok=3   \u001b[0m \u001b[0;33mchanged=3   \u001b[0m unreachable=0    failed=0   \n\n"
       }
      ]
     }
    ]
   },
   "outputs": [],
   "source": [
    "!sudo ansible-playbook -i vyos, vyos-setup.yml"
   ]
  },
  {
   "cell_type": "markdown",
   "metadata": {
    "hidden": true,
    "lc_cell_meme": {
     "current": "981014d6-cf36-11e7-b332-0242ac120002",
     "next": "a1769c32-cdb2-11e7-bab8-0242ac120002",
     "previous": "e6351f44-cb5d-11e7-ab92-0242ac120003"
    }
   },
   "source": [
    "こんな感じでvyosのコマンドが叩ける。"
   ]
  },
  {
   "cell_type": "code",
   "execution_count": null,
   "metadata": {
    "hidden": true,
    "lc_cell_meme": {
     "current": "a1769c32-cdb2-11e7-bab8-0242ac120002",
     "history": [
      {
       "current": "a1769c32-cdb2-11e7-bab8-0242ac120002",
       "next": "0bbc97ac-cd01-11e7-b777-0242ac120002",
       "previous": "e6351f44-cb5d-11e7-ab92-0242ac120003"
      },
      {
       "current": "a1769c32-cdb2-11e7-bab8-0242ac120002",
       "next": "e6351f44-cb5d-11e7-ab92-0242ac120003",
       "previous": "963c894c-ccf6-11e7-84d7-0242ac120003"
      },
      {
       "current": "a1769c32-cdb2-11e7-bab8-0242ac120002",
       "next": "c4cc2938-cdc4-11e7-bab8-0242ac120002",
       "previous": "e6351f44-cb5d-11e7-ab92-0242ac120003"
      },
      {
       "current": "a1769c32-cdb2-11e7-bab8-0242ac120002",
       "next": "1f1d2a92-cdc8-11e7-bab8-0242ac120002",
       "previous": "e6351f44-cb5d-11e7-ab92-0242ac120003"
      }
     ],
     "next": "1f1d2a92-cdc8-11e7-bab8-0242ac120002",
     "previous": "981014d6-cf36-11e7-b332-0242ac120002"
    },
    "pinned_outputs": [
     {
      "execution_count": 9,
      "outputs": [
       {
        "name": "stdout",
        "output_type": "stream",
        "text": "Codes: S - State, L - Link, u - Up, D - Down, A - Admin Down\nInterface        IP Address                        S/L  Description\n---------        ----------                        ---  -----------\neth0             172.18.0.3/16                     u/u  \neth1             192.168.14.3/24                   u/u  \neth2             192.168.19.3/24                   u/u  \nlo               127.0.0.1/8                       u/u  \n"
       }
      ]
     }
    ]
   },
   "outputs": [],
   "source": [
    "!sudo docker exec --user vyos vyos /home/vyos/run-command.sh show interfaces"
   ]
  },
  {
   "cell_type": "markdown",
   "metadata": {
    "hidden": true,
    "lc_cell_meme": {
     "current": "1f1d2a92-cdc8-11e7-bab8-0242ac120002",
     "next": "c4cc2938-cdc4-11e7-bab8-0242ac120002",
     "previous": "a1769c32-cdb2-11e7-bab8-0242ac120002"
    }
   },
   "source": [
    "因みに、VyOSは実質Debianなので、interfaceが絡んだ機能（例えば、FireWallやQoS）は、OSのネットワーク設定で実現されている。このため、本事例のようにコンテナで利用すると、ネットワークデバイスが完全仮想化されていないことから、ネットワーク関連の機能のいくつかが動作しない。vyosにdocker execしてドヤ顔するのが不要で、そこそこのスペックのマシンが用意できるなら、普通にxenとか使った完全仮想化の方が、トラブルも少ないだろう。"
   ]
  },
  {
   "cell_type": "markdown",
   "metadata": {
    "heading_collapsed": true,
    "lc_cell_meme": {
     "current": "c4cc2938-cdc4-11e7-bab8-0242ac120002",
     "history": [
      {
       "current": "c4cc2938-cdc4-11e7-bab8-0242ac120002",
       "next": "c4cc2dca-cdc4-11e7-bab8-0242ac120002",
       "previous": "e6351f44-cb5d-11e7-ab92-0242ac120003"
      },
      {
       "current": "c4cc2938-cdc4-11e7-bab8-0242ac120002",
       "next": "c4cc2dca-cdc4-11e7-bab8-0242ac120002",
       "previous": "a1769c32-cdb2-11e7-bab8-0242ac120002"
      }
     ],
     "next": "c4cc2dca-cdc4-11e7-bab8-0242ac120002",
     "previous": "1f1d2a92-cdc8-11e7-bab8-0242ac120002"
    }
   },
   "source": [
    "# Aironetの設定"
   ]
  },
  {
   "cell_type": "markdown",
   "metadata": {
    "hidden": true,
    "lc_cell_meme": {
     "current": "c4cc2dca-cdc4-11e7-bab8-0242ac120002",
     "next": "7809af3c-cdb3-11e7-bab8-0242ac120002",
     "previous": "c4cc2938-cdc4-11e7-bab8-0242ac120002"
    }
   },
   "source": [
    "工場出荷時設定の[Aironet1140](https://www.cisco.com/c/ja_jp/td/docs/nma/works/works4windows/gs/001/ap1140aut-getstart.html)を2台、wifiのネットワークに繋ぐ。vyosの設定に、macアドレスに対して固定のIPアドレスを払い出すように書いてあるので、Aironetがそのアドレスを掴めたか確認する。起動にそこそこ時間がかかるので、時間を空けて何度か試すこと。\n",
    "\n",
    "因みにAironet1140を工場出荷時設定に戻すには、「MODE」スイッチを押したまま電源を疎通させランプが赤点灯になるまで押し続けることで行える。"
   ]
  },
  {
   "cell_type": "code",
   "execution_count": null,
   "metadata": {
    "hidden": true,
    "lc_cell_meme": {
     "current": "7809af3c-cdb3-11e7-bab8-0242ac120002",
     "history": [
      {
       "current": "7809af3c-cdb3-11e7-bab8-0242ac120002",
       "next": "0bbc97ac-cd01-11e7-b777-0242ac120002",
       "previous": "e6351f44-cb5d-11e7-ab92-0242ac120003"
      },
      {
       "current": "7809af3c-cdb3-11e7-bab8-0242ac120002",
       "next": "0bbc97ac-cd01-11e7-b777-0242ac120002",
       "previous": "c4cc2dca-cdc4-11e7-bab8-0242ac120002"
      }
     ],
     "next": "31e60498-cdcb-11e7-bab8-0242ac120002",
     "previous": "c4cc2dca-cdc4-11e7-bab8-0242ac120002"
    },
    "pinned_outputs": [
     {
      "execution_count": 10,
      "outputs": [
       {
        "name": "stdout",
        "output_type": "stream",
        "text": "PING ap64 (192.168.14.64): 56 data bytes\n64 bytes from 192.168.14.64: icmp_seq=0 ttl=255 time=2.518 ms\n64 bytes from 192.168.14.64: icmp_seq=1 ttl=255 time=1.201 ms\n64 bytes from 192.168.14.64: icmp_seq=2 ttl=255 time=1.261 ms\n64 bytes from 192.168.14.64: icmp_seq=3 ttl=255 time=1.165 ms\n--- ap64 ping statistics ---\n4 packets transmitted, 4 packets received, 0% packet loss\nround-trip min/avg/max/stddev = 1.165/1.536/2.518/0.568 ms\nPING ap83 (192.168.14.83): 56 data bytes\n64 bytes from 192.168.14.83: icmp_seq=0 ttl=255 time=2.309 ms\n64 bytes from 192.168.14.83: icmp_seq=1 ttl=255 time=1.155 ms\n64 bytes from 192.168.14.83: icmp_seq=2 ttl=255 time=1.095 ms\n64 bytes from 192.168.14.83: icmp_seq=3 ttl=255 time=1.196 ms\n--- ap83 ping statistics ---\n4 packets transmitted, 4 packets received, 0% packet loss\nround-trip min/avg/max/stddev = 1.095/1.439/2.309/0.504 ms\n"
       }
      ]
     }
    ]
   },
   "outputs": [],
   "source": [
    "!ping -c 4 ap64\n",
    "!test $(ping -c 4 ap64 | grep \"4 packets received\" | wc -l) -eq 1\n",
    "!ping -c 4 ap83\n",
    "!test $(ping -c 4 ap83 | grep \"4 packets received\" | wc -l) -eq 1"
   ]
  },
  {
   "cell_type": "markdown",
   "metadata": {
    "hidden": true,
    "lc_cell_meme": {
     "current": "31e60498-cdcb-11e7-bab8-0242ac120002",
     "next": "0bbc97ac-cd01-11e7-b777-0242ac120002",
     "previous": "7809af3c-cdb3-11e7-bab8-0242ac120002"
    }
   },
   "source": [
    "工場出荷時設定のAironetは、telnetでデフォルトアカウントで入れるようになっているので、新規のアカウントで、sshでしか入れないように設定する。\n",
    "\n",
    "[playbook](/edit/wifi/aironet-setup.yml)"
   ]
  },
  {
   "cell_type": "code",
   "execution_count": null,
   "metadata": {
    "hidden": true,
    "lc_cell_meme": {
     "current": "0bbc97ac-cd01-11e7-b777-0242ac120002",
     "history": [
      {
       "current": "0bbc97ac-cd01-11e7-b777-0242ac120002",
       "next": "0bbc9e82-cd01-11e7-b777-0242ac120002",
       "previous": "e6351f44-cb5d-11e7-ab92-0242ac120003"
      },
      {
       "current": "0bbc97ac-cd01-11e7-b777-0242ac120002",
       "next": "e25549c6-cd01-11e7-b777-0242ac120002",
       "previous": "e6351f44-cb5d-11e7-ab92-0242ac120003"
      },
      {
       "current": "0bbc97ac-cd01-11e7-b777-0242ac120002",
       "next": "e25549c6-cd01-11e7-b777-0242ac120002",
       "previous": "a1769c32-cdb2-11e7-bab8-0242ac120002"
      },
      {
       "current": "0bbc97ac-cd01-11e7-b777-0242ac120002",
       "next": "e25549c6-cd01-11e7-b777-0242ac120002",
       "previous": "e6351f44-cb5d-11e7-ab92-0242ac120003"
      },
      {
       "current": "0bbc97ac-cd01-11e7-b777-0242ac120002",
       "next": "e25549c6-cd01-11e7-b777-0242ac120002",
       "previous": "7809af3c-cdb3-11e7-bab8-0242ac120002"
      },
      {
       "current": "0bbc97ac-cd01-11e7-b777-0242ac120002",
       "next": "e25549c6-cd01-11e7-b777-0242ac120002",
       "previous": "31e60498-cdcb-11e7-bab8-0242ac120002"
      }
     ],
     "next": "29a3714a-d8d3-11e7-9867-0242ac120002",
     "previous": "31e60498-cdcb-11e7-bab8-0242ac120002"
    },
    "pinned_outputs": [
     {
      "execution_count": 11,
      "outputs": [
       {
        "name": "stdout",
        "output_type": "stream",
        "text": "\nPLAY [all] *********************************************************************\n\nTASK [telnet] ******************************************************************\n\u001b[0;33mchanged: [ap83]\u001b[0m\n\u001b[0;33mchanged: [ap64]\u001b[0m\n\nPLAY RECAP *********************************************************************\n\u001b[0;33map64\u001b[0m                       : \u001b[0;32mok=1   \u001b[0m \u001b[0;33mchanged=1   \u001b[0m unreachable=0    failed=0   \n\u001b[0;33map83\u001b[0m                       : \u001b[0;32mok=1   \u001b[0m \u001b[0;33mchanged=1   \u001b[0m unreachable=0    failed=0   \n\n"
       }
      ]
     }
    ]
   },
   "outputs": [],
   "source": [
    "!ansible-playbook -i ap64,ap83, aironet-setup.yml -t ssh-setup"
   ]
  },
  {
   "cell_type": "markdown",
   "metadata": {
    "hidden": true,
    "lc_cell_meme": {
     "current": "29a3714a-d8d3-11e7-9867-0242ac120002",
     "next": "29a376c2-d8d3-11e7-9867-0242ac120002",
     "previous": "0bbc97ac-cd01-11e7-b777-0242ac120002"
    }
   },
   "source": [
    "ansibleがAironetにsshするためにknown_hostsにfingerprintを覚えさせる必要がある。ansibleの設定で自動登録できるらしいが、jupyter内に入れてあるansibleのバージョンの問題か、動作しなかったので、ssh-keyscanで対応する。Aironetへのssh接続でfingerprintの確認が出ない状態にできたら、アクセスポイントの設定を行える。"
   ]
  },
  {
   "cell_type": "code",
   "execution_count": null,
   "metadata": {
    "hidden": true,
    "lc_cell_meme": {
     "current": "29a376c2-d8d3-11e7-9867-0242ac120002",
     "history": [
      {
       "current": "29a376c2-d8d3-11e7-9867-0242ac120002",
       "next": "e25549c6-cd01-11e7-b777-0242ac120002",
       "previous": "29a3714a-d8d3-11e7-9867-0242ac120002"
      }
     ],
     "next": "0bbc9e82-cd01-11e7-b777-0242ac120002",
     "previous": "29a3714a-d8d3-11e7-9867-0242ac120002"
    },
    "pinned_outputs": [
     {
      "execution_count": 12,
      "outputs": [
       {
        "name": "stdout",
        "output_type": "stream",
        "text": "# ap64 SSH-2.0-Cisco-1.25\n# ap64 SSH-2.0-Cisco-1.25\nno hostkey alg\n# ap64 SSH-2.0-Cisco-1.25\nno hostkey alg\n# ap83 SSH-2.0-Cisco-1.25\n# ap83 SSH-2.0-Cisco-1.25\nno hostkey alg\n# ap83 SSH-2.0-Cisco-1.25\nno hostkey alg\n"
       }
      ]
     }
    ]
   },
   "outputs": [],
   "source": [
    "!mkdir -p ~/.ssh\n",
    "!ssh-keyscan -H ap64 > ~/.ssh/known_hosts\n",
    "!ssh-keyscan -H ap83 >> ~/.ssh/known_hosts"
   ]
  },
  {
   "cell_type": "code",
   "execution_count": null,
   "metadata": {
    "hidden": true,
    "lc_cell_meme": {
     "current": "0bbc9e82-cd01-11e7-b777-0242ac120002",
     "history": [
      {
       "current": "0bbc9e82-cd01-11e7-b777-0242ac120002",
       "next": null,
       "previous": "0bbc97ac-cd01-11e7-b777-0242ac120002"
      },
      {
       "current": "0bbc9e82-cd01-11e7-b777-0242ac120002",
       "next": "e25549c6-cd01-11e7-b777-0242ac120002",
       "previous": "0bbc97ac-cd01-11e7-b777-0242ac120002"
      },
      {
       "current": "0bbc9e82-cd01-11e7-b777-0242ac120002",
       "next": null,
       "previous": "e25549c6-cd01-11e7-b777-0242ac120002"
      },
      {
       "current": "0bbc9e82-cd01-11e7-b777-0242ac120002",
       "next": "4e9d981a-cdb4-11e7-bab8-0242ac120002",
       "previous": "e25549c6-cd01-11e7-b777-0242ac120002"
      },
      {
       "current": "0bbc9e82-cd01-11e7-b777-0242ac120002",
       "next": "44ad7ebe-cdce-11e7-bab8-0242ac120002",
       "previous": "e25549c6-cd01-11e7-b777-0242ac120002"
      }
     ],
     "next": "44ad7ebe-cdce-11e7-bab8-0242ac120002",
     "previous": "29a376c2-d8d3-11e7-9867-0242ac120002"
    },
    "pinned_outputs": [
     {
      "execution_count": 13,
      "outputs": [
       {
        "name": "stdout",
        "output_type": "stream",
        "text": "\nPLAY [all] *********************************************************************\n\nTASK [ios_config] **************************************************************\n\u001b[0;33mchanged: [ap83]\u001b[0m\n\u001b[0;33mchanged: [ap64]\u001b[0m\n\nTASK [ios_config] **************************************************************\n\u001b[0;33mchanged: [ap83]\u001b[0m\n\u001b[0;33mchanged: [ap64]\u001b[0m\n\nTASK [ios_config] **************************************************************\n\u001b[0;33mchanged: [ap83]\u001b[0m\n\u001b[0;33mchanged: [ap64]\u001b[0m\n\nTASK [ios_config] **************************************************************\n\u001b[0;33mchanged: [ap83]\u001b[0m\n\u001b[0;33mchanged: [ap64]\u001b[0m\n\nTASK [ios_config] **************************************************************\n\u001b[0;33mchanged: [ap83]\u001b[0m\n\u001b[0;33mchanged: [ap64]\u001b[0m\n\nTASK [ios_config] **************************************************************\n\u001b[0;33mchanged: [ap64]\u001b[0m\n\u001b[0;33mchanged: [ap83]\u001b[0m\n\nPLAY RECAP *********************************************************************\n\u001b[0;33map64\u001b[0m                       : \u001b[0;32mok=6   \u001b[0m \u001b[0;33mchanged=6   \u001b[0m unreachable=0    failed=0   \n\u001b[0;33map83\u001b[0m                       : \u001b[0;32mok=6   \u001b[0m \u001b[0;33mchanged=6   \u001b[0m unreachable=0    failed=0   \n\n"
       }
      ]
     }
    ],
    "scrolled": true
   },
   "outputs": [],
   "source": [
    "!ansible-playbook -i ap64,ap83, aironet-setup.yml -t setup"
   ]
  },
  {
   "cell_type": "markdown",
   "metadata": {
    "heading_collapsed": true,
    "lc_cell_meme": {
     "current": "44ad7ebe-cdce-11e7-bab8-0242ac120002",
     "next": "4e9d981a-cdb4-11e7-bab8-0242ac120002",
     "previous": "0bbc9e82-cd01-11e7-b777-0242ac120002"
    }
   },
   "source": [
    "# 接続の確認"
   ]
  },
  {
   "cell_type": "markdown",
   "metadata": {
    "hidden": true,
    "lc_cell_meme": {
     "current": "4e9d981a-cdb4-11e7-bab8-0242ac120002",
     "history": [
      {
       "current": "4e9d981a-cdb4-11e7-bab8-0242ac120002",
       "next": null,
       "previous": "0bbc9e82-cd01-11e7-b777-0242ac120002"
      },
      {
       "current": "4e9d981a-cdb4-11e7-bab8-0242ac120002",
       "next": null,
       "previous": "44ad7ebe-cdce-11e7-bab8-0242ac120002"
      },
      {
       "current": "4e9d981a-cdb4-11e7-bab8-0242ac120002",
       "next": "e22566ca-cec8-11e7-b332-0242ac120002",
       "previous": "44ad7ebe-cdce-11e7-bab8-0242ac120002"
      },
      {
       "current": "4e9d981a-cdb4-11e7-bab8-0242ac120002",
       "next": "c5a13474-cec9-11e7-b332-0242ac120002",
       "previous": "44ad7ebe-cdce-11e7-bab8-0242ac120002"
      }
     ],
     "next": "8546e9d6-cf33-11e7-b332-0242ac120002",
     "previous": "44ad7ebe-cdce-11e7-bab8-0242ac120002"
    }
   },
   "source": [
    "wifiで繋いだり、有線で繋いだりして、インターネットへの接続が行えることを確認する。"
   ]
  },
  {
   "cell_type": "markdown",
   "metadata": {
    "heading_collapsed": true,
    "lc_cell_meme": {
     "current": "8546e9d6-cf33-11e7-b332-0242ac120002",
     "history": [
      {
       "current": "8546e9d6-cf33-11e7-b332-0242ac120002",
       "next": "c5a13474-cec9-11e7-b332-0242ac120002",
       "previous": "4e9d981a-cdb4-11e7-bab8-0242ac120002"
      }
     ],
     "next": "69de21ec-cf4b-11e7-bdd8-0242ac120002",
     "previous": "4e9d981a-cdb4-11e7-bab8-0242ac120002"
    }
   },
   "source": [
    "# muninの設定"
   ]
  },
  {
   "cell_type": "markdown",
   "metadata": {
    "hidden": true,
    "lc_cell_meme": {
     "current": "69de21ec-cf4b-11e7-bdd8-0242ac120002",
     "next": "c5a13474-cec9-11e7-b332-0242ac120002",
     "previous": "8546e9d6-cf33-11e7-b332-0242ac120002"
    }
   },
   "source": [
    "ネットワークの稼働をモニタするのに[munin](http://munin-monitoring.org/)を使う。\n",
    "\n",
    "vyos、ap64、ap83をsnmpで監視する設定を行い、muninコンテナを再起動する。"
   ]
  },
  {
   "cell_type": "code",
   "execution_count": null,
   "metadata": {
    "hidden": true,
    "lc_cell_meme": {
     "current": "c5a13474-cec9-11e7-b332-0242ac120002",
     "history": [
      {
       "current": "c5a13474-cec9-11e7-b332-0242ac120002",
       "next": "e22566ca-cec8-11e7-b332-0242ac120002",
       "previous": "4e9d981a-cdb4-11e7-bab8-0242ac120002"
      },
      {
       "current": "c5a13474-cec9-11e7-b332-0242ac120002",
       "next": "c5a13474-cec9-11e7-b332-0242ac120002",
       "previous": "4e9d981a-cdb4-11e7-bab8-0242ac120002"
      },
      {
       "current": "c5a13474-cec9-11e7-b332-0242ac120002",
       "next": "c5a13474-cec9-11e7-b332-0242ac120002",
       "previous": "8546e9d6-cf33-11e7-b332-0242ac120002"
      }
     ],
     "next": "c5a13474-cec9-11e7-b332-0242ac120002",
     "previous": "69de21ec-cf4b-11e7-bdd8-0242ac120002"
    }
   },
   "outputs": [],
   "source": [
    "!sudo docker exec munin bash -c \"munin-node-configure --snmp vyos --snmpversion 2c --snmpcommunity muninconnect --shell | sh\""
   ]
  },
  {
   "cell_type": "code",
   "execution_count": null,
   "metadata": {
    "hidden": true,
    "lc_cell_meme": {
     "current": "c5a13474-cec9-11e7-b332-0242ac120002",
     "history": [
      {
       "current": "c5a13474-cec9-11e7-b332-0242ac120002",
       "next": "e22566ca-cec8-11e7-b332-0242ac120002",
       "previous": "4e9d981a-cdb4-11e7-bab8-0242ac120002"
      },
      {
       "current": "c5a13474-cec9-11e7-b332-0242ac120002",
       "next": "e22566ca-cec8-11e7-b332-0242ac120002",
       "previous": "4e9d981a-cdb4-11e7-bab8-0242ac120002"
      },
      {
       "current": "c5a13474-cec9-11e7-b332-0242ac120002",
       "next": "e22566ca-cec8-11e7-b332-0242ac120002",
       "previous": "c5a13474-cec9-11e7-b332-0242ac120002"
      },
      {
       "current": "c5a13474-cec9-11e7-b332-0242ac120002",
       "next": "e22566ca-cec8-11e7-b332-0242ac120002",
       "previous": "c5a13474-cec9-11e7-b332-0242ac120002"
      },
      {
       "current": "c5a13474-cec9-11e7-b332-0242ac120002",
       "next": "54adcaf6-ceca-11e7-b332-0242ac120002",
       "previous": "c5a13474-cec9-11e7-b332-0242ac120002"
      },
      {
       "current": "c5a13474-cec9-11e7-b332-0242ac120002",
       "next": "54adcaf6-ceca-11e7-b332-0242ac120002",
       "previous": "c5a13474-cec9-11e7-b332-0242ac120002"
      },
      {
       "current": "c5a13474-cec9-11e7-b332-0242ac120002",
       "next": "54adcaf6-ceca-11e7-b332-0242ac120002",
       "previous": "c5a13474-cec9-11e7-b332-0242ac120002"
      },
      {
       "current": "c5a13474-cec9-11e7-b332-0242ac120002",
       "next": "54adcaf6-ceca-11e7-b332-0242ac120002",
       "previous": "c5a13474-cec9-11e7-b332-0242ac120002"
      }
     ],
     "next": "c5a13474-cec9-11e7-b332-0242ac120002",
     "previous": "c5a13474-cec9-11e7-b332-0242ac120002"
    }
   },
   "outputs": [],
   "source": [
    "!sudo docker exec munin bash -c \"munin-node-configure --snmp ap64 --snmpversion 2c --snmpcommunity muninconnect --shell | sh\""
   ]
  },
  {
   "cell_type": "code",
   "execution_count": null,
   "metadata": {
    "hidden": true,
    "lc_cell_meme": {
     "current": "c5a13474-cec9-11e7-b332-0242ac120002",
     "history": [
      {
       "current": "c5a13474-cec9-11e7-b332-0242ac120002",
       "next": "e22566ca-cec8-11e7-b332-0242ac120002",
       "previous": "4e9d981a-cdb4-11e7-bab8-0242ac120002"
      },
      {
       "current": "c5a13474-cec9-11e7-b332-0242ac120002",
       "next": "e22566ca-cec8-11e7-b332-0242ac120002",
       "previous": "4e9d981a-cdb4-11e7-bab8-0242ac120002"
      },
      {
       "current": "c5a13474-cec9-11e7-b332-0242ac120002",
       "next": "e22566ca-cec8-11e7-b332-0242ac120002",
       "previous": "c5a13474-cec9-11e7-b332-0242ac120002"
      },
      {
       "current": "c5a13474-cec9-11e7-b332-0242ac120002",
       "next": "e22566ca-cec8-11e7-b332-0242ac120002",
       "previous": "c5a13474-cec9-11e7-b332-0242ac120002"
      },
      {
       "current": "c5a13474-cec9-11e7-b332-0242ac120002",
       "next": "54adcaf6-ceca-11e7-b332-0242ac120002",
       "previous": "c5a13474-cec9-11e7-b332-0242ac120002"
      },
      {
       "current": "c5a13474-cec9-11e7-b332-0242ac120002",
       "next": "54adcaf6-ceca-11e7-b332-0242ac120002",
       "previous": "c5a13474-cec9-11e7-b332-0242ac120002"
      },
      {
       "current": "c5a13474-cec9-11e7-b332-0242ac120002",
       "next": "54adcaf6-ceca-11e7-b332-0242ac120002",
       "previous": "c5a13474-cec9-11e7-b332-0242ac120002"
      }
     ],
     "next": "54adcaf6-ceca-11e7-b332-0242ac120002",
     "previous": "c5a13474-cec9-11e7-b332-0242ac120002"
    }
   },
   "outputs": [],
   "source": [
    "!sudo docker exec munin bash -c \"munin-node-configure --snmp ap83 --snmpversion 2c --snmpcommunity muninconnect --shell | sh\""
   ]
  },
  {
   "cell_type": "code",
   "execution_count": null,
   "metadata": {
    "hidden": true,
    "lc_cell_meme": {
     "current": "54adcaf6-ceca-11e7-b332-0242ac120002",
     "history": [
      {
       "current": "54adcaf6-ceca-11e7-b332-0242ac120002",
       "next": "e22566ca-cec8-11e7-b332-0242ac120002",
       "previous": "c5a13474-cec9-11e7-b332-0242ac120002"
      }
     ],
     "next": "9c32eed8-ceca-11e7-b332-0242ac120002",
     "previous": "c5a13474-cec9-11e7-b332-0242ac120002"
    }
   },
   "outputs": [],
   "source": [
    "!sudo docker exec munin bash -c 'echo -e \"\\n[snmp_*]\\nenv.community muninconnect\\nenv.version 2\\n\" >> /etc/munin/plugin-conf.d/munin-node'"
   ]
  },
  {
   "cell_type": "code",
   "execution_count": null,
   "metadata": {
    "hidden": true,
    "lc_cell_meme": {
     "current": "9c32eed8-ceca-11e7-b332-0242ac120002",
     "history": [
      {
       "current": "9c32eed8-ceca-11e7-b332-0242ac120002",
       "next": "9c32f50e-ceca-11e7-b332-0242ac120002",
       "previous": "54adcaf6-ceca-11e7-b332-0242ac120002"
      }
     ],
     "next": "f5ffd13c-cf52-11e7-8330-0242ac120002",
     "previous": "54adcaf6-ceca-11e7-b332-0242ac120002"
    }
   },
   "outputs": [],
   "source": [
    "!sudo docker exec munin bash -c 'echo -e \"\\n[vyos]\\n    address 127.0.0.1\\n    use_node_name no\\n[ap64]\\n    address 127.0.0.1\\n    use_node_name no\\n[ap83]\\n    address 127.0.0.1\\n    use_node_name no\\n\" >> /etc/munin/munin.conf'"
   ]
  },
  {
   "cell_type": "code",
   "execution_count": null,
   "metadata": {
    "hidden": true,
    "lc_cell_meme": {
     "current": "f5ffd13c-cf52-11e7-8330-0242ac120002",
     "history": [
      {
       "current": "f5ffd13c-cf52-11e7-8330-0242ac120002",
       "next": "f5ffd894-cf52-11e7-8330-0242ac120002",
       "previous": "9c32eed8-ceca-11e7-b332-0242ac120002"
      }
     ],
     "next": "beeb274a-cf53-11e7-8330-0242ac120002",
     "previous": "9c32eed8-ceca-11e7-b332-0242ac120002"
    },
    "pinned_outputs": [
     {
      "execution_count": 19,
      "outputs": [
       {
        "name": "stdout",
        "output_type": "stream",
        "text": "munin\r\n"
       }
      ]
     }
    ]
   },
   "outputs": [],
   "source": [
    "!sudo docker restart munin"
   ]
  },
  {
   "cell_type": "markdown",
   "metadata": {
    "hidden": true,
    "lc_cell_meme": {
     "current": "beeb274a-cf53-11e7-8330-0242ac120002",
     "next": "f5ffd894-cf52-11e7-8330-0242ac120002",
     "previous": "f5ffd13c-cf52-11e7-8330-0242ac120002"
    }
   },
   "source": [
    "直ぐにグラフを出せるように、cron1回分を先に実行しておく。"
   ]
  },
  {
   "cell_type": "code",
   "execution_count": null,
   "metadata": {
    "hidden": true,
    "lc_cell_meme": {
     "current": "f5ffd894-cf52-11e7-8330-0242ac120002",
     "history": [
      {
       "current": "f5ffd894-cf52-11e7-8330-0242ac120002",
       "next": "9c32f50e-ceca-11e7-b332-0242ac120002",
       "previous": "f5ffd13c-cf52-11e7-8330-0242ac120002"
      }
     ],
     "next": "20a35e50-cecb-11e7-b332-0242ac120002",
     "previous": "beeb274a-cf53-11e7-8330-0242ac120002"
    }
   },
   "outputs": [],
   "source": [
    "!sleep 30s\n",
    "!sudo docker exec --user munin munin /usr/bin/munin-cron"
   ]
  },
  {
   "cell_type": "markdown",
   "metadata": {
    "hidden": true,
    "lc_cell_meme": {
     "current": "20a35e50-cecb-11e7-b332-0242ac120002",
     "history": [
      {
       "current": "20a35e50-cecb-11e7-b332-0242ac120002",
       "next": null,
       "previous": "9c32f50e-ceca-11e7-b332-0242ac120002"
      },
      {
       "current": "20a35e50-cecb-11e7-b332-0242ac120002",
       "next": null,
       "previous": "9c32f50e-ceca-11e7-b332-0242ac120002"
      }
     ],
     "next": null,
     "previous": "f5ffd894-cf52-11e7-8330-0242ac120002"
    }
   },
   "source": [
    "muninコンテナ80番ポートにブラウザでアクセスするとグラフが見れる。"
   ]
  }
 ],
 "metadata": {
  "kernelspec": {
   "display_name": "Python 3 (LC_wrapper)",
   "language": "python",
   "name": "python3-wrapper"
  },
  "language_info": {
   "file_extension": ".py",
   "mimetype": "text/x-python",
   "name": "python",
   "nbconvert_exporter": "python",
   "pygments_lexer": "ipython3",
   "version": "3.5.2"
  },
  "lc_notebook_meme": {
   "current": "9ebd387c-cb5d-11e7-ab92-0242ac120003",
   "lc_server_signature": {
    "current": {
     "notebook_dir": "/notebooks",
     "notebook_path": "/wifi",
     "server_url": "http://192.168.14.2:8888/",
     "signature_id": "11615e8a-d8d8-11e7-8379-0242ac120002"
    },
    "history": [
     {
      "notebook_dir": "/notebooks",
      "notebook_path": "/wifi",
      "server_url": "http://172.18.0.3:8888/",
      "signature_id": "3fb2b046-cb5d-11e7-ab92-0242ac120003"
     },
     {
      "notebook_dir": "/notebooks",
      "notebook_path": "/wifi",
      "server_url": "http://172.18.0.3:8888/",
      "signature_id": "f71c8e3e-cb6a-11e7-8aa9-0242ac120003"
     },
     {
      "notebook_dir": "/notebooks",
      "notebook_path": "/wifi",
      "server_url": "http://172.18.0.3:8888/",
      "signature_id": "9bd36a48-ccf5-11e7-84d7-0242ac120003"
     },
     {
      "notebook_dir": "/notebooks",
      "notebook_path": "/wifi",
      "server_url": "http://172.18.0.2:8888/",
      "signature_id": "6d4fc832-cd00-11e7-b777-0242ac120002"
     },
     {
      "notebook_dir": "/notebooks",
      "notebook_path": "/wifi",
      "server_url": "http://172.18.0.2:8888/",
      "signature_id": "3d80d954-cdb2-11e7-bab8-0242ac120002"
     },
     {
      "notebook_dir": "/notebooks",
      "notebook_path": "/wifi",
      "server_url": "http://172.18.0.2:8888/",
      "signature_id": "30b66460-cdd4-11e7-a50a-0242ac120002"
     },
     {
      "notebook_dir": "/notebooks",
      "notebook_path": "/wifi",
      "server_url": "http://172.18.0.2:8888/",
      "signature_id": "fb1ecc3a-cec7-11e7-b332-0242ac120002"
     },
     {
      "notebook_dir": "/notebooks",
      "notebook_path": "/wifi",
      "server_url": "http://192.168.14.2:8888/",
      "signature_id": "fb1ecc3a-cec7-11e7-b332-0242ac120002"
     },
     {
      "notebook_dir": "/notebooks",
      "notebook_path": "/wifi",
      "server_url": "http://172.18.0.2:8888/",
      "signature_id": "f110a0c8-cf40-11e7-bdd8-0242ac120002"
     },
     {
      "notebook_dir": "/notebooks",
      "notebook_path": "/wifi",
      "server_url": "http://192.168.14.2:8888/",
      "signature_id": "f110a0c8-cf40-11e7-bdd8-0242ac120002"
     },
     {
      "notebook_dir": "/notebooks",
      "notebook_path": "/wifi",
      "server_url": "http://192.168.14.2:8888/",
      "signature_id": "9862618c-cf4f-11e7-8330-0242ac120002"
     },
     {
      "notebook_dir": "/notebooks",
      "notebook_path": "/wifi",
      "server_url": "http://172.18.0.2:8888/",
      "signature_id": "178ef5f6-d8b0-11e7-9867-0242ac120002"
     },
     {
      "notebook_dir": "/notebooks",
      "notebook_path": "/wifi",
      "server_url": "http://192.168.14.2:8888/",
      "signature_id": "178ef5f6-d8b0-11e7-9867-0242ac120002"
     },
     {
      "notebook_dir": "/notebooks",
      "notebook_path": "/wifi",
      "server_url": "http://172.18.0.2:8888/",
      "signature_id": "11615e8a-d8d8-11e7-8379-0242ac120002"
     }
    ]
   }
  },
  "toc": {
   "nav_menu": {},
   "number_sections": true,
   "sideBar": true,
   "skip_h1_title": false,
   "title_cell": "Table of Contents",
   "title_sidebar": "Contents",
   "toc_cell": false,
   "toc_position": {},
   "toc_section_display": "block",
   "toc_window_display": false
  }
 },
 "nbformat": 4,
 "nbformat_minor": 2
}

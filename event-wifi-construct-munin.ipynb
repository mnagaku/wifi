{
 "cells": [
  {
   "cell_type": "markdown",
   "metadata": {
    "lc_cell_meme": {
     "current": "66385cbc-d994-11e7-9cc0-0242ac120002",
     "history": [
      {
       "current": "8546e9d6-cf33-11e7-b332-0242ac120002",
       "next": "c5a13474-cec9-11e7-b332-0242ac120002",
       "previous": "4e9d981a-cdb4-11e7-bab8-0242ac120002"
      },
      {
       "current": "8546e9d6-cf33-11e7-b332-0242ac120002",
       "next": "69de21ec-cf4b-11e7-bdd8-0242ac120002",
       "previous": "4e9d981a-cdb4-11e7-bab8-0242ac120002"
      },
      {
       "current": "66385cbc-d994-11e7-9cc0-0242ac120002",
       "next": "66386180-d994-11e7-9cc0-0242ac120002",
       "previous": null
      }
     ],
     "next": "1da49d38-d9a5-11e7-a0fe-0242ac120002",
     "previous": null
    }
   },
   "source": [
    "# muninの設定\n",
    "\n",
    "ネットワークの稼働をモニタするのにmuninを使う。"
   ]
  },
  {
   "cell_type": "markdown",
   "metadata": {
    "lc_cell_meme": {
     "current": "1da49d38-d9a5-11e7-a0fe-0242ac120002",
     "history": [
      {
       "current": "1da49d38-d9a5-11e7-a0fe-0242ac120002",
       "next": "66386180-d994-11e7-9cc0-0242ac120002",
       "previous": "66385cbc-d994-11e7-9cc0-0242ac120002"
      }
     ],
     "next": "66386630-d994-11e7-9cc0-0242ac120002",
     "previous": "66385cbc-d994-11e7-9cc0-0242ac120002"
    }
   },
   "source": [
    "## vyos、ap64、ap83をsnmpで監視する設定を行う\n",
    "\n",
    "[munin](http://munin-monitoring.org/)に、vyos、ap64、ap83をsnmpで監視する設定を行い、コンテナを再起動する。"
   ]
  },
  {
   "cell_type": "code",
   "execution_count": null,
   "metadata": {
    "lc_cell_meme": {
     "current": "66386630-d994-11e7-9cc0-0242ac120002",
     "history": [
      {
       "current": "c5a13474-cec9-11e7-b332-0242ac120002",
       "next": "e22566ca-cec8-11e7-b332-0242ac120002",
       "previous": "4e9d981a-cdb4-11e7-bab8-0242ac120002"
      },
      {
       "current": "c5a13474-cec9-11e7-b332-0242ac120002",
       "next": "c5a13474-cec9-11e7-b332-0242ac120002",
       "previous": "4e9d981a-cdb4-11e7-bab8-0242ac120002"
      },
      {
       "current": "c5a13474-cec9-11e7-b332-0242ac120002",
       "next": "c5a13474-cec9-11e7-b332-0242ac120002",
       "previous": "8546e9d6-cf33-11e7-b332-0242ac120002"
      },
      {
       "current": "c5a13474-cec9-11e7-b332-0242ac120002",
       "next": "c5a13474-cec9-11e7-b332-0242ac120002",
       "previous": "69de21ec-cf4b-11e7-bdd8-0242ac120002"
      },
      {
       "current": "66386630-d994-11e7-9cc0-0242ac120002",
       "next": "66386ad6-d994-11e7-9cc0-0242ac120002",
       "previous": "66386180-d994-11e7-9cc0-0242ac120002"
      }
     ],
     "next": "66386ad6-d994-11e7-9cc0-0242ac120002",
     "previous": "1da49d38-d9a5-11e7-a0fe-0242ac120002"
    }
   },
   "outputs": [],
   "source": [
    "!sudo docker exec munin bash -c \"munin-node-configure --snmp vyos --snmpversion 2c --snmpcommunity muninconnect --shell | sh\""
   ]
  },
  {
   "cell_type": "code",
   "execution_count": null,
   "metadata": {
    "lc_cell_meme": {
     "current": "66386ad6-d994-11e7-9cc0-0242ac120002",
     "history": [
      {
       "current": "c5a13474-cec9-11e7-b332-0242ac120002",
       "next": "e22566ca-cec8-11e7-b332-0242ac120002",
       "previous": "4e9d981a-cdb4-11e7-bab8-0242ac120002"
      },
      {
       "current": "c5a13474-cec9-11e7-b332-0242ac120002",
       "next": "e22566ca-cec8-11e7-b332-0242ac120002",
       "previous": "4e9d981a-cdb4-11e7-bab8-0242ac120002"
      },
      {
       "current": "c5a13474-cec9-11e7-b332-0242ac120002",
       "next": "e22566ca-cec8-11e7-b332-0242ac120002",
       "previous": "c5a13474-cec9-11e7-b332-0242ac120002"
      },
      {
       "current": "c5a13474-cec9-11e7-b332-0242ac120002",
       "next": "e22566ca-cec8-11e7-b332-0242ac120002",
       "previous": "c5a13474-cec9-11e7-b332-0242ac120002"
      },
      {
       "current": "c5a13474-cec9-11e7-b332-0242ac120002",
       "next": "54adcaf6-ceca-11e7-b332-0242ac120002",
       "previous": "c5a13474-cec9-11e7-b332-0242ac120002"
      },
      {
       "current": "c5a13474-cec9-11e7-b332-0242ac120002",
       "next": "54adcaf6-ceca-11e7-b332-0242ac120002",
       "previous": "c5a13474-cec9-11e7-b332-0242ac120002"
      },
      {
       "current": "c5a13474-cec9-11e7-b332-0242ac120002",
       "next": "54adcaf6-ceca-11e7-b332-0242ac120002",
       "previous": "c5a13474-cec9-11e7-b332-0242ac120002"
      },
      {
       "current": "c5a13474-cec9-11e7-b332-0242ac120002",
       "next": "54adcaf6-ceca-11e7-b332-0242ac120002",
       "previous": "c5a13474-cec9-11e7-b332-0242ac120002"
      },
      {
       "current": "c5a13474-cec9-11e7-b332-0242ac120002",
       "next": "c5a13474-cec9-11e7-b332-0242ac120002",
       "previous": "c5a13474-cec9-11e7-b332-0242ac120002"
      }
     ],
     "next": "66386f72-d994-11e7-9cc0-0242ac120002",
     "previous": "66386630-d994-11e7-9cc0-0242ac120002"
    }
   },
   "outputs": [],
   "source": [
    "!sudo docker exec munin bash -c \"munin-node-configure --snmp ap64 --snmpversion 2c --snmpcommunity muninconnect --shell | sh\""
   ]
  },
  {
   "cell_type": "code",
   "execution_count": null,
   "metadata": {
    "lc_cell_meme": {
     "current": "66386f72-d994-11e7-9cc0-0242ac120002",
     "history": [
      {
       "current": "c5a13474-cec9-11e7-b332-0242ac120002",
       "next": "e22566ca-cec8-11e7-b332-0242ac120002",
       "previous": "4e9d981a-cdb4-11e7-bab8-0242ac120002"
      },
      {
       "current": "c5a13474-cec9-11e7-b332-0242ac120002",
       "next": "e22566ca-cec8-11e7-b332-0242ac120002",
       "previous": "4e9d981a-cdb4-11e7-bab8-0242ac120002"
      },
      {
       "current": "c5a13474-cec9-11e7-b332-0242ac120002",
       "next": "e22566ca-cec8-11e7-b332-0242ac120002",
       "previous": "c5a13474-cec9-11e7-b332-0242ac120002"
      },
      {
       "current": "c5a13474-cec9-11e7-b332-0242ac120002",
       "next": "e22566ca-cec8-11e7-b332-0242ac120002",
       "previous": "c5a13474-cec9-11e7-b332-0242ac120002"
      },
      {
       "current": "c5a13474-cec9-11e7-b332-0242ac120002",
       "next": "54adcaf6-ceca-11e7-b332-0242ac120002",
       "previous": "c5a13474-cec9-11e7-b332-0242ac120002"
      },
      {
       "current": "c5a13474-cec9-11e7-b332-0242ac120002",
       "next": "54adcaf6-ceca-11e7-b332-0242ac120002",
       "previous": "c5a13474-cec9-11e7-b332-0242ac120002"
      },
      {
       "current": "c5a13474-cec9-11e7-b332-0242ac120002",
       "next": "54adcaf6-ceca-11e7-b332-0242ac120002",
       "previous": "c5a13474-cec9-11e7-b332-0242ac120002"
      },
      {
       "current": "c5a13474-cec9-11e7-b332-0242ac120002",
       "next": "54adcaf6-ceca-11e7-b332-0242ac120002",
       "previous": "c5a13474-cec9-11e7-b332-0242ac120002"
      }
     ],
     "next": "66387418-d994-11e7-9cc0-0242ac120002",
     "previous": "66386ad6-d994-11e7-9cc0-0242ac120002"
    }
   },
   "outputs": [],
   "source": [
    "!sudo docker exec munin bash -c \"munin-node-configure --snmp ap83 --snmpversion 2c --snmpcommunity muninconnect --shell | sh\""
   ]
  },
  {
   "cell_type": "code",
   "execution_count": null,
   "metadata": {
    "lc_cell_meme": {
     "current": "66387418-d994-11e7-9cc0-0242ac120002",
     "history": [
      {
       "current": "54adcaf6-ceca-11e7-b332-0242ac120002",
       "next": "e22566ca-cec8-11e7-b332-0242ac120002",
       "previous": "c5a13474-cec9-11e7-b332-0242ac120002"
      },
      {
       "current": "54adcaf6-ceca-11e7-b332-0242ac120002",
       "next": "9c32eed8-ceca-11e7-b332-0242ac120002",
       "previous": "c5a13474-cec9-11e7-b332-0242ac120002"
      }
     ],
     "next": "663878c8-d994-11e7-9cc0-0242ac120002",
     "previous": "66386f72-d994-11e7-9cc0-0242ac120002"
    }
   },
   "outputs": [],
   "source": [
    "!sudo docker exec munin bash -c 'echo -e \"\\n[snmp_*]\\nenv.community muninconnect\\nenv.version 2\\n\" >> /etc/munin/plugin-conf.d/munin-node'"
   ]
  },
  {
   "cell_type": "code",
   "execution_count": null,
   "metadata": {
    "lc_cell_meme": {
     "current": "663878c8-d994-11e7-9cc0-0242ac120002",
     "history": [
      {
       "current": "9c32eed8-ceca-11e7-b332-0242ac120002",
       "next": "9c32f50e-ceca-11e7-b332-0242ac120002",
       "previous": "54adcaf6-ceca-11e7-b332-0242ac120002"
      },
      {
       "current": "9c32eed8-ceca-11e7-b332-0242ac120002",
       "next": "f5ffd13c-cf52-11e7-8330-0242ac120002",
       "previous": "54adcaf6-ceca-11e7-b332-0242ac120002"
      }
     ],
     "next": "66387d6e-d994-11e7-9cc0-0242ac120002",
     "previous": "66387418-d994-11e7-9cc0-0242ac120002"
    }
   },
   "outputs": [],
   "source": [
    "!sudo docker exec munin bash -c 'echo -e \"\\n[vyos]\\n    address 127.0.0.1\\n    use_node_name no\\n[ap64]\\n    address 127.0.0.1\\n    use_node_name no\\n[ap83]\\n    address 127.0.0.1\\n    use_node_name no\\n\" >> /etc/munin/munin.conf'"
   ]
  },
  {
   "cell_type": "code",
   "execution_count": null,
   "metadata": {
    "lc_cell_meme": {
     "current": "66387d6e-d994-11e7-9cc0-0242ac120002",
     "history": [
      {
       "current": "f5ffd13c-cf52-11e7-8330-0242ac120002",
       "next": "f5ffd894-cf52-11e7-8330-0242ac120002",
       "previous": "9c32eed8-ceca-11e7-b332-0242ac120002"
      },
      {
       "current": "f5ffd13c-cf52-11e7-8330-0242ac120002",
       "next": "beeb274a-cf53-11e7-8330-0242ac120002",
       "previous": "9c32eed8-ceca-11e7-b332-0242ac120002"
      },
      {
       "current": "66387d6e-d994-11e7-9cc0-0242ac120002",
       "next": "66388214-d994-11e7-9cc0-0242ac120002",
       "previous": "663878c8-d994-11e7-9cc0-0242ac120002"
      }
     ],
     "next": "1da4a3a0-d9a5-11e7-a0fe-0242ac120002",
     "previous": "663878c8-d994-11e7-9cc0-0242ac120002"
    },
    "pinned_outputs": []
   },
   "outputs": [],
   "source": [
    "!sudo docker restart munin"
   ]
  },
  {
   "cell_type": "markdown",
   "metadata": {
    "lc_cell_meme": {
     "current": "1da4a3a0-d9a5-11e7-a0fe-0242ac120002",
     "history": [
      {
       "current": "1da4a3a0-d9a5-11e7-a0fe-0242ac120002",
       "next": "66388214-d994-11e7-9cc0-0242ac120002",
       "previous": "66387d6e-d994-11e7-9cc0-0242ac120002"
      }
     ],
     "next": "663886b0-d994-11e7-9cc0-0242ac120002",
     "previous": "66387d6e-d994-11e7-9cc0-0242ac120002"
    }
   },
   "source": [
    "## グラフ描画のために最初のデータを集める\n",
    "\n",
    "直ぐにグラフを出せるように、cron1回分を先に実行しておく。"
   ]
  },
  {
   "cell_type": "code",
   "execution_count": null,
   "metadata": {
    "lc_cell_meme": {
     "current": "663886b0-d994-11e7-9cc0-0242ac120002",
     "history": [
      {
       "current": "f5ffd894-cf52-11e7-8330-0242ac120002",
       "next": "9c32f50e-ceca-11e7-b332-0242ac120002",
       "previous": "f5ffd13c-cf52-11e7-8330-0242ac120002"
      },
      {
       "current": "f5ffd894-cf52-11e7-8330-0242ac120002",
       "next": "20a35e50-cecb-11e7-b332-0242ac120002",
       "previous": "beeb274a-cf53-11e7-8330-0242ac120002"
      },
      {
       "current": "663886b0-d994-11e7-9cc0-0242ac120002",
       "next": "66388b42-d994-11e7-9cc0-0242ac120002",
       "previous": "66388214-d994-11e7-9cc0-0242ac120002"
      }
     ],
     "next": "66388b42-d994-11e7-9cc0-0242ac120002",
     "previous": "1da4a3a0-d9a5-11e7-a0fe-0242ac120002"
    }
   },
   "outputs": [],
   "source": [
    "!sleep 30s\n",
    "!sudo docker exec --user munin munin /usr/bin/munin-cron"
   ]
  },
  {
   "cell_type": "markdown",
   "metadata": {
    "lc_cell_meme": {
     "current": "66388b42-d994-11e7-9cc0-0242ac120002",
     "history": [
      {
       "current": "20a35e50-cecb-11e7-b332-0242ac120002",
       "next": null,
       "previous": "9c32f50e-ceca-11e7-b332-0242ac120002"
      },
      {
       "current": "20a35e50-cecb-11e7-b332-0242ac120002",
       "next": null,
       "previous": "9c32f50e-ceca-11e7-b332-0242ac120002"
      },
      {
       "current": "20a35e50-cecb-11e7-b332-0242ac120002",
       "next": null,
       "previous": "f5ffd894-cf52-11e7-8330-0242ac120002"
      }
     ],
     "next": null,
     "previous": "663886b0-d994-11e7-9cc0-0242ac120002"
    }
   },
   "source": [
    "muninコンテナ80番ポートにブラウザでアクセスするとグラフが見れる。"
   ]
  }
 ],
 "metadata": {
  "kernelspec": {
   "display_name": "Python 3 (LC_wrapper)",
   "language": "python",
   "name": "python3-wrapper"
  },
  "language_info": {
   "file_extension": ".py",
   "mimetype": "text/x-python",
   "name": "python",
   "nbconvert_exporter": "python",
   "pygments_lexer": "ipython3",
   "version": "3.5.2"
  },
  "lc_notebook_meme": {
   "current": "6637a38a-d994-11e7-9cc0-0242ac120002",
   "history": [
    "9ebd387c-cb5d-11e7-ab92-0242ac120003"
   ],
   "lc_server_signature": {
    "current": {
     "notebook_dir": "/notebooks",
     "notebook_path": "/wifi",
     "server_url": "http://192.168.14.2:8888/",
     "signature_id": "5169c75c-d986-11e7-a0fe-0242ac120002"
    },
    "history": [
     {
      "notebook_dir": "/notebooks",
      "notebook_path": "/wifi",
      "server_url": "http://172.18.0.3:8888/",
      "signature_id": "3fb2b046-cb5d-11e7-ab92-0242ac120003"
     },
     {
      "notebook_dir": "/notebooks",
      "notebook_path": "/wifi",
      "server_url": "http://172.18.0.3:8888/",
      "signature_id": "f71c8e3e-cb6a-11e7-8aa9-0242ac120003"
     },
     {
      "notebook_dir": "/notebooks",
      "notebook_path": "/wifi",
      "server_url": "http://172.18.0.3:8888/",
      "signature_id": "9bd36a48-ccf5-11e7-84d7-0242ac120003"
     },
     {
      "notebook_dir": "/notebooks",
      "notebook_path": "/wifi",
      "server_url": "http://172.18.0.2:8888/",
      "signature_id": "6d4fc832-cd00-11e7-b777-0242ac120002"
     },
     {
      "notebook_dir": "/notebooks",
      "notebook_path": "/wifi",
      "server_url": "http://172.18.0.2:8888/",
      "signature_id": "3d80d954-cdb2-11e7-bab8-0242ac120002"
     },
     {
      "notebook_dir": "/notebooks",
      "notebook_path": "/wifi",
      "server_url": "http://172.18.0.2:8888/",
      "signature_id": "30b66460-cdd4-11e7-a50a-0242ac120002"
     },
     {
      "notebook_dir": "/notebooks",
      "notebook_path": "/wifi",
      "server_url": "http://172.18.0.2:8888/",
      "signature_id": "fb1ecc3a-cec7-11e7-b332-0242ac120002"
     },
     {
      "notebook_dir": "/notebooks",
      "notebook_path": "/wifi",
      "server_url": "http://192.168.14.2:8888/",
      "signature_id": "fb1ecc3a-cec7-11e7-b332-0242ac120002"
     },
     {
      "notebook_dir": "/notebooks",
      "notebook_path": "/wifi",
      "server_url": "http://172.18.0.2:8888/",
      "signature_id": "f110a0c8-cf40-11e7-bdd8-0242ac120002"
     },
     {
      "notebook_dir": "/notebooks",
      "notebook_path": "/wifi",
      "server_url": "http://192.168.14.2:8888/",
      "signature_id": "f110a0c8-cf40-11e7-bdd8-0242ac120002"
     },
     {
      "notebook_dir": "/notebooks",
      "notebook_path": "/wifi",
      "server_url": "http://192.168.14.2:8888/",
      "signature_id": "9862618c-cf4f-11e7-8330-0242ac120002"
     },
     {
      "notebook_dir": "/notebooks",
      "notebook_path": "/wifi",
      "server_url": "http://172.18.0.2:8888/",
      "signature_id": "178ef5f6-d8b0-11e7-9867-0242ac120002"
     },
     {
      "notebook_dir": "/notebooks",
      "notebook_path": "/wifi",
      "server_url": "http://192.168.14.2:8888/",
      "signature_id": "178ef5f6-d8b0-11e7-9867-0242ac120002"
     },
     {
      "notebook_dir": "/notebooks",
      "notebook_path": "/wifi",
      "server_url": "http://172.18.0.2:8888/",
      "signature_id": "11615e8a-d8d8-11e7-8379-0242ac120002"
     },
     {
      "notebook_dir": "/notebooks",
      "notebook_path": "/wifi",
      "server_url": "http://192.168.14.2:8888/",
      "signature_id": "11615e8a-d8d8-11e7-8379-0242ac120002"
     },
     {
      "notebook_dir": "/notebooks",
      "notebook_path": "/wifi",
      "server_url": "http://172.18.0.2:8888/",
      "signature_id": "5169c75c-d986-11e7-a0fe-0242ac120002"
     }
    ]
   },
   "root_cells": [
    "6637b78a-d994-11e7-9cc0-0242ac120002",
    "6637c040-d994-11e7-9cc0-0242ac120002",
    "6637c586-d994-11e7-9cc0-0242ac120002",
    "6637ca72-d994-11e7-9cc0-0242ac120002",
    "6637cfea-d994-11e7-9cc0-0242ac120002",
    "6637d4c2-d994-11e7-9cc0-0242ac120002",
    "6637d9a4-d994-11e7-9cc0-0242ac120002",
    "6637de72-d994-11e7-9cc0-0242ac120002",
    "6637e336-d994-11e7-9cc0-0242ac120002",
    "6637e7f0-d994-11e7-9cc0-0242ac120002",
    "6637ecaa-d994-11e7-9cc0-0242ac120002",
    "6637f16e-d994-11e7-9cc0-0242ac120002",
    "6637f61e-d994-11e7-9cc0-0242ac120002",
    "6637fad8-d994-11e7-9cc0-0242ac120002",
    "6637ff92-d994-11e7-9cc0-0242ac120002",
    "6638044c-d994-11e7-9cc0-0242ac120002",
    "663808f2-d994-11e7-9cc0-0242ac120002",
    "66380da2-d994-11e7-9cc0-0242ac120002",
    "66381248-d994-11e7-9cc0-0242ac120002",
    "663816f8-d994-11e7-9cc0-0242ac120002",
    "66381ba8-d994-11e7-9cc0-0242ac120002",
    "6638203a-d994-11e7-9cc0-0242ac120002",
    "663824e0-d994-11e7-9cc0-0242ac120002",
    "6638297c-d994-11e7-9cc0-0242ac120002",
    "66382e36-d994-11e7-9cc0-0242ac120002",
    "663832d2-d994-11e7-9cc0-0242ac120002",
    "6638378c-d994-11e7-9cc0-0242ac120002",
    "66383c28-d994-11e7-9cc0-0242ac120002",
    "66384858-d994-11e7-9cc0-0242ac120002",
    "66384d30-d994-11e7-9cc0-0242ac120002",
    "663851d6-d994-11e7-9cc0-0242ac120002",
    "6638567c-d994-11e7-9cc0-0242ac120002",
    "66385cbc-d994-11e7-9cc0-0242ac120002",
    "66386180-d994-11e7-9cc0-0242ac120002",
    "66386630-d994-11e7-9cc0-0242ac120002",
    "66386ad6-d994-11e7-9cc0-0242ac120002",
    "66386f72-d994-11e7-9cc0-0242ac120002",
    "66387418-d994-11e7-9cc0-0242ac120002",
    "663878c8-d994-11e7-9cc0-0242ac120002",
    "66387d6e-d994-11e7-9cc0-0242ac120002",
    "66388214-d994-11e7-9cc0-0242ac120002",
    "663886b0-d994-11e7-9cc0-0242ac120002",
    "66388b42-d994-11e7-9cc0-0242ac120002"
   ]
  },
  "toc": {
   "nav_menu": {},
   "number_sections": true,
   "sideBar": true,
   "skip_h1_title": false,
   "title_cell": "Table of Contents",
   "title_sidebar": "Contents",
   "toc_cell": false,
   "toc_position": {},
   "toc_section_display": "block",
   "toc_window_display": true
  }
 },
 "nbformat": 4,
 "nbformat_minor": 2
}

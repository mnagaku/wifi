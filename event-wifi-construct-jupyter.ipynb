{
 "cells": [
  {
   "cell_type": "markdown",
   "metadata": {
    "heading_collapsed": true,
    "lc_cell_meme": {
     "current": "6637d4c2-d994-11e7-9cc0-0242ac120002",
     "history": [
      {
       "current": "102e9ca0-cdbe-11e7-bab8-0242ac120002",
       "next": "9ebd3e4e-cb5d-11e7-ab92-0242ac120003",
       "previous": "102e97be-cdbe-11e7-bab8-0242ac120002"
      },
      {
       "current": "102e9ca0-cdbe-11e7-bab8-0242ac120002",
       "next": "7d4a4108-cdc4-11e7-bab8-0242ac120002",
       "previous": "102e97be-cdbe-11e7-bab8-0242ac120002"
      },
      {
       "current": "102e9ca0-cdbe-11e7-bab8-0242ac120002",
       "next": "7d4a4108-cdc4-11e7-bab8-0242ac120002",
       "previous": "6a5e463c-d8b6-11e7-9867-0242ac120002"
      },
      {
       "current": "6637d4c2-d994-11e7-9cc0-0242ac120002",
       "next": "6637d9a4-d994-11e7-9cc0-0242ac120002",
       "previous": null
      }
     ],
     "next": "3aa8aeb8-d9a2-11e7-a0fe-0242ac120002",
     "previous": null
    }
   },
   "source": [
    "# Jupyterの設定"
   ]
  },
  {
   "cell_type": "markdown",
   "metadata": {
    "hidden": true,
    "lc_cell_meme": {
     "current": "3aa8aeb8-d9a2-11e7-a0fe-0242ac120002",
     "history": [
      {
       "current": "3aa8aeb8-d9a2-11e7-a0fe-0242ac120002",
       "next": "6637d9a4-d994-11e7-9cc0-0242ac120002",
       "previous": "6637d4c2-d994-11e7-9cc0-0242ac120002"
      }
     ],
     "next": "6637de72-d994-11e7-9cc0-0242ac120002",
     "previous": "6637d4c2-d994-11e7-9cc0-0242ac120002"
    }
   },
   "source": [
    "## タイムゾーンをJSTにする"
   ]
  },
  {
   "cell_type": "code",
   "execution_count": null,
   "metadata": {
    "hidden": true,
    "lc_cell_meme": {
     "current": "6637de72-d994-11e7-9cc0-0242ac120002",
     "history": [
      {
       "current": "9ebd3e4e-cb5d-11e7-ab92-0242ac120003",
       "next": null,
       "previous": null
      },
      {
       "current": "9ebd3e4e-cb5d-11e7-ab92-0242ac120003",
       "next": "e6351f44-cb5d-11e7-ab92-0242ac120003",
       "previous": null
      },
      {
       "current": "9ebd3e4e-cb5d-11e7-ab92-0242ac120003",
       "next": "9ebd3e4e-cb5d-11e7-ab92-0242ac120003",
       "previous": null
      },
      {
       "current": "9ebd3e4e-cb5d-11e7-ab92-0242ac120003",
       "next": "e6351f44-cb5d-11e7-ab92-0242ac120003",
       "previous": null
      },
      {
       "current": "9ebd3e4e-cb5d-11e7-ab92-0242ac120003",
       "next": "963c83d4-ccf6-11e7-84d7-0242ac120003",
       "previous": null
      },
      {
       "current": "9ebd3e4e-cb5d-11e7-ab92-0242ac120003",
       "next": "963c83d4-ccf6-11e7-84d7-0242ac120003",
       "previous": "102e9ca0-cdbe-11e7-bab8-0242ac120002"
      },
      {
       "current": "9ebd3e4e-cb5d-11e7-ab92-0242ac120003",
       "next": "963c83d4-ccf6-11e7-84d7-0242ac120003",
       "previous": "7d4a4108-cdc4-11e7-bab8-0242ac120002"
      },
      {
       "current": "9ebd3e4e-cb5d-11e7-ab92-0242ac120003",
       "next": "c4cc1e20-cdc4-11e7-bab8-0242ac120002",
       "previous": "7d4a4108-cdc4-11e7-bab8-0242ac120002"
      },
      {
       "current": "9ebd3e4e-cb5d-11e7-ab92-0242ac120003",
       "next": "c4cc2474-cdc4-11e7-bab8-0242ac120002",
       "previous": "7d4a4108-cdc4-11e7-bab8-0242ac120002"
      },
      {
       "current": "6637de72-d994-11e7-9cc0-0242ac120002",
       "next": null,
       "previous": "6637d9a4-d994-11e7-9cc0-0242ac120002"
      }
     ],
     "next": "6a2d17e6-d9a2-11e7-a0fe-0242ac120002",
     "previous": "3aa8aeb8-d9a2-11e7-a0fe-0242ac120002"
    },
    "pinned_outputs": [
     {
      "execution_count": 1,
      "outputs": [
       {
        "name": "stdout",
        "output_type": "stream",
        "text": "1 logs recorded\n\npath: /notebooks/wifi/.log/20171205/20171205-114448-0310.log\nstart time: 2017-12-05 11:44:48(UTC)\nend time: 2017-12-05 11:44:50(UTC)\noutput size: 594 bytes\n6 chunks with matched keywords or errors\n----\nTue Dec  5 20:44:50 JST 2017\nstdin: is not a tty\n\nCurrent default time zone: 'Asia/Tokyo'\nLocal time is now:      Tue Dec  5 20:44:50 JST 2017.\nUniversal Time is now:  Tue Dec  5 11:44:50 UTC 2017.\n"
       }
      ]
     }
    ]
   },
   "outputs": [],
   "source": [
    "%%bash\n",
    "sudo -i\n",
    "echo Asia/Tokyo > /etc/timezone\n",
    "dpkg-reconfigure --frontend noninteractive tzdata\n",
    "date"
   ]
  },
  {
   "cell_type": "markdown",
   "metadata": {
    "hidden": true,
    "lc_cell_meme": {
     "current": "6a2d17e6-d9a2-11e7-a0fe-0242ac120002",
     "next": null,
     "previous": "6637de72-d994-11e7-9cc0-0242ac120002"
    }
   },
   "source": [
    "このDockerコンテナイメージ[niicloudoperation/notebook](https://hub.docker.com/r/niicloudoperation/notebook/)は、国立情報学研究所クラウド運用チームの研究実践「Literate Computing for Reproducible Infrastructure」で実際に使われているもので、SDNにOpen Flowを使ったベアメタルのプライベートクラウドの構築・運用に使われている。"
   ]
  }
 ],
 "metadata": {
  "kernelspec": {
   "display_name": "Python 3 (LC_wrapper)",
   "language": "python",
   "name": "python3-wrapper"
  },
  "language_info": {
   "file_extension": ".py",
   "mimetype": "text/x-python",
   "name": "python",
   "nbconvert_exporter": "python",
   "pygments_lexer": "ipython3",
   "version": "3.5.2"
  },
  "lc_notebook_meme": {
   "current": "6637a38a-d994-11e7-9cc0-0242ac120002",
   "history": [
    "9ebd387c-cb5d-11e7-ab92-0242ac120003"
   ],
   "lc_server_signature": {
    "current": {
     "notebook_dir": "/notebooks",
     "notebook_path": "/wifi",
     "server_url": "http://192.168.14.2:8888/",
     "signature_id": "689960ba-d9b1-11e7-9872-0242ac120002"
    },
    "history": [
     {
      "notebook_dir": "/notebooks",
      "notebook_path": "/wifi",
      "server_url": "http://172.18.0.3:8888/",
      "signature_id": "3fb2b046-cb5d-11e7-ab92-0242ac120003"
     },
     {
      "notebook_dir": "/notebooks",
      "notebook_path": "/wifi",
      "server_url": "http://172.18.0.3:8888/",
      "signature_id": "f71c8e3e-cb6a-11e7-8aa9-0242ac120003"
     },
     {
      "notebook_dir": "/notebooks",
      "notebook_path": "/wifi",
      "server_url": "http://172.18.0.3:8888/",
      "signature_id": "9bd36a48-ccf5-11e7-84d7-0242ac120003"
     },
     {
      "notebook_dir": "/notebooks",
      "notebook_path": "/wifi",
      "server_url": "http://172.18.0.2:8888/",
      "signature_id": "6d4fc832-cd00-11e7-b777-0242ac120002"
     },
     {
      "notebook_dir": "/notebooks",
      "notebook_path": "/wifi",
      "server_url": "http://172.18.0.2:8888/",
      "signature_id": "3d80d954-cdb2-11e7-bab8-0242ac120002"
     },
     {
      "notebook_dir": "/notebooks",
      "notebook_path": "/wifi",
      "server_url": "http://172.18.0.2:8888/",
      "signature_id": "30b66460-cdd4-11e7-a50a-0242ac120002"
     },
     {
      "notebook_dir": "/notebooks",
      "notebook_path": "/wifi",
      "server_url": "http://172.18.0.2:8888/",
      "signature_id": "fb1ecc3a-cec7-11e7-b332-0242ac120002"
     },
     {
      "notebook_dir": "/notebooks",
      "notebook_path": "/wifi",
      "server_url": "http://192.168.14.2:8888/",
      "signature_id": "fb1ecc3a-cec7-11e7-b332-0242ac120002"
     },
     {
      "notebook_dir": "/notebooks",
      "notebook_path": "/wifi",
      "server_url": "http://172.18.0.2:8888/",
      "signature_id": "f110a0c8-cf40-11e7-bdd8-0242ac120002"
     },
     {
      "notebook_dir": "/notebooks",
      "notebook_path": "/wifi",
      "server_url": "http://192.168.14.2:8888/",
      "signature_id": "f110a0c8-cf40-11e7-bdd8-0242ac120002"
     },
     {
      "notebook_dir": "/notebooks",
      "notebook_path": "/wifi",
      "server_url": "http://192.168.14.2:8888/",
      "signature_id": "9862618c-cf4f-11e7-8330-0242ac120002"
     },
     {
      "notebook_dir": "/notebooks",
      "notebook_path": "/wifi",
      "server_url": "http://172.18.0.2:8888/",
      "signature_id": "178ef5f6-d8b0-11e7-9867-0242ac120002"
     },
     {
      "notebook_dir": "/notebooks",
      "notebook_path": "/wifi",
      "server_url": "http://192.168.14.2:8888/",
      "signature_id": "178ef5f6-d8b0-11e7-9867-0242ac120002"
     },
     {
      "notebook_dir": "/notebooks",
      "notebook_path": "/wifi",
      "server_url": "http://172.18.0.2:8888/",
      "signature_id": "11615e8a-d8d8-11e7-8379-0242ac120002"
     },
     {
      "notebook_dir": "/notebooks",
      "notebook_path": "/wifi",
      "server_url": "http://192.168.14.2:8888/",
      "signature_id": "11615e8a-d8d8-11e7-8379-0242ac120002"
     },
     {
      "notebook_dir": "/notebooks",
      "notebook_path": "/wifi",
      "server_url": "http://172.18.0.2:8888/",
      "signature_id": "5169c75c-d986-11e7-a0fe-0242ac120002"
     },
     {
      "notebook_dir": "/notebooks",
      "notebook_path": "/wifi",
      "server_url": "http://192.168.14.2:8888/",
      "signature_id": "5169c75c-d986-11e7-a0fe-0242ac120002"
     },
     {
      "notebook_dir": "/notebooks",
      "notebook_path": "/wifi",
      "server_url": "http://172.18.0.2:8888/",
      "signature_id": "689960ba-d9b1-11e7-9872-0242ac120002"
     }
    ]
   },
   "root_cells": [
    "6637b78a-d994-11e7-9cc0-0242ac120002",
    "6637c040-d994-11e7-9cc0-0242ac120002",
    "6637c586-d994-11e7-9cc0-0242ac120002",
    "6637ca72-d994-11e7-9cc0-0242ac120002",
    "6637cfea-d994-11e7-9cc0-0242ac120002",
    "6637d4c2-d994-11e7-9cc0-0242ac120002",
    "6637d9a4-d994-11e7-9cc0-0242ac120002",
    "6637de72-d994-11e7-9cc0-0242ac120002",
    "6637e336-d994-11e7-9cc0-0242ac120002",
    "6637e7f0-d994-11e7-9cc0-0242ac120002",
    "6637ecaa-d994-11e7-9cc0-0242ac120002",
    "6637f16e-d994-11e7-9cc0-0242ac120002",
    "6637f61e-d994-11e7-9cc0-0242ac120002",
    "6637fad8-d994-11e7-9cc0-0242ac120002",
    "6637ff92-d994-11e7-9cc0-0242ac120002",
    "6638044c-d994-11e7-9cc0-0242ac120002",
    "663808f2-d994-11e7-9cc0-0242ac120002",
    "66380da2-d994-11e7-9cc0-0242ac120002",
    "66381248-d994-11e7-9cc0-0242ac120002",
    "663816f8-d994-11e7-9cc0-0242ac120002",
    "66381ba8-d994-11e7-9cc0-0242ac120002",
    "6638203a-d994-11e7-9cc0-0242ac120002",
    "663824e0-d994-11e7-9cc0-0242ac120002",
    "6638297c-d994-11e7-9cc0-0242ac120002",
    "66382e36-d994-11e7-9cc0-0242ac120002",
    "663832d2-d994-11e7-9cc0-0242ac120002",
    "6638378c-d994-11e7-9cc0-0242ac120002",
    "66383c28-d994-11e7-9cc0-0242ac120002",
    "66384858-d994-11e7-9cc0-0242ac120002",
    "66384d30-d994-11e7-9cc0-0242ac120002",
    "663851d6-d994-11e7-9cc0-0242ac120002",
    "6638567c-d994-11e7-9cc0-0242ac120002",
    "66385cbc-d994-11e7-9cc0-0242ac120002",
    "66386180-d994-11e7-9cc0-0242ac120002",
    "66386630-d994-11e7-9cc0-0242ac120002",
    "66386ad6-d994-11e7-9cc0-0242ac120002",
    "66386f72-d994-11e7-9cc0-0242ac120002",
    "66387418-d994-11e7-9cc0-0242ac120002",
    "663878c8-d994-11e7-9cc0-0242ac120002",
    "66387d6e-d994-11e7-9cc0-0242ac120002",
    "66388214-d994-11e7-9cc0-0242ac120002",
    "663886b0-d994-11e7-9cc0-0242ac120002",
    "66388b42-d994-11e7-9cc0-0242ac120002"
   ]
  },
  "toc": {
   "nav_menu": {},
   "number_sections": true,
   "sideBar": true,
   "skip_h1_title": false,
   "title_cell": "Table of Contents",
   "title_sidebar": "Contents",
   "toc_cell": false,
   "toc_position": {},
   "toc_section_display": "block",
   "toc_window_display": true
  }
 },
 "nbformat": 4,
 "nbformat_minor": 2
}

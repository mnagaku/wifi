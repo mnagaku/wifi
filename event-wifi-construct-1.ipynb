{
 "cells": [
  {
   "cell_type": "code",
   "execution_count": null,
   "metadata": {
    "lc_cell_meme": {
     "current": "9ebd3e4e-cb5d-11e7-ab92-0242ac120003",
     "history": [
      {
       "current": "9ebd3e4e-cb5d-11e7-ab92-0242ac120003",
       "next": null,
       "previous": null
      },
      {
       "current": "9ebd3e4e-cb5d-11e7-ab92-0242ac120003",
       "next": "e6351f44-cb5d-11e7-ab92-0242ac120003",
       "previous": null
      },
      {
       "current": "9ebd3e4e-cb5d-11e7-ab92-0242ac120003",
       "next": "9ebd3e4e-cb5d-11e7-ab92-0242ac120003",
       "previous": null
      },
      {
       "current": "9ebd3e4e-cb5d-11e7-ab92-0242ac120003",
       "next": "e6351f44-cb5d-11e7-ab92-0242ac120003",
       "previous": null
      }
     ],
     "next": "963c83d4-ccf6-11e7-84d7-0242ac120003",
     "previous": null
    }
   },
   "outputs": [],
   "source": [
    "%%bash\n",
    "sudo -i\n",
    "curl -fsSL https://download.docker.com/linux/static/stable/x86_64/docker-17.09.0-ce.tgz \\\n",
    "  | tar -xzC /usr/local/bin --strip=1 docker/docker\n",
    "docker ps -a"
   ]
  },
  {
   "cell_type": "code",
   "execution_count": null,
   "metadata": {
    "lc_cell_meme": {
     "current": "963c83d4-ccf6-11e7-84d7-0242ac120003",
     "next": "fc8cfe3c-cb68-11e7-ab92-0242ac120003",
     "previous": "9ebd3e4e-cb5d-11e7-ab92-0242ac120003"
    }
   },
   "outputs": [],
   "source": [
    "!sudo docker exec vyos ifconfig"
   ]
  },
  {
   "cell_type": "code",
   "execution_count": null,
   "metadata": {
    "lc_cell_meme": {
     "current": "fc8cfe3c-cb68-11e7-ab92-0242ac120003",
     "history": [
      {
       "current": "fc8cfe3c-cb68-11e7-ab92-0242ac120003",
       "next": null,
       "previous": "381d521a-cb66-11e7-ab92-0242ac120003"
      },
      {
       "current": "fc8cfe3c-cb68-11e7-ab92-0242ac120003",
       "next": null,
       "previous": "e6351f44-cb5d-11e7-ab92-0242ac120003"
      }
     ],
     "next": "963c894c-ccf6-11e7-84d7-0242ac120003",
     "previous": "963c83d4-ccf6-11e7-84d7-0242ac120003"
    }
   },
   "outputs": [],
   "source": [
    "!sudo docker network ls"
   ]
  },
  {
   "cell_type": "code",
   "execution_count": null,
   "metadata": {
    "lc_cell_meme": {
     "current": "963c894c-ccf6-11e7-84d7-0242ac120003",
     "history": [
      {
       "current": "963c894c-ccf6-11e7-84d7-0242ac120003",
       "next": "e6351f44-cb5d-11e7-ab92-0242ac120003",
       "previous": "fc8cfe3c-cb68-11e7-ab92-0242ac120003"
      }
     ],
     "next": "963c894c-ccf6-11e7-84d7-0242ac120003",
     "previous": "fc8cfe3c-cb68-11e7-ab92-0242ac120003"
    }
   },
   "outputs": [],
   "source": [
    "!sudo docker network connect root_wire vyos"
   ]
  },
  {
   "cell_type": "code",
   "execution_count": null,
   "metadata": {
    "lc_cell_meme": {
     "current": "963c894c-ccf6-11e7-84d7-0242ac120003",
     "history": [
      {
       "current": "963c894c-ccf6-11e7-84d7-0242ac120003",
       "next": "e6351f44-cb5d-11e7-ab92-0242ac120003",
       "previous": "fc8cfe3c-cb68-11e7-ab92-0242ac120003"
      }
     ],
     "next": "e6351f44-cb5d-11e7-ab92-0242ac120003",
     "previous": "963c894c-ccf6-11e7-84d7-0242ac120003"
    }
   },
   "outputs": [],
   "source": [
    "!sudo docker exec vyos ifconfig"
   ]
  },
  {
   "cell_type": "code",
   "execution_count": null,
   "metadata": {
    "lc_cell_meme": {
     "current": "e6351f44-cb5d-11e7-ab92-0242ac120003",
     "history": [
      {
       "current": "e6351f44-cb5d-11e7-ab92-0242ac120003",
       "next": null,
       "previous": "9ebd3e4e-cb5d-11e7-ab92-0242ac120003"
      },
      {
       "current": "e6351f44-cb5d-11e7-ab92-0242ac120003",
       "next": "bcc9fa02-cb5e-11e7-ab92-0242ac120003",
       "previous": "9ebd3e4e-cb5d-11e7-ab92-0242ac120003"
      },
      {
       "current": "e6351f44-cb5d-11e7-ab92-0242ac120003",
       "next": null,
       "previous": "bcc9fa02-cb5e-11e7-ab92-0242ac120003"
      },
      {
       "current": "e6351f44-cb5d-11e7-ab92-0242ac120003",
       "next": "381d521a-cb66-11e7-ab92-0242ac120003",
       "previous": "bcc9fa02-cb5e-11e7-ab92-0242ac120003"
      },
      {
       "current": "e6351f44-cb5d-11e7-ab92-0242ac120003",
       "next": "fc8cfe3c-cb68-11e7-ab92-0242ac120003",
       "previous": "9ebd3e4e-cb5d-11e7-ab92-0242ac120003"
      },
      {
       "current": "e6351f44-cb5d-11e7-ab92-0242ac120003",
       "next": null,
       "previous": "963c894c-ccf6-11e7-84d7-0242ac120003"
      }
     ],
     "next": "0bbc97ac-cd01-11e7-b777-0242ac120002",
     "previous": "963c894c-ccf6-11e7-84d7-0242ac120003"
    }
   },
   "outputs": [],
   "source": [
    "!sudo ansible-playbook -i vyos, vyos-setup.yml"
   ]
  },
  {
   "cell_type": "code",
   "execution_count": null,
   "metadata": {
    "lc_cell_meme": {
     "current": "0bbc97ac-cd01-11e7-b777-0242ac120002",
     "history": [
      {
       "current": "0bbc97ac-cd01-11e7-b777-0242ac120002",
       "next": "0bbc9e82-cd01-11e7-b777-0242ac120002",
       "previous": "e6351f44-cb5d-11e7-ab92-0242ac120003"
      }
     ],
     "next": "e25549c6-cd01-11e7-b777-0242ac120002",
     "previous": "e6351f44-cb5d-11e7-ab92-0242ac120003"
    }
   },
   "outputs": [],
   "source": [
    "!ansible-playbook -i 192.168.14.130, aironet-setup.yml -t ssh-setup"
   ]
  },
  {
   "cell_type": "markdown",
   "metadata": {
    "lc_cell_meme": {
     "current": "e25549c6-cd01-11e7-b777-0242ac120002",
     "history": [
      {
       "current": "e25549c6-cd01-11e7-b777-0242ac120002",
       "next": null,
       "previous": "0bbc9e82-cd01-11e7-b777-0242ac120002"
      }
     ],
     "next": "0bbc9e82-cd01-11e7-b777-0242ac120002",
     "previous": "0bbc97ac-cd01-11e7-b777-0242ac120002"
    }
   },
   "source": [
    "kokode ssh yattoku"
   ]
  },
  {
   "cell_type": "code",
   "execution_count": null,
   "metadata": {
    "lc_cell_meme": {
     "current": "0bbc9e82-cd01-11e7-b777-0242ac120002",
     "history": [
      {
       "current": "0bbc9e82-cd01-11e7-b777-0242ac120002",
       "next": null,
       "previous": "0bbc97ac-cd01-11e7-b777-0242ac120002"
      },
      {
       "current": "0bbc9e82-cd01-11e7-b777-0242ac120002",
       "next": "e25549c6-cd01-11e7-b777-0242ac120002",
       "previous": "0bbc97ac-cd01-11e7-b777-0242ac120002"
      }
     ],
     "next": null,
     "previous": "e25549c6-cd01-11e7-b777-0242ac120002"
    }
   },
   "outputs": [],
   "source": [
    "!ansible-playbook -i 192.168.14.130, aironet-setup.yml -t setup"
   ]
  }
 ],
 "metadata": {
  "kernelspec": {
   "display_name": "Python 3",
   "language": "python",
   "name": "python3"
  },
  "language_info": {
   "codemirror_mode": {
    "name": "ipython",
    "version": 3
   },
   "file_extension": ".py",
   "mimetype": "text/x-python",
   "name": "python",
   "nbconvert_exporter": "python",
   "pygments_lexer": "ipython3",
   "version": "3.5.2"
  },
  "lc_notebook_meme": {
   "current": "9ebd387c-cb5d-11e7-ab92-0242ac120003",
   "lc_server_signature": {
    "current": {
     "notebook_dir": "/notebooks",
     "notebook_path": "/wifi",
     "server_url": "http://172.18.0.2:8888/",
     "signature_id": "6d4fc832-cd00-11e7-b777-0242ac120002"
    },
    "history": [
     {
      "notebook_dir": "/notebooks",
      "notebook_path": "/wifi",
      "server_url": "http://172.18.0.3:8888/",
      "signature_id": "3fb2b046-cb5d-11e7-ab92-0242ac120003"
     },
     {
      "notebook_dir": "/notebooks",
      "notebook_path": "/wifi",
      "server_url": "http://172.18.0.3:8888/",
      "signature_id": "f71c8e3e-cb6a-11e7-8aa9-0242ac120003"
     },
     {
      "notebook_dir": "/notebooks",
      "notebook_path": "/wifi",
      "server_url": "http://172.18.0.3:8888/",
      "signature_id": "9bd36a48-ccf5-11e7-84d7-0242ac120003"
     }
    ]
   }
  },
  "toc": {
   "nav_menu": {},
   "number_sections": true,
   "sideBar": true,
   "skip_h1_title": false,
   "toc_cell": false,
   "toc_position": {},
   "toc_section_display": "block",
   "toc_window_display": false
  }
 },
 "nbformat": 4,
 "nbformat_minor": 2
}

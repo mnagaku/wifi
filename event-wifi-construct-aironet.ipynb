{
 "cells": [
  {
   "cell_type": "markdown",
   "metadata": {
    "heading_collapsed": true,
    "lc_cell_meme": {
     "current": "663824e0-d994-11e7-9cc0-0242ac120002",
     "history": [
      {
       "current": "c4cc2938-cdc4-11e7-bab8-0242ac120002",
       "next": "c4cc2dca-cdc4-11e7-bab8-0242ac120002",
       "previous": "e6351f44-cb5d-11e7-ab92-0242ac120003"
      },
      {
       "current": "c4cc2938-cdc4-11e7-bab8-0242ac120002",
       "next": "c4cc2dca-cdc4-11e7-bab8-0242ac120002",
       "previous": "a1769c32-cdb2-11e7-bab8-0242ac120002"
      },
      {
       "current": "c4cc2938-cdc4-11e7-bab8-0242ac120002",
       "next": "c4cc2dca-cdc4-11e7-bab8-0242ac120002",
       "previous": "1f1d2a92-cdc8-11e7-bab8-0242ac120002"
      },
      {
       "current": "663824e0-d994-11e7-9cc0-0242ac120002",
       "next": "6638297c-d994-11e7-9cc0-0242ac120002",
       "previous": null
      }
     ],
     "next": "1835481c-d9a4-11e7-a0fe-0242ac120002",
     "previous": null
    }
   },
   "source": [
    "# Aironetの設定"
   ]
  },
  {
   "cell_type": "markdown",
   "metadata": {
    "hidden": true,
    "lc_cell_meme": {
     "current": "1835481c-d9a4-11e7-a0fe-0242ac120002",
     "next": "6638297c-d994-11e7-9cc0-0242ac120002",
     "previous": "663824e0-d994-11e7-9cc0-0242ac120002"
    }
   },
   "source": [
    "## 接続を確認する"
   ]
  },
  {
   "cell_type": "markdown",
   "metadata": {
    "hidden": true,
    "lc_cell_meme": {
     "current": "6638297c-d994-11e7-9cc0-0242ac120002",
     "history": [
      {
       "current": "c4cc2dca-cdc4-11e7-bab8-0242ac120002",
       "next": "7809af3c-cdb3-11e7-bab8-0242ac120002",
       "previous": "c4cc2938-cdc4-11e7-bab8-0242ac120002"
      },
      {
       "current": "6638297c-d994-11e7-9cc0-0242ac120002",
       "next": "66382e36-d994-11e7-9cc0-0242ac120002",
       "previous": "663824e0-d994-11e7-9cc0-0242ac120002"
      }
     ],
     "next": "66382e36-d994-11e7-9cc0-0242ac120002",
     "previous": "1835481c-d9a4-11e7-a0fe-0242ac120002"
    }
   },
   "source": [
    "工場出荷時設定の[Aironet1140](https://www.cisco.com/c/ja_jp/td/docs/nma/works/works4windows/gs/001/ap1140aut-getstart.html)を、wifiのネットワークに繋ぐ。vyosの設定に、macアドレスに対して固定のIPアドレスを払い出すように書いてあるので、Aironetがそのアドレスを掴めたか確認する。起動にそこそこ時間がかかるので、時間を空けて何度か試すこと。\n",
    "\n",
    "因みにAironet1140を工場出荷時設定に戻すには、「MODE」スイッチを押したまま電源を疎通させランプが赤点灯になるまで押し続けることで行える。"
   ]
  },
  {
   "cell_type": "code",
   "execution_count": null,
   "metadata": {
    "hidden": true,
    "lc_cell_meme": {
     "current": "66382e36-d994-11e7-9cc0-0242ac120002",
     "history": [
      {
       "current": "7809af3c-cdb3-11e7-bab8-0242ac120002",
       "next": "0bbc97ac-cd01-11e7-b777-0242ac120002",
       "previous": "e6351f44-cb5d-11e7-ab92-0242ac120003"
      },
      {
       "current": "7809af3c-cdb3-11e7-bab8-0242ac120002",
       "next": "0bbc97ac-cd01-11e7-b777-0242ac120002",
       "previous": "c4cc2dca-cdc4-11e7-bab8-0242ac120002"
      },
      {
       "current": "7809af3c-cdb3-11e7-bab8-0242ac120002",
       "next": "31e60498-cdcb-11e7-bab8-0242ac120002",
       "previous": "c4cc2dca-cdc4-11e7-bab8-0242ac120002"
      },
      {
       "current": "66382e36-d994-11e7-9cc0-0242ac120002",
       "next": "663832d2-d994-11e7-9cc0-0242ac120002",
       "previous": "6638297c-d994-11e7-9cc0-0242ac120002"
      }
     ],
     "next": "5fbca7b6-d9a4-11e7-a0fe-0242ac120002",
     "previous": "6638297c-d994-11e7-9cc0-0242ac120002"
    },
    "pinned_outputs": [
     {
      "execution_count": 1,
      "outputs": [
       {
        "name": "stdout",
        "output_type": "stream",
        "text": "1 logs recorded\n\npath: /notebooks/wifi/.log/20180119/20180119-181805-0505.log\nstart time: 2018-01-19 18:18:05(JST)\nend time: 2018-01-19 18:18:23(JST)\noutput size: 756 bytes\n0 chunks with matched keywords or errors\n----\nPING ap64 (192.168.14.64): 56 data bytes\n64 bytes from 192.168.14.64: icmp_seq=1 ttl=255 time=3.455 ms\n64 bytes from 192.168.14.64: icmp_seq=2 ttl=255 time=2.428 ms\n64 bytes from 192.168.14.64: icmp_seq=3 ttl=255 time=4.772 ms\n--- ap64 ping statistics ---\n4 packets transmitted, 3 packets received, 25% packet loss\nround-trip min/avg/max/stddev = 2.428/3.552/4.772/0.959 ms"
       }
      ]
     }
    ]
   },
   "outputs": [],
   "source": [
    "!ping -c 4 ap64\n",
    "!test $(ping -c 4 ap64 | grep \"4 packets received\" | wc -l) -eq 1"
   ]
  },
  {
   "cell_type": "markdown",
   "metadata": {
    "hidden": true,
    "lc_cell_meme": {
     "current": "5fbca7b6-d9a4-11e7-a0fe-0242ac120002",
     "next": "663832d2-d994-11e7-9cc0-0242ac120002",
     "previous": "66382e36-d994-11e7-9cc0-0242ac120002"
    }
   },
   "source": [
    "## Ansibleでssh接続を設定する"
   ]
  },
  {
   "cell_type": "markdown",
   "metadata": {
    "hidden": true,
    "lc_cell_meme": {
     "current": "663832d2-d994-11e7-9cc0-0242ac120002",
     "history": [
      {
       "current": "31e60498-cdcb-11e7-bab8-0242ac120002",
       "next": "0bbc97ac-cd01-11e7-b777-0242ac120002",
       "previous": "7809af3c-cdb3-11e7-bab8-0242ac120002"
      },
      {
       "current": "663832d2-d994-11e7-9cc0-0242ac120002",
       "next": "6638378c-d994-11e7-9cc0-0242ac120002",
       "previous": "66382e36-d994-11e7-9cc0-0242ac120002"
      }
     ],
     "next": "6638378c-d994-11e7-9cc0-0242ac120002",
     "previous": "5fbca7b6-d9a4-11e7-a0fe-0242ac120002"
    }
   },
   "source": [
    "工場出荷時設定のAironetは、telnetでデフォルトアカウントで入れるようになっているので、新規のアカウントで、sshでしか入れないように設定する。\n",
    "\n",
    "[playbook](/edit/wifi/aironet-setup.yml)"
   ]
  },
  {
   "cell_type": "code",
   "execution_count": null,
   "metadata": {
    "hidden": true,
    "lc_cell_meme": {
     "current": "6638378c-d994-11e7-9cc0-0242ac120002",
     "history": [
      {
       "current": "0bbc97ac-cd01-11e7-b777-0242ac120002",
       "next": "0bbc9e82-cd01-11e7-b777-0242ac120002",
       "previous": "e6351f44-cb5d-11e7-ab92-0242ac120003"
      },
      {
       "current": "0bbc97ac-cd01-11e7-b777-0242ac120002",
       "next": "e25549c6-cd01-11e7-b777-0242ac120002",
       "previous": "e6351f44-cb5d-11e7-ab92-0242ac120003"
      },
      {
       "current": "0bbc97ac-cd01-11e7-b777-0242ac120002",
       "next": "e25549c6-cd01-11e7-b777-0242ac120002",
       "previous": "a1769c32-cdb2-11e7-bab8-0242ac120002"
      },
      {
       "current": "0bbc97ac-cd01-11e7-b777-0242ac120002",
       "next": "e25549c6-cd01-11e7-b777-0242ac120002",
       "previous": "e6351f44-cb5d-11e7-ab92-0242ac120003"
      },
      {
       "current": "0bbc97ac-cd01-11e7-b777-0242ac120002",
       "next": "e25549c6-cd01-11e7-b777-0242ac120002",
       "previous": "7809af3c-cdb3-11e7-bab8-0242ac120002"
      },
      {
       "current": "0bbc97ac-cd01-11e7-b777-0242ac120002",
       "next": "e25549c6-cd01-11e7-b777-0242ac120002",
       "previous": "31e60498-cdcb-11e7-bab8-0242ac120002"
      },
      {
       "current": "0bbc97ac-cd01-11e7-b777-0242ac120002",
       "next": "29a3714a-d8d3-11e7-9867-0242ac120002",
       "previous": "31e60498-cdcb-11e7-bab8-0242ac120002"
      },
      {
       "current": "6638378c-d994-11e7-9cc0-0242ac120002",
       "next": "66383c28-d994-11e7-9cc0-0242ac120002",
       "previous": "663832d2-d994-11e7-9cc0-0242ac120002"
      }
     ],
     "next": "5fbcaca2-d9a4-11e7-a0fe-0242ac120002",
     "previous": "663832d2-d994-11e7-9cc0-0242ac120002"
    },
    "pinned_outputs": [
     {
      "execution_count": 2,
      "outputs": [
       {
        "name": "stdout",
        "output_type": "stream",
        "text": "1 logs recorded\n\npath: /notebooks/wifi/.log/20180119/20180119-181823-0967.log\nstart time: 2018-01-19 18:18:23(JST)\nend time: 2018-01-19 18:19:00(JST)\noutput size: 2244 bytes\n1 chunks with matched keywords or errors\n----\n\u001b[0;34mansible-playbook 2.4.2.0\u001b[0m\n\u001b[0;34m  config file = /etc/ansible/ansible.cfg\u001b[0m\n\u001b[0;34m  configured module search path = [u'/home/bit_kun/.ansible/plugins/modules', u'/usr/share/ansible/plugins/modules']\u001b[0m\n\u001b[0;34m  ansible python module location = /usr/local/lib/python2.7/dist-packages/ansible\u001b[0m\n\u001b[0;34m  executable location = /usr/local/bin/ansible-playbook\u001b[0m\n\u001b[0;34m  python version = 2.7.9 (default, Jun 29 2016, 13:08:31) [GCC 4.9.2]\u001b[0m\n\u001b[0;34mUsing /etc/ansible/ansible.cfg as config file\u001b[0m\n\u001b[0;34mParsed ap64, inventory source with host_list plugin\u001b[0m\n\nPLAYBOOK: aironet-setup.yml ****************************************************\n\u001b[0;34m1 plays in aironet-setup.yml\u001b[0m\n\nPLAY [all] *********************************************************************\n\u001b[0;34mMETA: ran handlers\u001b[0m\n\nTASK [telnet] ******************************************************************\n\u001b[1;30mtask path: /notebooks/wifi/aironet-setup.yml:8\u001b[0m\n\u001b[0;33mchanged: [ap64] => {\u001b[0m\n\u001b[0;33m    \"changed\": true, \u001b[0m\n\u001b[0;33m    \"output\": [\u001b[0m\n\u001b[0;33m        \"p>\", \u001b[0m\n\u001b[0;33m        \"ena\", \u001b[0m\n\u001b[0;33m        \"ble\\r\\nP\", \u001b[0m\n\u001b[0;33m        \"a\", \u001b[0m\n\u001b[0;33m        \"s\", \u001b[0m\n\u001b[0;33m        \"s\", \u001b[0m\n\u001b[0;33m        \"w\", \u001b[0m\n\u001b[0;33m        \"o\", \u001b[0m\n\u001b[0;33m        \"r\", \u001b[0m\n\u001b[0;33m        \"d\", \u001b[0m\n\u001b[0;33m        \":\", \u001b[0m\n\u001b[0;33m        \" \\r\\na\", \u001b[0m\n\u001b[0;33m        \"p#\", \u001b[0m\n\u001b[0;33m        \"co\", \u001b[0m\n\u001b[0;33m        \"nfigur\", \u001b[0m\n\u001b[0;33m        \"e ter\", \u001b[0m\n\u001b[0;33m        \"mina\", \u001b[0m\n\u001b[0;33m        \"l\\r\\nEnter\", \u001b[0m\n\u001b[0;33m        \" co\"\u001b[0m\n\u001b[0;33m    ]\u001b[0m\n\u001b[0;33m}\u001b[0m\n\u001b[0;34mMETA: ran handlers\u001b[0m\n\u001b[0;34mMETA: ran handlers\u001b[0m\n\nPLAY RECAP *********************************************************************\n\u001b[0;33map64\u001b[0m                       : \u001b[0;32mok=1   \u001b[0m \u001b[0;33mchanged=1   \u001b[0m unreachable=0    failed=0   \n"
       }
      ]
     }
    ],
    "scrolled": true
   },
   "outputs": [],
   "source": [
    "!ansible-playbook -i ap64, aironet-setup.yml -t ssh-setup -vvv"
   ]
  },
  {
   "cell_type": "markdown",
   "metadata": {
    "hidden": true,
    "lc_cell_meme": {
     "current": "5fbcaca2-d9a4-11e7-a0fe-0242ac120002",
     "next": "66383c28-d994-11e7-9cc0-0242ac120002",
     "previous": "6638378c-d994-11e7-9cc0-0242ac120002"
    }
   },
   "source": [
    "## fingerprintを記録する"
   ]
  },
  {
   "cell_type": "markdown",
   "metadata": {
    "hidden": true,
    "lc_cell_meme": {
     "current": "66383c28-d994-11e7-9cc0-0242ac120002",
     "history": [
      {
       "current": "29a3714a-d8d3-11e7-9867-0242ac120002",
       "next": "29a376c2-d8d3-11e7-9867-0242ac120002",
       "previous": "0bbc97ac-cd01-11e7-b777-0242ac120002"
      },
      {
       "current": "66383c28-d994-11e7-9cc0-0242ac120002",
       "next": "66384858-d994-11e7-9cc0-0242ac120002",
       "previous": "6638378c-d994-11e7-9cc0-0242ac120002"
      }
     ],
     "next": "66384858-d994-11e7-9cc0-0242ac120002",
     "previous": "5fbcaca2-d9a4-11e7-a0fe-0242ac120002"
    }
   },
   "source": [
    "ansibleがAironetにsshするためにknown_hostsにfingerprintを覚えさせる必要がある。ansibleの設定で自動登録できるらしいが、jupyter内に入れてあるansibleのバージョンの問題か、動作しなかったので、ssh-keyscanで対応する。Aironetへのssh接続でfingerprintの確認が出ない状態にできたら、アクセスポイントの設定を行える。"
   ]
  },
  {
   "cell_type": "code",
   "execution_count": null,
   "metadata": {
    "hidden": true,
    "lc_cell_meme": {
     "current": "66384858-d994-11e7-9cc0-0242ac120002",
     "history": [
      {
       "current": "29a376c2-d8d3-11e7-9867-0242ac120002",
       "next": "e25549c6-cd01-11e7-b777-0242ac120002",
       "previous": "29a3714a-d8d3-11e7-9867-0242ac120002"
      },
      {
       "current": "29a376c2-d8d3-11e7-9867-0242ac120002",
       "next": "0bbc9e82-cd01-11e7-b777-0242ac120002",
       "previous": "29a3714a-d8d3-11e7-9867-0242ac120002"
      },
      {
       "current": "66384858-d994-11e7-9cc0-0242ac120002",
       "next": "66384d30-d994-11e7-9cc0-0242ac120002",
       "previous": "66383c28-d994-11e7-9cc0-0242ac120002"
      }
     ],
     "next": "5fbcb026-d9a4-11e7-a0fe-0242ac120002",
     "previous": "66383c28-d994-11e7-9cc0-0242ac120002"
    },
    "pinned_outputs": [
     {
      "execution_count": 3,
      "outputs": [
       {
        "name": "stdout",
        "output_type": "stream",
        "text": "1 logs recorded\n\npath: /notebooks/wifi/.log/20180119/20180119-181900-0955.log\nstart time: 2018-01-19 18:19:00(JST)\nend time: 2018-01-19 18:19:02(JST)\noutput size: 467 bytes\n0 chunks with matched keywords or errors\n----\n# ap64 SSH-2.0-Cisco-1.25\n# ap64 SSH-2.0-Cisco-1.25\nno hostkey alg\n\n# ap64 SSH-2.0-Cisco-1.25\nno hostkey alg\n"
       }
      ]
     }
    ]
   },
   "outputs": [],
   "source": [
    "!mkdir -p ~/.ssh\n",
    "!ssh-keyscan -H ap64 > ~/.ssh/known_hosts"
   ]
  },
  {
   "cell_type": "markdown",
   "metadata": {
    "hidden": true,
    "lc_cell_meme": {
     "current": "5fbcb026-d9a4-11e7-a0fe-0242ac120002",
     "next": "66384d30-d994-11e7-9cc0-0242ac120002",
     "previous": "66384858-d994-11e7-9cc0-0242ac120002"
    }
   },
   "source": [
    "## AnsibleでWiFiを設定する"
   ]
  },
  {
   "cell_type": "code",
   "execution_count": null,
   "metadata": {
    "hidden": true,
    "lc_cell_meme": {
     "current": "66384d30-d994-11e7-9cc0-0242ac120002",
     "history": [
      {
       "current": "0bbc9e82-cd01-11e7-b777-0242ac120002",
       "next": null,
       "previous": "0bbc97ac-cd01-11e7-b777-0242ac120002"
      },
      {
       "current": "0bbc9e82-cd01-11e7-b777-0242ac120002",
       "next": "e25549c6-cd01-11e7-b777-0242ac120002",
       "previous": "0bbc97ac-cd01-11e7-b777-0242ac120002"
      },
      {
       "current": "0bbc9e82-cd01-11e7-b777-0242ac120002",
       "next": null,
       "previous": "e25549c6-cd01-11e7-b777-0242ac120002"
      },
      {
       "current": "0bbc9e82-cd01-11e7-b777-0242ac120002",
       "next": "4e9d981a-cdb4-11e7-bab8-0242ac120002",
       "previous": "e25549c6-cd01-11e7-b777-0242ac120002"
      },
      {
       "current": "0bbc9e82-cd01-11e7-b777-0242ac120002",
       "next": "44ad7ebe-cdce-11e7-bab8-0242ac120002",
       "previous": "e25549c6-cd01-11e7-b777-0242ac120002"
      },
      {
       "current": "0bbc9e82-cd01-11e7-b777-0242ac120002",
       "next": "44ad7ebe-cdce-11e7-bab8-0242ac120002",
       "previous": "29a376c2-d8d3-11e7-9867-0242ac120002"
      },
      {
       "current": "66384d30-d994-11e7-9cc0-0242ac120002",
       "next": null,
       "previous": "66384858-d994-11e7-9cc0-0242ac120002"
      },
      {
       "current": "66384d30-d994-11e7-9cc0-0242ac120002",
       "next": null,
       "previous": "5fbcb026-d9a4-11e7-a0fe-0242ac120002"
      }
     ],
     "next": null,
     "previous": "5fbcb026-d9a4-11e7-a0fe-0242ac120002"
    },
    "pinned_outputs": [
     {
      "execution_count": 4,
      "outputs": [
       {
        "name": "stdout",
        "output_type": "stream",
        "text": "1 logs recorded\n\npath: /notebooks/wifi/.log/20180119/20180119-181902-0990.log\nstart time: 2018-01-19 18:19:02(JST)\nend time: 2018-01-19 18:19:27(JST)\noutput size: 23803 bytes\n13 chunks with matched keywords or errors\n----\n\u001b[0;34mansible-playbook 2.4.2.0\u001b[0m\n\u001b[0;34m  config file = /etc/ansible/ansible.cfg\u001b[0m\n\u001b[0;34m  configured module search path = [u'/home/bit_kun/.ansible/plugins/modules', u'/usr/share/ansible/plugins/modules']\u001b[0m\n\u001b[0;34m  ansible python module location = /usr/local/lib/python2.7/dist-packages/ansible\u001b[0m\n\u001b[0;34m  executable location = /usr/local/bin/ansible-playbook\u001b[0m\n\u001b[0;34m  python version = 2.7.9 (default, Jun 29 2016, 13:08:31) [GCC 4.9.2]\u001b[0m\n\u001b[0;34mUsing /etc/ansible/ansible.cfg as config file\u001b[0m\n\u001b[0;34mParsed ap64, inventory source with host_list plugin\u001b[0m\n\nPLAYBOOK: aironet-setup.yml ****************************************************\n\u001b[0;34m1 plays in aironet-setup.yml\u001b[0m\n\nPLAY [all] *********************************************************************\n\u001b[0;34mMETA: ran handlers\u001b[0m\n\nTASK [ios_config] **************************************************************\n\u001b[1;30mtask path: /notebooks/wifi/aironet-setup.yml:38\u001b[0m\n\u001b[0;34m<ap64> using connection plugin network_cli\u001b[0m\n\u001b[0;34mUsing module file /usr/local/lib/python2.7/dist-packages/ansible/modules/network/ios/ios_config.py\u001b[0m\n\u001b[0;34m<ap64> ESTABLISH LOCAL CONNECTION FOR USER: bit_kun\u001b[0m\n...\n\u001b[0;34m<ap64> using \u001b[0;31mconnect\u001b[0mion plugin network_cli\u001b[0m\n\u001b[0;34m<ap64> using \u001b[0;31mconnect\u001b[0mion plugin network_cli\u001b[0m\n\u001b[0;33m        \"authentication \u001b[0;31mopen\u001b[0m\", \u001b[0m\n\u001b[0;33m                \"authentication \u001b[0;31mopen\u001b[0m\", \u001b[0m\n\u001b[0;33m        \"authentication \u001b[0;31mopen\u001b[0m\", \u001b[0m\n\u001b[0;34m<ap64> using \u001b[0;31mconnect\u001b[0mion plugin network_cli\u001b[0m\n\u001b[0;34m<ap64> using \u001b[0;31mconnect\u001b[0mion plugin network_cli\u001b[0m\n\u001b[0;34m<ap64> using \u001b[0;31mconnect\u001b[0mion plugin network_cli\u001b[0m\n\u001b[0;33m        \"authentication \u001b[0;31mopen\u001b[0m\", \u001b[0m\n\u001b[0;33m                \"authentication \u001b[0;31mopen\u001b[0m\", \u001b[0m\n\u001b[0;33m        \"authentication \u001b[0;31mopen\u001b[0m\", \u001b[0m\n\u001b[0;34m<ap64> using \u001b[0;31mconnect\u001b[0mion plugin network_cli\u001b[0m\n\u001b[0;33map64\u001b[0m                       : \u001b[0;32mok=6   \u001b[0m \u001b[0;33mchanged=6   \u001b[0m unreachable=0    \u001b[0;31mfail\u001b[0med=0   \n...\n\u001b[0;33m            \"save_when\": \"never\", \u001b[0m\n\u001b[0;33m            \"src\": null, \u001b[0m\n\u001b[0;33m            \"ssh_keyfile\": null, \u001b[0m\n\u001b[0;33m            \"timeout\": null, \u001b[0m\n\u001b[0;33m            \"username\": null\u001b[0m\n\u001b[0;33m        }\u001b[0m\n\u001b[0;33m    }, \u001b[0m\n\u001b[0;33m    \"updates\": [\u001b[0m\n\u001b[0;33m        \"interface Dot11Radio1\", \u001b[0m\n\u001b[0;33m        \"encryption mode ciphers aes-ccm\", \u001b[0m\n\u001b[0;33m        \"ssid igdaj11a\", \u001b[0m\n\u001b[0;33m        \"no shutdown\"\u001b[0m\n\u001b[0;33m    ]\u001b[0m\n\u001b[0;33m}\u001b[0m\n\u001b[0;34mMETA: ran handlers\u001b[0m\n\u001b[0;34mMETA: ran handlers\u001b[0m\n\nPLAY RECAP *********************************************************************\n\u001b[0;33map64\u001b[0m                       : \u001b[0;32mok=6   \u001b[0m \u001b[0;33mchanged=6   \u001b[0m unreachable=0    failed=0   \n"
       }
      ]
     }
    ],
    "scrolled": true
   },
   "outputs": [],
   "source": [
    "!ansible-playbook -i ap64, aironet-setup.yml -t setup -vvv"
   ]
  }
 ],
 "metadata": {
  "kernelspec": {
   "display_name": "Python 3 (LC_wrapper)",
   "language": "python",
   "name": "python3-wrapper"
  },
  "language_info": {
   "file_extension": ".py",
   "mimetype": "text/x-python",
   "name": "python",
   "nbconvert_exporter": "python",
   "pygments_lexer": "ipython3",
   "version": "3.5.4"
  },
  "lc_notebook_meme": {
   "current": "6637a38a-d994-11e7-9cc0-0242ac120002",
   "history": [
    "9ebd387c-cb5d-11e7-ab92-0242ac120003"
   ],
   "lc_server_signature": {
    "current": {
     "notebook_dir": "/notebooks",
     "notebook_path": "/wifi",
     "server_url": "http://172.29.214.109:8888/",
     "signature_id": "266d4bb4-fcf9-11e7-bf73-0242ac120002"
    },
    "history": [
     {
      "notebook_dir": "/notebooks",
      "notebook_path": "/wifi",
      "server_url": "http://172.18.0.3:8888/",
      "signature_id": "3fb2b046-cb5d-11e7-ab92-0242ac120003"
     },
     {
      "notebook_dir": "/notebooks",
      "notebook_path": "/wifi",
      "server_url": "http://172.18.0.3:8888/",
      "signature_id": "f71c8e3e-cb6a-11e7-8aa9-0242ac120003"
     },
     {
      "notebook_dir": "/notebooks",
      "notebook_path": "/wifi",
      "server_url": "http://172.18.0.3:8888/",
      "signature_id": "9bd36a48-ccf5-11e7-84d7-0242ac120003"
     },
     {
      "notebook_dir": "/notebooks",
      "notebook_path": "/wifi",
      "server_url": "http://172.18.0.2:8888/",
      "signature_id": "6d4fc832-cd00-11e7-b777-0242ac120002"
     },
     {
      "notebook_dir": "/notebooks",
      "notebook_path": "/wifi",
      "server_url": "http://172.18.0.2:8888/",
      "signature_id": "3d80d954-cdb2-11e7-bab8-0242ac120002"
     },
     {
      "notebook_dir": "/notebooks",
      "notebook_path": "/wifi",
      "server_url": "http://172.18.0.2:8888/",
      "signature_id": "30b66460-cdd4-11e7-a50a-0242ac120002"
     },
     {
      "notebook_dir": "/notebooks",
      "notebook_path": "/wifi",
      "server_url": "http://172.18.0.2:8888/",
      "signature_id": "fb1ecc3a-cec7-11e7-b332-0242ac120002"
     },
     {
      "notebook_dir": "/notebooks",
      "notebook_path": "/wifi",
      "server_url": "http://192.168.14.2:8888/",
      "signature_id": "fb1ecc3a-cec7-11e7-b332-0242ac120002"
     },
     {
      "notebook_dir": "/notebooks",
      "notebook_path": "/wifi",
      "server_url": "http://172.18.0.2:8888/",
      "signature_id": "f110a0c8-cf40-11e7-bdd8-0242ac120002"
     },
     {
      "notebook_dir": "/notebooks",
      "notebook_path": "/wifi",
      "server_url": "http://192.168.14.2:8888/",
      "signature_id": "f110a0c8-cf40-11e7-bdd8-0242ac120002"
     },
     {
      "notebook_dir": "/notebooks",
      "notebook_path": "/wifi",
      "server_url": "http://192.168.14.2:8888/",
      "signature_id": "9862618c-cf4f-11e7-8330-0242ac120002"
     },
     {
      "notebook_dir": "/notebooks",
      "notebook_path": "/wifi",
      "server_url": "http://172.18.0.2:8888/",
      "signature_id": "178ef5f6-d8b0-11e7-9867-0242ac120002"
     },
     {
      "notebook_dir": "/notebooks",
      "notebook_path": "/wifi",
      "server_url": "http://192.168.14.2:8888/",
      "signature_id": "178ef5f6-d8b0-11e7-9867-0242ac120002"
     },
     {
      "notebook_dir": "/notebooks",
      "notebook_path": "/wifi",
      "server_url": "http://172.18.0.2:8888/",
      "signature_id": "11615e8a-d8d8-11e7-8379-0242ac120002"
     },
     {
      "notebook_dir": "/notebooks",
      "notebook_path": "/wifi",
      "server_url": "http://192.168.14.2:8888/",
      "signature_id": "11615e8a-d8d8-11e7-8379-0242ac120002"
     },
     {
      "notebook_dir": "/notebooks",
      "notebook_path": "/wifi",
      "server_url": "http://172.18.0.2:8888/",
      "signature_id": "5169c75c-d986-11e7-a0fe-0242ac120002"
     },
     {
      "notebook_dir": "/notebooks",
      "notebook_path": "/wifi",
      "server_url": "http://192.168.14.2:8888/",
      "signature_id": "5169c75c-d986-11e7-a0fe-0242ac120002"
     },
     {
      "notebook_dir": "/notebooks",
      "notebook_path": "/wifi",
      "server_url": "http://172.18.0.2:8888/",
      "signature_id": "689960ba-d9b1-11e7-9872-0242ac120002"
     },
     {
      "notebook_dir": "/notebooks",
      "notebook_path": "/wifi",
      "server_url": "http://192.168.14.2:8888/",
      "signature_id": "689960ba-d9b1-11e7-9872-0242ac120002"
     },
     {
      "notebook_dir": "/notebooks",
      "notebook_path": "/wifi",
      "server_url": "http://172.29.214.109:8888/",
      "signature_id": "ab81d6da-fcef-11e7-97b9-0242ac120002"
     }
    ]
   },
   "root_cells": [
    "6637b78a-d994-11e7-9cc0-0242ac120002",
    "6637c040-d994-11e7-9cc0-0242ac120002",
    "6637c586-d994-11e7-9cc0-0242ac120002",
    "6637ca72-d994-11e7-9cc0-0242ac120002",
    "6637cfea-d994-11e7-9cc0-0242ac120002",
    "6637d4c2-d994-11e7-9cc0-0242ac120002",
    "6637d9a4-d994-11e7-9cc0-0242ac120002",
    "6637de72-d994-11e7-9cc0-0242ac120002",
    "6637e336-d994-11e7-9cc0-0242ac120002",
    "6637e7f0-d994-11e7-9cc0-0242ac120002",
    "6637ecaa-d994-11e7-9cc0-0242ac120002",
    "6637f16e-d994-11e7-9cc0-0242ac120002",
    "6637f61e-d994-11e7-9cc0-0242ac120002",
    "6637fad8-d994-11e7-9cc0-0242ac120002",
    "6637ff92-d994-11e7-9cc0-0242ac120002",
    "6638044c-d994-11e7-9cc0-0242ac120002",
    "663808f2-d994-11e7-9cc0-0242ac120002",
    "66380da2-d994-11e7-9cc0-0242ac120002",
    "66381248-d994-11e7-9cc0-0242ac120002",
    "663816f8-d994-11e7-9cc0-0242ac120002",
    "66381ba8-d994-11e7-9cc0-0242ac120002",
    "6638203a-d994-11e7-9cc0-0242ac120002",
    "663824e0-d994-11e7-9cc0-0242ac120002",
    "6638297c-d994-11e7-9cc0-0242ac120002",
    "66382e36-d994-11e7-9cc0-0242ac120002",
    "663832d2-d994-11e7-9cc0-0242ac120002",
    "6638378c-d994-11e7-9cc0-0242ac120002",
    "66383c28-d994-11e7-9cc0-0242ac120002",
    "66384858-d994-11e7-9cc0-0242ac120002",
    "66384d30-d994-11e7-9cc0-0242ac120002",
    "663851d6-d994-11e7-9cc0-0242ac120002",
    "6638567c-d994-11e7-9cc0-0242ac120002",
    "66385cbc-d994-11e7-9cc0-0242ac120002",
    "66386180-d994-11e7-9cc0-0242ac120002",
    "66386630-d994-11e7-9cc0-0242ac120002",
    "66386ad6-d994-11e7-9cc0-0242ac120002",
    "66386f72-d994-11e7-9cc0-0242ac120002",
    "66387418-d994-11e7-9cc0-0242ac120002",
    "663878c8-d994-11e7-9cc0-0242ac120002",
    "66387d6e-d994-11e7-9cc0-0242ac120002",
    "66388214-d994-11e7-9cc0-0242ac120002",
    "663886b0-d994-11e7-9cc0-0242ac120002",
    "66388b42-d994-11e7-9cc0-0242ac120002"
   ]
  },
  "toc": {
   "nav_menu": {},
   "number_sections": true,
   "sideBar": true,
   "skip_h1_title": false,
   "title_cell": "Table of Contents",
   "title_sidebar": "Contents",
   "toc_cell": false,
   "toc_position": {},
   "toc_section_display": "block",
   "toc_window_display": true
  }
 },
 "nbformat": 4,
 "nbformat_minor": 2
}

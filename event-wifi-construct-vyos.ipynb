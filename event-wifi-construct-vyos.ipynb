{
 "cells": [
  {
   "cell_type": "markdown",
   "metadata": {
    "heading_collapsed": true,
    "lc_cell_meme": {
     "current": "6637e336-d994-11e7-9cc0-0242ac120002",
     "history": [
      {
       "current": "c4cc2474-cdc4-11e7-bab8-0242ac120002",
       "next": "963c83d4-ccf6-11e7-84d7-0242ac120003",
       "previous": "c4cc1e20-cdc4-11e7-bab8-0242ac120002"
      },
      {
       "current": "c4cc2474-cdc4-11e7-bab8-0242ac120002",
       "next": "d4458eb6-cf38-11e7-b332-0242ac120002",
       "previous": "c4cc1e20-cdc4-11e7-bab8-0242ac120002"
      },
      {
       "current": "c4cc2474-cdc4-11e7-bab8-0242ac120002",
       "next": "d4458eb6-cf38-11e7-b332-0242ac120002",
       "previous": "9ebd3e4e-cb5d-11e7-ab92-0242ac120003"
      },
      {
       "current": "c4cc2474-cdc4-11e7-bab8-0242ac120002",
       "next": "963c83d4-ccf6-11e7-84d7-0242ac120003",
       "previous": "9ebd3e4e-cb5d-11e7-ab92-0242ac120003"
      },
      {
       "current": "c4cc2474-cdc4-11e7-bab8-0242ac120002",
       "next": "c4cc2474-cdc4-11e7-bab8-0242ac120002",
       "previous": "9ebd3e4e-cb5d-11e7-ab92-0242ac120003"
      },
      {
       "current": "6637e336-d994-11e7-9cc0-0242ac120002",
       "next": "6637e7f0-d994-11e7-9cc0-0242ac120002",
       "previous": null
      },
      {
       "current": "6637e336-d994-11e7-9cc0-0242ac120002",
       "next": "b8886210-d9a2-11e7-a0fe-0242ac120002",
       "previous": null
      }
     ],
     "next": "000fe50e-d9a3-11e7-a0fe-0242ac120002",
     "previous": null
    }
   },
   "source": [
    "# VyOSの設定"
   ]
  },
  {
   "cell_type": "markdown",
   "metadata": {
    "hidden": true,
    "lc_cell_meme": {
     "current": "000fe50e-d9a3-11e7-a0fe-0242ac120002",
     "history": [
      {
       "current": "000fe50e-d9a3-11e7-a0fe-0242ac120002",
       "next": "66381248-d994-11e7-9cc0-0242ac120002",
       "previous": "663808f2-d994-11e7-9cc0-0242ac120002"
      }
     ],
     "next": "66381248-d994-11e7-9cc0-0242ac120002",
     "previous": "6637e336-d994-11e7-9cc0-0242ac120002"
    }
   },
   "source": [
    "## Ansibleで設定を行う\n",
    "\n",
    "vyosのルータ設定はansible経由で行う。connection:dockerで接続するため、vyos_configが使えないので、スクリプトファイルをコピーしてシェル実行する。併せて、docker execからvyosのコマンドを叩くためのスクリプトファイルもコピーしておく。\n",
    "\n",
    "[vyosの設定](/edit/wifi/vyos-setup.vsh)"
   ]
  },
  {
   "cell_type": "code",
   "execution_count": null,
   "metadata": {
    "hidden": true,
    "lc_cell_meme": {
     "current": "66381248-d994-11e7-9cc0-0242ac120002",
     "history": [
      {
       "current": "e6351f44-cb5d-11e7-ab92-0242ac120003",
       "next": null,
       "previous": "9ebd3e4e-cb5d-11e7-ab92-0242ac120003"
      },
      {
       "current": "e6351f44-cb5d-11e7-ab92-0242ac120003",
       "next": "bcc9fa02-cb5e-11e7-ab92-0242ac120003",
       "previous": "9ebd3e4e-cb5d-11e7-ab92-0242ac120003"
      },
      {
       "current": "e6351f44-cb5d-11e7-ab92-0242ac120003",
       "next": null,
       "previous": "bcc9fa02-cb5e-11e7-ab92-0242ac120003"
      },
      {
       "current": "e6351f44-cb5d-11e7-ab92-0242ac120003",
       "next": "381d521a-cb66-11e7-ab92-0242ac120003",
       "previous": "bcc9fa02-cb5e-11e7-ab92-0242ac120003"
      },
      {
       "current": "e6351f44-cb5d-11e7-ab92-0242ac120003",
       "next": "fc8cfe3c-cb68-11e7-ab92-0242ac120003",
       "previous": "9ebd3e4e-cb5d-11e7-ab92-0242ac120003"
      },
      {
       "current": "e6351f44-cb5d-11e7-ab92-0242ac120003",
       "next": null,
       "previous": "963c894c-ccf6-11e7-84d7-0242ac120003"
      },
      {
       "current": "e6351f44-cb5d-11e7-ab92-0242ac120003",
       "next": "0bbc97ac-cd01-11e7-b777-0242ac120002",
       "previous": "963c894c-ccf6-11e7-84d7-0242ac120003"
      },
      {
       "current": "e6351f44-cb5d-11e7-ab92-0242ac120003",
       "next": "a1769c32-cdb2-11e7-bab8-0242ac120002",
       "previous": "963c894c-ccf6-11e7-84d7-0242ac120003"
      },
      {
       "current": "e6351f44-cb5d-11e7-ab92-0242ac120003",
       "next": "0bbc97ac-cd01-11e7-b777-0242ac120002",
       "previous": "a1769c32-cdb2-11e7-bab8-0242ac120002"
      },
      {
       "current": "e6351f44-cb5d-11e7-ab92-0242ac120003",
       "next": "7809af3c-cdb3-11e7-bab8-0242ac120002",
       "previous": "a1769c32-cdb2-11e7-bab8-0242ac120002"
      },
      {
       "current": "e6351f44-cb5d-11e7-ab92-0242ac120003",
       "next": "c4cc2938-cdc4-11e7-bab8-0242ac120002",
       "previous": "a1769c32-cdb2-11e7-bab8-0242ac120002"
      },
      {
       "current": "e6351f44-cb5d-11e7-ab92-0242ac120003",
       "next": "a1769c32-cdb2-11e7-bab8-0242ac120002",
       "previous": "71f5386a-cdc6-11e7-bab8-0242ac120002"
      },
      {
       "current": "e6351f44-cb5d-11e7-ab92-0242ac120003",
       "next": "981014d6-cf36-11e7-b332-0242ac120002",
       "previous": "71f5386a-cdc6-11e7-bab8-0242ac120002"
      },
      {
       "current": "66381248-d994-11e7-9cc0-0242ac120002",
       "next": "663816f8-d994-11e7-9cc0-0242ac120002",
       "previous": "66380da2-d994-11e7-9cc0-0242ac120002"
      },
      {
       "current": "66381248-d994-11e7-9cc0-0242ac120002",
       "next": "66380da2-d994-11e7-9cc0-0242ac120002",
       "previous": "000fe50e-d9a3-11e7-a0fe-0242ac120002"
      }
     ],
     "next": "3c0435ba-d9a3-11e7-a0fe-0242ac120002",
     "previous": "000fe50e-d9a3-11e7-a0fe-0242ac120002"
    },
    "pinned_outputs": [
     {
      "execution_count": 1,
      "outputs": [
       {
        "name": "stdout",
        "output_type": "stream",
        "text": "1 logs recorded\n\npath: /notebooks/wifi/.log/20180119/20180119-175023-0032.log\nstart time: 2018-01-19 17:50:22(JST)\nend time: 2018-01-19 17:50:42(JST)\noutput size: 13385 bytes\n2 chunks with matched keywords or errors\n----\n\u001b[0;34mansible-playbook 2.4.2.0\u001b[0m\n\u001b[0;34m  config file = /etc/ansible/ansible.cfg\u001b[0m\n\u001b[0;34m  configured module search path = [u'/root/.ansible/plugins/modules', u'/usr/share/ansible/plugins/modules']\u001b[0m\n\u001b[0;34m  ansible python module location = /usr/local/lib/python2.7/dist-packages/ansible\u001b[0m\n\u001b[0;34m  executable location = /usr/local/bin/ansible-playbook\u001b[0m\n\u001b[0;34m  python version = 2.7.9 (default, Jun 29 2016, 13:08:31) [GCC 4.9.2]\u001b[0m\n\u001b[0;34mUsing /etc/ansible/ansible.cfg as config file\u001b[0m\n\u001b[0;34mParsed vyos, inventory source with host_list plugin\u001b[0m\n\nPLAYBOOK: vyos-setup.yml *******************************************************\n\u001b[0;34m1 plays in vyos-setup.yml\u001b[0m\n\nPLAY [vyos] ********************************************************************\n\u001b[0;34mMETA: ran handlers\u001b[0m\n\nTASK [copy] ********************************************************************\n\u001b[1;30mtask path: /notebooks/wifi/vyos-setup.yml:8\u001b[0m\n\u001b[0;34m<vyos> ESTABLISH DOCKER CONNECTION FOR USER: root\u001b[0m\n\u001b[0;34m<vyos> EXEC ['/usr/local/bin/docker', 'exec', '-u', u'root', '-i', u'vyos', u'/bin/sh', '-c', u\"/bin/sh -c 'echo ~ && sleep 0'\"]\u001b[0m\n\u001b[0;34m<vyos> EXEC ['/usr/local/bin/docker', 'exec', '-u', u'root', '-i', u'vyos', u'/bin/sh', '-c', u'/bin/sh -c \\'( umask 77 && mkdir -p \"` echo /root/.ansible/tmp/ansible-tmp-1516351828.5-147773244709078 `\" && echo ansible-tmp-1516351828.5-147773244709078=\"` echo /root/.ansible/tmp/ansible-tmp-1516351828.5-147773244709078 `\" ) && sleep 0\\'']\u001b[0m\n...\n\u001b[0;33m    \"\u001b[0;31mstart\u001b[0m\": \"2018-01-19 08:50:31.473975\", \u001b[0m\n\u001b[0;33mvyos\u001b[0m                       : \u001b[0;32mok=3   \u001b[0m \u001b[0;33mchanged=3   \u001b[0m unreachable=0    \u001b[0;31mfail\u001b[0med=0   \n...\n\u001b[0;33m            \"seuser\": null, \u001b[0m\n\u001b[0;33m            \"src\": \"/root/.ansible/tmp/ansible-tmp-1516351840.63-97176250414424/source\", \u001b[0m\n\u001b[0;33m            \"unsafe_writes\": null, \u001b[0m\n\u001b[0;33m            \"validate\": null\u001b[0m\n\u001b[0;33m        }\u001b[0m\n\u001b[0;33m    }, \u001b[0m\n\u001b[0;33m    \"md5sum\": \"b910e6f1ce535a313d6fe777d1f6c578\", \u001b[0m\n\u001b[0;33m    \"mode\": \"0755\", \u001b[0m\n\u001b[0;33m    \"owner\": \"vyos\", \u001b[0m\n\u001b[0;33m    \"size\": 103, \u001b[0m\n\u001b[0;33m    \"src\": \"/root/.ansible/tmp/ansible-tmp-1516351840.63-97176250414424/source\", \u001b[0m\n\u001b[0;33m    \"state\": \"file\", \u001b[0m\n\u001b[0;33m    \"uid\": 1000\u001b[0m\n\u001b[0;33m}\u001b[0m\n\u001b[0;34mMETA: ran handlers\u001b[0m\n\u001b[0;34mMETA: ran handlers\u001b[0m\n\nPLAY RECAP *********************************************************************\n\u001b[0;33mvyos\u001b[0m                       : \u001b[0;32mok=3   \u001b[0m \u001b[0;33mchanged=3   \u001b[0m unreachable=0    failed=0   \n"
       }
      ]
     }
    ]
   },
   "outputs": [],
   "source": [
    "!sudo ansible-playbook -i vyos, vyos-setup.yml -vvv"
   ]
  },
  {
   "cell_type": "markdown",
   "metadata": {
    "hidden": true,
    "lc_cell_meme": {
     "current": "3c0435ba-d9a3-11e7-a0fe-0242ac120002",
     "next": "66381ba8-d994-11e7-9cc0-0242ac120002",
     "previous": "66381248-d994-11e7-9cc0-0242ac120002"
    }
   },
   "source": [
    "## VyOSコマンドラッパを確認する\n",
    "\n",
    "[コマンドのラッパ](/edit/wifi/run-command.sh)\n",
    "\n",
    "こんな感じでvyosのコマンドが叩ける。"
   ]
  },
  {
   "cell_type": "code",
   "execution_count": null,
   "metadata": {
    "hidden": true,
    "lc_cell_meme": {
     "current": "66381ba8-d994-11e7-9cc0-0242ac120002",
     "history": [
      {
       "current": "a1769c32-cdb2-11e7-bab8-0242ac120002",
       "next": "0bbc97ac-cd01-11e7-b777-0242ac120002",
       "previous": "e6351f44-cb5d-11e7-ab92-0242ac120003"
      },
      {
       "current": "a1769c32-cdb2-11e7-bab8-0242ac120002",
       "next": "e6351f44-cb5d-11e7-ab92-0242ac120003",
       "previous": "963c894c-ccf6-11e7-84d7-0242ac120003"
      },
      {
       "current": "a1769c32-cdb2-11e7-bab8-0242ac120002",
       "next": "c4cc2938-cdc4-11e7-bab8-0242ac120002",
       "previous": "e6351f44-cb5d-11e7-ab92-0242ac120003"
      },
      {
       "current": "a1769c32-cdb2-11e7-bab8-0242ac120002",
       "next": "1f1d2a92-cdc8-11e7-bab8-0242ac120002",
       "previous": "e6351f44-cb5d-11e7-ab92-0242ac120003"
      },
      {
       "current": "a1769c32-cdb2-11e7-bab8-0242ac120002",
       "next": "1f1d2a92-cdc8-11e7-bab8-0242ac120002",
       "previous": "981014d6-cf36-11e7-b332-0242ac120002"
      },
      {
       "current": "66381ba8-d994-11e7-9cc0-0242ac120002",
       "next": "6638203a-d994-11e7-9cc0-0242ac120002",
       "previous": "663816f8-d994-11e7-9cc0-0242ac120002"
      }
     ],
     "next": "6638203a-d994-11e7-9cc0-0242ac120002",
     "previous": "3c0435ba-d9a3-11e7-a0fe-0242ac120002"
    },
    "pinned_outputs": [
     {
      "execution_count": 2,
      "outputs": [
       {
        "name": "stdout",
        "output_type": "stream",
        "text": "1 logs recorded\n\npath: /notebooks/wifi/.log/20180119/20180119-175042-0288.log\nstart time: 2018-01-19 17:50:42(JST)\nend time: 2018-01-19 17:50:43(JST)\noutput size: 744 bytes\n0 chunks with matched keywords or errors\n----\nCodes: S - State, L - Link, u - Up, D - Down, A - Admin Down\nInterface        IP Address                        S/L  Description\n---------        ----------                        ---  -----------\neth0             172.18.0.3/16                     u/u  \neth1             192.168.14.3/24                   u/u  \nlo               127.0.0.1/8                       u/u  "
       }
      ]
     }
    ]
   },
   "outputs": [],
   "source": [
    "!sudo docker exec --user vyos vyos /home/vyos/run-command.sh show interfaces"
   ]
  },
  {
   "cell_type": "markdown",
   "metadata": {
    "hidden": true,
    "lc_cell_meme": {
     "current": "6638203a-d994-11e7-9cc0-0242ac120002",
     "history": [
      {
       "current": "1f1d2a92-cdc8-11e7-bab8-0242ac120002",
       "next": "c4cc2938-cdc4-11e7-bab8-0242ac120002",
       "previous": "a1769c32-cdb2-11e7-bab8-0242ac120002"
      }
     ],
     "next": null,
     "previous": "66381ba8-d994-11e7-9cc0-0242ac120002"
    }
   },
   "source": [
    "因みに、VyOSは実質Debianなので、interfaceが絡んだ機能（例えば、FireWallやQoS）は、OSのネットワーク設定で実現されている。このため、本事例のようにコンテナで利用すると、ネットワークデバイスが完全仮想化されていないことから、ネットワーク関連の機能のいくつかが動作しない。vyosにdocker execしてドヤ顔するのが不要で、そこそこのスペックのマシンが用意できるなら、普通にxenとか使った完全仮想化の方が、トラブルも少ないだろう。"
   ]
  }
 ],
 "metadata": {
  "kernelspec": {
   "display_name": "Python 3 (LC_wrapper)",
   "language": "python",
   "name": "python3-wrapper"
  },
  "language_info": {
   "file_extension": ".py",
   "mimetype": "text/x-python",
   "name": "python",
   "nbconvert_exporter": "python",
   "pygments_lexer": "ipython3",
   "version": "3.5.4"
  },
  "lc_notebook_meme": {
   "current": "6637a38a-d994-11e7-9cc0-0242ac120002",
   "history": [
    "9ebd387c-cb5d-11e7-ab92-0242ac120003"
   ],
   "lc_server_signature": {
    "current": {
     "notebook_dir": "/notebooks",
     "notebook_path": "/wifi",
     "server_url": "http://172.29.214.109:8888/",
     "signature_id": "091160b8-fcf5-11e7-9afa-0242ac120002"
    },
    "history": [
     {
      "notebook_dir": "/notebooks",
      "notebook_path": "/wifi",
      "server_url": "http://172.18.0.3:8888/",
      "signature_id": "3fb2b046-cb5d-11e7-ab92-0242ac120003"
     },
     {
      "notebook_dir": "/notebooks",
      "notebook_path": "/wifi",
      "server_url": "http://172.18.0.3:8888/",
      "signature_id": "f71c8e3e-cb6a-11e7-8aa9-0242ac120003"
     },
     {
      "notebook_dir": "/notebooks",
      "notebook_path": "/wifi",
      "server_url": "http://172.18.0.3:8888/",
      "signature_id": "9bd36a48-ccf5-11e7-84d7-0242ac120003"
     },
     {
      "notebook_dir": "/notebooks",
      "notebook_path": "/wifi",
      "server_url": "http://172.18.0.2:8888/",
      "signature_id": "6d4fc832-cd00-11e7-b777-0242ac120002"
     },
     {
      "notebook_dir": "/notebooks",
      "notebook_path": "/wifi",
      "server_url": "http://172.18.0.2:8888/",
      "signature_id": "3d80d954-cdb2-11e7-bab8-0242ac120002"
     },
     {
      "notebook_dir": "/notebooks",
      "notebook_path": "/wifi",
      "server_url": "http://172.18.0.2:8888/",
      "signature_id": "30b66460-cdd4-11e7-a50a-0242ac120002"
     },
     {
      "notebook_dir": "/notebooks",
      "notebook_path": "/wifi",
      "server_url": "http://172.18.0.2:8888/",
      "signature_id": "fb1ecc3a-cec7-11e7-b332-0242ac120002"
     },
     {
      "notebook_dir": "/notebooks",
      "notebook_path": "/wifi",
      "server_url": "http://192.168.14.2:8888/",
      "signature_id": "fb1ecc3a-cec7-11e7-b332-0242ac120002"
     },
     {
      "notebook_dir": "/notebooks",
      "notebook_path": "/wifi",
      "server_url": "http://172.18.0.2:8888/",
      "signature_id": "f110a0c8-cf40-11e7-bdd8-0242ac120002"
     },
     {
      "notebook_dir": "/notebooks",
      "notebook_path": "/wifi",
      "server_url": "http://192.168.14.2:8888/",
      "signature_id": "f110a0c8-cf40-11e7-bdd8-0242ac120002"
     },
     {
      "notebook_dir": "/notebooks",
      "notebook_path": "/wifi",
      "server_url": "http://192.168.14.2:8888/",
      "signature_id": "9862618c-cf4f-11e7-8330-0242ac120002"
     },
     {
      "notebook_dir": "/notebooks",
      "notebook_path": "/wifi",
      "server_url": "http://172.18.0.2:8888/",
      "signature_id": "178ef5f6-d8b0-11e7-9867-0242ac120002"
     },
     {
      "notebook_dir": "/notebooks",
      "notebook_path": "/wifi",
      "server_url": "http://192.168.14.2:8888/",
      "signature_id": "178ef5f6-d8b0-11e7-9867-0242ac120002"
     },
     {
      "notebook_dir": "/notebooks",
      "notebook_path": "/wifi",
      "server_url": "http://172.18.0.2:8888/",
      "signature_id": "11615e8a-d8d8-11e7-8379-0242ac120002"
     },
     {
      "notebook_dir": "/notebooks",
      "notebook_path": "/wifi",
      "server_url": "http://192.168.14.2:8888/",
      "signature_id": "11615e8a-d8d8-11e7-8379-0242ac120002"
     },
     {
      "notebook_dir": "/notebooks",
      "notebook_path": "/wifi",
      "server_url": "http://172.18.0.2:8888/",
      "signature_id": "5169c75c-d986-11e7-a0fe-0242ac120002"
     },
     {
      "notebook_dir": "/notebooks",
      "notebook_path": "/wifi",
      "server_url": "http://192.168.14.2:8888/",
      "signature_id": "5169c75c-d986-11e7-a0fe-0242ac120002"
     },
     {
      "notebook_dir": "/notebooks",
      "notebook_path": "/wifi",
      "server_url": "http://172.18.0.2:8888/",
      "signature_id": "689960ba-d9b1-11e7-9872-0242ac120002"
     },
     {
      "notebook_dir": "/notebooks",
      "notebook_path": "/wifi",
      "server_url": "http://192.168.14.2:8888/",
      "signature_id": "689960ba-d9b1-11e7-9872-0242ac120002"
     },
     {
      "notebook_dir": "/notebooks",
      "notebook_path": "/wifi",
      "server_url": "http://172.29.214.109:8888/",
      "signature_id": "ab81d6da-fcef-11e7-97b9-0242ac120002"
     }
    ]
   },
   "root_cells": [
    "6637b78a-d994-11e7-9cc0-0242ac120002",
    "6637c040-d994-11e7-9cc0-0242ac120002",
    "6637c586-d994-11e7-9cc0-0242ac120002",
    "6637ca72-d994-11e7-9cc0-0242ac120002",
    "6637cfea-d994-11e7-9cc0-0242ac120002",
    "6637d4c2-d994-11e7-9cc0-0242ac120002",
    "6637d9a4-d994-11e7-9cc0-0242ac120002",
    "6637de72-d994-11e7-9cc0-0242ac120002",
    "6637e336-d994-11e7-9cc0-0242ac120002",
    "6637e7f0-d994-11e7-9cc0-0242ac120002",
    "6637ecaa-d994-11e7-9cc0-0242ac120002",
    "6637f16e-d994-11e7-9cc0-0242ac120002",
    "6637f61e-d994-11e7-9cc0-0242ac120002",
    "6637fad8-d994-11e7-9cc0-0242ac120002",
    "6637ff92-d994-11e7-9cc0-0242ac120002",
    "6638044c-d994-11e7-9cc0-0242ac120002",
    "663808f2-d994-11e7-9cc0-0242ac120002",
    "66380da2-d994-11e7-9cc0-0242ac120002",
    "66381248-d994-11e7-9cc0-0242ac120002",
    "663816f8-d994-11e7-9cc0-0242ac120002",
    "66381ba8-d994-11e7-9cc0-0242ac120002",
    "6638203a-d994-11e7-9cc0-0242ac120002",
    "663824e0-d994-11e7-9cc0-0242ac120002",
    "6638297c-d994-11e7-9cc0-0242ac120002",
    "66382e36-d994-11e7-9cc0-0242ac120002",
    "663832d2-d994-11e7-9cc0-0242ac120002",
    "6638378c-d994-11e7-9cc0-0242ac120002",
    "66383c28-d994-11e7-9cc0-0242ac120002",
    "66384858-d994-11e7-9cc0-0242ac120002",
    "66384d30-d994-11e7-9cc0-0242ac120002",
    "663851d6-d994-11e7-9cc0-0242ac120002",
    "6638567c-d994-11e7-9cc0-0242ac120002",
    "66385cbc-d994-11e7-9cc0-0242ac120002",
    "66386180-d994-11e7-9cc0-0242ac120002",
    "66386630-d994-11e7-9cc0-0242ac120002",
    "66386ad6-d994-11e7-9cc0-0242ac120002",
    "66386f72-d994-11e7-9cc0-0242ac120002",
    "66387418-d994-11e7-9cc0-0242ac120002",
    "663878c8-d994-11e7-9cc0-0242ac120002",
    "66387d6e-d994-11e7-9cc0-0242ac120002",
    "66388214-d994-11e7-9cc0-0242ac120002",
    "663886b0-d994-11e7-9cc0-0242ac120002",
    "66388b42-d994-11e7-9cc0-0242ac120002"
   ]
  },
  "toc": {
   "nav_menu": {},
   "number_sections": true,
   "sideBar": true,
   "skip_h1_title": false,
   "title_cell": "Table of Contents",
   "title_sidebar": "Contents",
   "toc_cell": false,
   "toc_position": {},
   "toc_section_display": "block",
   "toc_window_display": true
  }
 },
 "nbformat": 4,
 "nbformat_minor": 2
}

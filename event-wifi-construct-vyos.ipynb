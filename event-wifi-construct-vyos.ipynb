{
 "cells": [
  {
   "cell_type": "markdown",
   "metadata": {
    "lc_cell_meme": {
     "current": "6637e336-d994-11e7-9cc0-0242ac120002",
     "history": [
      {
       "current": "c4cc2474-cdc4-11e7-bab8-0242ac120002",
       "next": "963c83d4-ccf6-11e7-84d7-0242ac120003",
       "previous": "c4cc1e20-cdc4-11e7-bab8-0242ac120002"
      },
      {
       "current": "c4cc2474-cdc4-11e7-bab8-0242ac120002",
       "next": "d4458eb6-cf38-11e7-b332-0242ac120002",
       "previous": "c4cc1e20-cdc4-11e7-bab8-0242ac120002"
      },
      {
       "current": "c4cc2474-cdc4-11e7-bab8-0242ac120002",
       "next": "d4458eb6-cf38-11e7-b332-0242ac120002",
       "previous": "9ebd3e4e-cb5d-11e7-ab92-0242ac120003"
      },
      {
       "current": "c4cc2474-cdc4-11e7-bab8-0242ac120002",
       "next": "963c83d4-ccf6-11e7-84d7-0242ac120003",
       "previous": "9ebd3e4e-cb5d-11e7-ab92-0242ac120003"
      },
      {
       "current": "c4cc2474-cdc4-11e7-bab8-0242ac120002",
       "next": "c4cc2474-cdc4-11e7-bab8-0242ac120002",
       "previous": "9ebd3e4e-cb5d-11e7-ab92-0242ac120003"
      },
      {
       "current": "6637e336-d994-11e7-9cc0-0242ac120002",
       "next": "6637e7f0-d994-11e7-9cc0-0242ac120002",
       "previous": null
      },
      {
       "current": "6637e336-d994-11e7-9cc0-0242ac120002",
       "next": "b8886210-d9a2-11e7-a0fe-0242ac120002",
       "previous": null
      }
     ],
     "next": "000fe50e-d9a3-11e7-a0fe-0242ac120002",
     "previous": null
    }
   },
   "source": [
    "# VyOSの設定"
   ]
  },
  {
   "cell_type": "markdown",
   "metadata": {
    "lc_cell_meme": {
     "current": "000fe50e-d9a3-11e7-a0fe-0242ac120002",
     "history": [
      {
       "current": "000fe50e-d9a3-11e7-a0fe-0242ac120002",
       "next": "66381248-d994-11e7-9cc0-0242ac120002",
       "previous": "663808f2-d994-11e7-9cc0-0242ac120002"
      }
     ],
     "next": "66381248-d994-11e7-9cc0-0242ac120002",
     "previous": "6637e336-d994-11e7-9cc0-0242ac120002"
    }
   },
   "source": [
    "## Ansibleで設定を行う\n",
    "\n",
    "vyosのルータ設定はansible経由で行う。connection:dockerで接続するため、vyos_configが使えないので、スクリプトファイルをコピーしてシェル実行する。併せて、docker execからvyosのコマンドを叩くためのスクリプトファイルもコピーしておく。\n",
    "\n",
    "[vyosの設定](/edit/wifi/vyos-setup.vsh)"
   ]
  },
  {
   "cell_type": "code",
   "execution_count": null,
   "metadata": {
    "lc_cell_meme": {
     "current": "66381248-d994-11e7-9cc0-0242ac120002",
     "history": [
      {
       "current": "e6351f44-cb5d-11e7-ab92-0242ac120003",
       "next": null,
       "previous": "9ebd3e4e-cb5d-11e7-ab92-0242ac120003"
      },
      {
       "current": "e6351f44-cb5d-11e7-ab92-0242ac120003",
       "next": "bcc9fa02-cb5e-11e7-ab92-0242ac120003",
       "previous": "9ebd3e4e-cb5d-11e7-ab92-0242ac120003"
      },
      {
       "current": "e6351f44-cb5d-11e7-ab92-0242ac120003",
       "next": null,
       "previous": "bcc9fa02-cb5e-11e7-ab92-0242ac120003"
      },
      {
       "current": "e6351f44-cb5d-11e7-ab92-0242ac120003",
       "next": "381d521a-cb66-11e7-ab92-0242ac120003",
       "previous": "bcc9fa02-cb5e-11e7-ab92-0242ac120003"
      },
      {
       "current": "e6351f44-cb5d-11e7-ab92-0242ac120003",
       "next": "fc8cfe3c-cb68-11e7-ab92-0242ac120003",
       "previous": "9ebd3e4e-cb5d-11e7-ab92-0242ac120003"
      },
      {
       "current": "e6351f44-cb5d-11e7-ab92-0242ac120003",
       "next": null,
       "previous": "963c894c-ccf6-11e7-84d7-0242ac120003"
      },
      {
       "current": "e6351f44-cb5d-11e7-ab92-0242ac120003",
       "next": "0bbc97ac-cd01-11e7-b777-0242ac120002",
       "previous": "963c894c-ccf6-11e7-84d7-0242ac120003"
      },
      {
       "current": "e6351f44-cb5d-11e7-ab92-0242ac120003",
       "next": "a1769c32-cdb2-11e7-bab8-0242ac120002",
       "previous": "963c894c-ccf6-11e7-84d7-0242ac120003"
      },
      {
       "current": "e6351f44-cb5d-11e7-ab92-0242ac120003",
       "next": "0bbc97ac-cd01-11e7-b777-0242ac120002",
       "previous": "a1769c32-cdb2-11e7-bab8-0242ac120002"
      },
      {
       "current": "e6351f44-cb5d-11e7-ab92-0242ac120003",
       "next": "7809af3c-cdb3-11e7-bab8-0242ac120002",
       "previous": "a1769c32-cdb2-11e7-bab8-0242ac120002"
      },
      {
       "current": "e6351f44-cb5d-11e7-ab92-0242ac120003",
       "next": "c4cc2938-cdc4-11e7-bab8-0242ac120002",
       "previous": "a1769c32-cdb2-11e7-bab8-0242ac120002"
      },
      {
       "current": "e6351f44-cb5d-11e7-ab92-0242ac120003",
       "next": "a1769c32-cdb2-11e7-bab8-0242ac120002",
       "previous": "71f5386a-cdc6-11e7-bab8-0242ac120002"
      },
      {
       "current": "e6351f44-cb5d-11e7-ab92-0242ac120003",
       "next": "981014d6-cf36-11e7-b332-0242ac120002",
       "previous": "71f5386a-cdc6-11e7-bab8-0242ac120002"
      },
      {
       "current": "66381248-d994-11e7-9cc0-0242ac120002",
       "next": "663816f8-d994-11e7-9cc0-0242ac120002",
       "previous": "66380da2-d994-11e7-9cc0-0242ac120002"
      },
      {
       "current": "66381248-d994-11e7-9cc0-0242ac120002",
       "next": "66380da2-d994-11e7-9cc0-0242ac120002",
       "previous": "000fe50e-d9a3-11e7-a0fe-0242ac120002"
      }
     ],
     "next": "3c0435ba-d9a3-11e7-a0fe-0242ac120002",
     "previous": "000fe50e-d9a3-11e7-a0fe-0242ac120002"
    },
    "pinned_outputs": []
   },
   "outputs": [],
   "source": [
    "!sudo ansible-playbook -i vyos, vyos-setup.yml -vvv"
   ]
  },
  {
   "cell_type": "markdown",
   "metadata": {
    "lc_cell_meme": {
     "current": "3c0435ba-d9a3-11e7-a0fe-0242ac120002",
     "next": "66381ba8-d994-11e7-9cc0-0242ac120002",
     "previous": "66381248-d994-11e7-9cc0-0242ac120002"
    }
   },
   "source": [
    "## VyOSコマンドラッパを確認する\n",
    "\n",
    "[コマンドのラッパ](/edit/wifi/run-command.sh)\n",
    "\n",
    "こんな感じでvyosのコマンドが叩ける。"
   ]
  },
  {
   "cell_type": "code",
   "execution_count": null,
   "metadata": {
    "lc_cell_meme": {
     "current": "66381ba8-d994-11e7-9cc0-0242ac120002",
     "history": [
      {
       "current": "a1769c32-cdb2-11e7-bab8-0242ac120002",
       "next": "0bbc97ac-cd01-11e7-b777-0242ac120002",
       "previous": "e6351f44-cb5d-11e7-ab92-0242ac120003"
      },
      {
       "current": "a1769c32-cdb2-11e7-bab8-0242ac120002",
       "next": "e6351f44-cb5d-11e7-ab92-0242ac120003",
       "previous": "963c894c-ccf6-11e7-84d7-0242ac120003"
      },
      {
       "current": "a1769c32-cdb2-11e7-bab8-0242ac120002",
       "next": "c4cc2938-cdc4-11e7-bab8-0242ac120002",
       "previous": "e6351f44-cb5d-11e7-ab92-0242ac120003"
      },
      {
       "current": "a1769c32-cdb2-11e7-bab8-0242ac120002",
       "next": "1f1d2a92-cdc8-11e7-bab8-0242ac120002",
       "previous": "e6351f44-cb5d-11e7-ab92-0242ac120003"
      },
      {
       "current": "a1769c32-cdb2-11e7-bab8-0242ac120002",
       "next": "1f1d2a92-cdc8-11e7-bab8-0242ac120002",
       "previous": "981014d6-cf36-11e7-b332-0242ac120002"
      },
      {
       "current": "66381ba8-d994-11e7-9cc0-0242ac120002",
       "next": "6638203a-d994-11e7-9cc0-0242ac120002",
       "previous": "663816f8-d994-11e7-9cc0-0242ac120002"
      }
     ],
     "next": "6638203a-d994-11e7-9cc0-0242ac120002",
     "previous": "3c0435ba-d9a3-11e7-a0fe-0242ac120002"
    },
    "pinned_outputs": []
   },
   "outputs": [],
   "source": [
    "!sudo docker exec --user vyos vyos /home/vyos/run-command.sh show interfaces"
   ]
  },
  {
   "cell_type": "markdown",
   "metadata": {
    "lc_cell_meme": {
     "current": "6638203a-d994-11e7-9cc0-0242ac120002",
     "history": [
      {
       "current": "1f1d2a92-cdc8-11e7-bab8-0242ac120002",
       "next": "c4cc2938-cdc4-11e7-bab8-0242ac120002",
       "previous": "a1769c32-cdb2-11e7-bab8-0242ac120002"
      }
     ],
     "next": null,
     "previous": "66381ba8-d994-11e7-9cc0-0242ac120002"
    }
   },
   "source": [
    "因みに、VyOSは実質Debianなので、interfaceが絡んだ機能（例えば、FireWallやQoS）は、OSのネットワーク設定で実現されている。このため、本事例のようにコンテナで利用すると、ネットワークデバイスが完全仮想化されていないことから、ネットワーク関連の機能のいくつかが動作しない。vyosにdocker execしてドヤ顔するのが不要で、そこそこのスペックのマシンが用意できるなら、普通にxenとか使った完全仮想化の方が、トラブルも少ないだろう。"
   ]
  }
 ],
 "metadata": {
  "kernelspec": {
   "display_name": "Python 3 (LC_wrapper)",
   "language": "python",
   "name": "python3-wrapper"
  },
  "language_info": {
   "file_extension": ".py",
   "mimetype": "text/x-python",
   "name": "python",
   "nbconvert_exporter": "python",
   "pygments_lexer": "ipython3",
   "version": "3.5.4"
  },
  "lc_notebook_meme": {
   "current": "6637a38a-d994-11e7-9cc0-0242ac120002",
   "history": [
    "9ebd387c-cb5d-11e7-ab92-0242ac120003"
   ],
   "lc_server_signature": {
    "current": {
     "notebook_dir": "/notebooks",
     "notebook_path": "/wifi",
     "server_url": "http://172.29.214.109:8888/",
     "signature_id": "ab81d6da-fcef-11e7-97b9-0242ac120002"
    },
    "history": [
     {
      "notebook_dir": "/notebooks",
      "notebook_path": "/wifi",
      "server_url": "http://172.18.0.3:8888/",
      "signature_id": "3fb2b046-cb5d-11e7-ab92-0242ac120003"
     },
     {
      "notebook_dir": "/notebooks",
      "notebook_path": "/wifi",
      "server_url": "http://172.18.0.3:8888/",
      "signature_id": "f71c8e3e-cb6a-11e7-8aa9-0242ac120003"
     },
     {
      "notebook_dir": "/notebooks",
      "notebook_path": "/wifi",
      "server_url": "http://172.18.0.3:8888/",
      "signature_id": "9bd36a48-ccf5-11e7-84d7-0242ac120003"
     },
     {
      "notebook_dir": "/notebooks",
      "notebook_path": "/wifi",
      "server_url": "http://172.18.0.2:8888/",
      "signature_id": "6d4fc832-cd00-11e7-b777-0242ac120002"
     },
     {
      "notebook_dir": "/notebooks",
      "notebook_path": "/wifi",
      "server_url": "http://172.18.0.2:8888/",
      "signature_id": "3d80d954-cdb2-11e7-bab8-0242ac120002"
     },
     {
      "notebook_dir": "/notebooks",
      "notebook_path": "/wifi",
      "server_url": "http://172.18.0.2:8888/",
      "signature_id": "30b66460-cdd4-11e7-a50a-0242ac120002"
     },
     {
      "notebook_dir": "/notebooks",
      "notebook_path": "/wifi",
      "server_url": "http://172.18.0.2:8888/",
      "signature_id": "fb1ecc3a-cec7-11e7-b332-0242ac120002"
     },
     {
      "notebook_dir": "/notebooks",
      "notebook_path": "/wifi",
      "server_url": "http://192.168.14.2:8888/",
      "signature_id": "fb1ecc3a-cec7-11e7-b332-0242ac120002"
     },
     {
      "notebook_dir": "/notebooks",
      "notebook_path": "/wifi",
      "server_url": "http://172.18.0.2:8888/",
      "signature_id": "f110a0c8-cf40-11e7-bdd8-0242ac120002"
     },
     {
      "notebook_dir": "/notebooks",
      "notebook_path": "/wifi",
      "server_url": "http://192.168.14.2:8888/",
      "signature_id": "f110a0c8-cf40-11e7-bdd8-0242ac120002"
     },
     {
      "notebook_dir": "/notebooks",
      "notebook_path": "/wifi",
      "server_url": "http://192.168.14.2:8888/",
      "signature_id": "9862618c-cf4f-11e7-8330-0242ac120002"
     },
     {
      "notebook_dir": "/notebooks",
      "notebook_path": "/wifi",
      "server_url": "http://172.18.0.2:8888/",
      "signature_id": "178ef5f6-d8b0-11e7-9867-0242ac120002"
     },
     {
      "notebook_dir": "/notebooks",
      "notebook_path": "/wifi",
      "server_url": "http://192.168.14.2:8888/",
      "signature_id": "178ef5f6-d8b0-11e7-9867-0242ac120002"
     },
     {
      "notebook_dir": "/notebooks",
      "notebook_path": "/wifi",
      "server_url": "http://172.18.0.2:8888/",
      "signature_id": "11615e8a-d8d8-11e7-8379-0242ac120002"
     },
     {
      "notebook_dir": "/notebooks",
      "notebook_path": "/wifi",
      "server_url": "http://192.168.14.2:8888/",
      "signature_id": "11615e8a-d8d8-11e7-8379-0242ac120002"
     },
     {
      "notebook_dir": "/notebooks",
      "notebook_path": "/wifi",
      "server_url": "http://172.18.0.2:8888/",
      "signature_id": "5169c75c-d986-11e7-a0fe-0242ac120002"
     },
     {
      "notebook_dir": "/notebooks",
      "notebook_path": "/wifi",
      "server_url": "http://192.168.14.2:8888/",
      "signature_id": "5169c75c-d986-11e7-a0fe-0242ac120002"
     },
     {
      "notebook_dir": "/notebooks",
      "notebook_path": "/wifi",
      "server_url": "http://172.18.0.2:8888/",
      "signature_id": "689960ba-d9b1-11e7-9872-0242ac120002"
     },
     {
      "notebook_dir": "/notebooks",
      "notebook_path": "/wifi",
      "server_url": "http://192.168.14.2:8888/",
      "signature_id": "689960ba-d9b1-11e7-9872-0242ac120002"
     }
    ]
   },
   "root_cells": [
    "6637b78a-d994-11e7-9cc0-0242ac120002",
    "6637c040-d994-11e7-9cc0-0242ac120002",
    "6637c586-d994-11e7-9cc0-0242ac120002",
    "6637ca72-d994-11e7-9cc0-0242ac120002",
    "6637cfea-d994-11e7-9cc0-0242ac120002",
    "6637d4c2-d994-11e7-9cc0-0242ac120002",
    "6637d9a4-d994-11e7-9cc0-0242ac120002",
    "6637de72-d994-11e7-9cc0-0242ac120002",
    "6637e336-d994-11e7-9cc0-0242ac120002",
    "6637e7f0-d994-11e7-9cc0-0242ac120002",
    "6637ecaa-d994-11e7-9cc0-0242ac120002",
    "6637f16e-d994-11e7-9cc0-0242ac120002",
    "6637f61e-d994-11e7-9cc0-0242ac120002",
    "6637fad8-d994-11e7-9cc0-0242ac120002",
    "6637ff92-d994-11e7-9cc0-0242ac120002",
    "6638044c-d994-11e7-9cc0-0242ac120002",
    "663808f2-d994-11e7-9cc0-0242ac120002",
    "66380da2-d994-11e7-9cc0-0242ac120002",
    "66381248-d994-11e7-9cc0-0242ac120002",
    "663816f8-d994-11e7-9cc0-0242ac120002",
    "66381ba8-d994-11e7-9cc0-0242ac120002",
    "6638203a-d994-11e7-9cc0-0242ac120002",
    "663824e0-d994-11e7-9cc0-0242ac120002",
    "6638297c-d994-11e7-9cc0-0242ac120002",
    "66382e36-d994-11e7-9cc0-0242ac120002",
    "663832d2-d994-11e7-9cc0-0242ac120002",
    "6638378c-d994-11e7-9cc0-0242ac120002",
    "66383c28-d994-11e7-9cc0-0242ac120002",
    "66384858-d994-11e7-9cc0-0242ac120002",
    "66384d30-d994-11e7-9cc0-0242ac120002",
    "663851d6-d994-11e7-9cc0-0242ac120002",
    "6638567c-d994-11e7-9cc0-0242ac120002",
    "66385cbc-d994-11e7-9cc0-0242ac120002",
    "66386180-d994-11e7-9cc0-0242ac120002",
    "66386630-d994-11e7-9cc0-0242ac120002",
    "66386ad6-d994-11e7-9cc0-0242ac120002",
    "66386f72-d994-11e7-9cc0-0242ac120002",
    "66387418-d994-11e7-9cc0-0242ac120002",
    "663878c8-d994-11e7-9cc0-0242ac120002",
    "66387d6e-d994-11e7-9cc0-0242ac120002",
    "66388214-d994-11e7-9cc0-0242ac120002",
    "663886b0-d994-11e7-9cc0-0242ac120002",
    "66388b42-d994-11e7-9cc0-0242ac120002"
   ]
  },
  "toc": {
   "nav_menu": {},
   "number_sections": true,
   "sideBar": true,
   "skip_h1_title": false,
   "title_cell": "Table of Contents",
   "title_sidebar": "Contents",
   "toc_cell": false,
   "toc_position": {},
   "toc_section_display": "block",
   "toc_window_display": true
  }
 },
 "nbformat": 4,
 "nbformat_minor": 2
}

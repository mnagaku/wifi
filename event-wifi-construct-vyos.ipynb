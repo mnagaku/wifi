{
 "cells": [
  {
   "cell_type": "markdown",
   "metadata": {
    "heading_collapsed": true,
    "lc_cell_meme": {
     "current": "6637e336-d994-11e7-9cc0-0242ac120002",
     "history": [
      {
       "current": "c4cc2474-cdc4-11e7-bab8-0242ac120002",
       "next": "963c83d4-ccf6-11e7-84d7-0242ac120003",
       "previous": "c4cc1e20-cdc4-11e7-bab8-0242ac120002"
      },
      {
       "current": "c4cc2474-cdc4-11e7-bab8-0242ac120002",
       "next": "d4458eb6-cf38-11e7-b332-0242ac120002",
       "previous": "c4cc1e20-cdc4-11e7-bab8-0242ac120002"
      },
      {
       "current": "c4cc2474-cdc4-11e7-bab8-0242ac120002",
       "next": "d4458eb6-cf38-11e7-b332-0242ac120002",
       "previous": "9ebd3e4e-cb5d-11e7-ab92-0242ac120003"
      },
      {
       "current": "c4cc2474-cdc4-11e7-bab8-0242ac120002",
       "next": "963c83d4-ccf6-11e7-84d7-0242ac120003",
       "previous": "9ebd3e4e-cb5d-11e7-ab92-0242ac120003"
      },
      {
       "current": "c4cc2474-cdc4-11e7-bab8-0242ac120002",
       "next": "c4cc2474-cdc4-11e7-bab8-0242ac120002",
       "previous": "9ebd3e4e-cb5d-11e7-ab92-0242ac120003"
      },
      {
       "current": "6637e336-d994-11e7-9cc0-0242ac120002",
       "next": "6637e7f0-d994-11e7-9cc0-0242ac120002",
       "previous": null
      }
     ],
     "next": "b8886210-d9a2-11e7-a0fe-0242ac120002",
     "previous": null
    }
   },
   "source": [
    "# VyOSの設定"
   ]
  },
  {
   "cell_type": "markdown",
   "metadata": {
    "hidden": true,
    "lc_cell_meme": {
     "current": "b8886210-d9a2-11e7-a0fe-0242ac120002",
     "history": [
      {
       "current": "b8886210-d9a2-11e7-a0fe-0242ac120002",
       "next": "6637e7f0-d994-11e7-9cc0-0242ac120002",
       "previous": "6637e336-d994-11e7-9cc0-0242ac120002"
      }
     ],
     "next": "6637ecaa-d994-11e7-9cc0-0242ac120002",
     "previous": "6637e336-d994-11e7-9cc0-0242ac120002"
    }
   },
   "source": [
    "## ネットワークを追加する\n",
    "\n",
    "[vyos](http://wiki.vyos-users.jp/)には3つのネットワークを繋ぐが、docker-composeの挙動により、default以外のネットワークがコンテナにアタッチされる順番が保証されず、ネットワークとinterfaceの対応関係が固定されない（順序を固定する方法が見つからなかった）。そこで、wireのアタッチをコンテナ起動後に追加設定として行う。\n",
    "\n",
    "因みに、docker createして、ネットワークをアタッチして、startさせる場合は、bridgeネットワークの名前順で認識される。dokcerの使われ方の主流では、デバイスとか気にしない感じで問題ないので、この辺の作りがイマイチなままなんだろうな。\n",
    "\n",
    "vyosのinterfaceを確認する。起動時にアタッチされた2つ（eth0、eth1）が見えている。"
   ]
  },
  {
   "cell_type": "code",
   "execution_count": null,
   "metadata": {
    "hidden": true,
    "lc_cell_meme": {
     "current": "6637ecaa-d994-11e7-9cc0-0242ac120002",
     "history": [
      {
       "current": "963c83d4-ccf6-11e7-84d7-0242ac120003",
       "next": "fc8cfe3c-cb68-11e7-ab92-0242ac120003",
       "previous": "9ebd3e4e-cb5d-11e7-ab92-0242ac120003"
      },
      {
       "current": "963c83d4-ccf6-11e7-84d7-0242ac120003",
       "next": "fc8cfe3c-cb68-11e7-ab92-0242ac120003",
       "previous": "c4cc2474-cdc4-11e7-bab8-0242ac120002"
      },
      {
       "current": "963c83d4-ccf6-11e7-84d7-0242ac120003",
       "next": "d445938e-cf38-11e7-b332-0242ac120002",
       "previous": "d4458eb6-cf38-11e7-b332-0242ac120002"
      },
      {
       "current": "963c83d4-ccf6-11e7-84d7-0242ac120003",
       "next": "d445938e-cf38-11e7-b332-0242ac120002",
       "previous": "c4cc2474-cdc4-11e7-bab8-0242ac120002"
      },
      {
       "current": "6637ecaa-d994-11e7-9cc0-0242ac120002",
       "next": "6637f16e-d994-11e7-9cc0-0242ac120002",
       "previous": "6637e7f0-d994-11e7-9cc0-0242ac120002"
      }
     ],
     "next": "6637f16e-d994-11e7-9cc0-0242ac120002",
     "previous": "b8886210-d9a2-11e7-a0fe-0242ac120002"
    },
    "pinned_outputs": [
     {
      "execution_count": 1,
      "outputs": [
       {
        "name": "stdout",
        "output_type": "stream",
        "text": "1 logs recorded\n\npath: /notebooks/wifi/.log/20171205/20171205-204749-0834.log\nstart time: 2017-12-05 20:47:49(JST)\nend time: 2017-12-05 20:47:53(JST)\noutput size: 1719 bytes\n6 chunks with matched keywords or errors\n----\neth0      Link encap:Ethernet  HWaddr 02:42:ac:12:00:03  \n          inet addr:172.18.0.3  Bcast:0.0.0.0  Mask:255.255.0.0\n          UP BROADCAST RUNNING MULTICAST  MTU:1500  Metric:1\n          RX packets:32 errors:0 dropped:0 overruns:0 frame:0\n          TX packets:4 errors:0 dropped:0 overruns:0 carrier:0\n          collisions:0 txqueuelen:0 \n          RX bytes:3427 (3.3 KiB)  TX bytes:192 (192.0 B)\n\neth1      Link encap:Ethernet  HWaddr 02:42:c0:a8:0e:03  \n          inet addr:192.168.14.3  Bcast:0.0.0.0  Mask:255.255.255.0\n          UP BROADCAST RUNNING MULTICAST  MTU:1500  Metric:1\n          RX packets:20 errors:0 dropped:0 overruns:0 frame:0\n          TX packets:0 errors:0 dropped:0 overruns:0 carrier:0\n          collisions:0 txqueuelen:0 \n          RX bytes:2376 (2.3 KiB)  TX bytes:0 (0.0 B)\n\nlo        Link encap:Local Loopback  \n          inet addr:127.0.0.1  Mask:255.0.0.0\n          UP LOOPBACK RUNNING  MTU:65536  Metric:1\n          RX packets:284 errors:0 dropped:0 overruns:0 frame:0\n          TX packets:284 errors:0 dropped:0 overruns:0 carrier:0\n          collisions:0 txqueuelen:1 \n          RX bytes:16552 (16.1 KiB)  TX bytes:16552 (16.1 KiB)\n"
       }
      ]
     }
    ],
    "scrolled": true
   },
   "outputs": [],
   "source": [
    "!sudo docker exec vyos ifconfig\n",
    "!test $(sudo docker exec vyos ifconfig | grep eth0 | wc -l) -eq 1\n",
    "!test $(sudo docker exec vyos ifconfig | grep eth1 | wc -l) -eq 1\n",
    "!test $(sudo docker exec vyos ifconfig | grep eth2 | wc -l) -eq 0"
   ]
  },
  {
   "cell_type": "markdown",
   "metadata": {
    "hidden": true,
    "lc_cell_meme": {
     "current": "6637f16e-d994-11e7-9cc0-0242ac120002",
     "history": [
      {
       "current": "d445938e-cf38-11e7-b332-0242ac120002",
       "next": "fc8cfe3c-cb68-11e7-ab92-0242ac120003",
       "previous": "963c83d4-ccf6-11e7-84d7-0242ac120003"
      }
     ],
     "next": "6637f61e-d994-11e7-9cc0-0242ac120002",
     "previous": "6637ecaa-d994-11e7-9cc0-0242ac120002"
    }
   },
   "source": [
    "dockerがコンテナ用に持っているネットワークを確認する。docker-composeで作ったネットワークには起動場所の接頭語が付くので注意。"
   ]
  },
  {
   "cell_type": "code",
   "execution_count": null,
   "metadata": {
    "hidden": true,
    "lc_cell_meme": {
     "current": "6637f61e-d994-11e7-9cc0-0242ac120002",
     "history": [
      {
       "current": "fc8cfe3c-cb68-11e7-ab92-0242ac120003",
       "next": null,
       "previous": "381d521a-cb66-11e7-ab92-0242ac120003"
      },
      {
       "current": "fc8cfe3c-cb68-11e7-ab92-0242ac120003",
       "next": null,
       "previous": "e6351f44-cb5d-11e7-ab92-0242ac120003"
      },
      {
       "current": "fc8cfe3c-cb68-11e7-ab92-0242ac120003",
       "next": "963c894c-ccf6-11e7-84d7-0242ac120003",
       "previous": "963c83d4-ccf6-11e7-84d7-0242ac120003"
      },
      {
       "current": "fc8cfe3c-cb68-11e7-ab92-0242ac120003",
       "next": "963c894c-ccf6-11e7-84d7-0242ac120003",
       "previous": "d445938e-cf38-11e7-b332-0242ac120002"
      },
      {
       "current": "fc8cfe3c-cb68-11e7-ab92-0242ac120003",
       "next": "dbbe9958-cf3d-11e7-b332-0242ac120002",
       "previous": "d445938e-cf38-11e7-b332-0242ac120002"
      }
     ],
     "next": "6637fad8-d994-11e7-9cc0-0242ac120002",
     "previous": "6637f16e-d994-11e7-9cc0-0242ac120002"
    },
    "pinned_outputs": [
     {
      "execution_count": 2,
      "outputs": [
       {
        "name": "stdout",
        "output_type": "stream",
        "text": "1 logs recorded\n\npath: /notebooks/wifi/.log/20171205/20171205-204753-0326.log\nstart time: 2017-12-05 20:47:53(JST)\nend time: 2017-12-05 20:47:54(JST)\noutput size: 786 bytes\n0 chunks with matched keywords or errors\n----\nNETWORK ID          NAME                DRIVER              SCOPE\n9a1ba38ef56a        bridge              bridge              local\n3b9c79d243c1        host                host                local\n6c3e5aba58a0        none                null                local\nff3807a0399f        root_default        bridge              local\n727894fa5202        root_wifi           bridge              local\nf4b8fd2e8e70        root_wire           bridge              local"
       }
      ]
     }
    ]
   },
   "outputs": [],
   "source": [
    "!sudo docker network ls"
   ]
  },
  {
   "cell_type": "markdown",
   "metadata": {
    "hidden": true,
    "lc_cell_meme": {
     "current": "6637fad8-d994-11e7-9cc0-0242ac120002",
     "history": [
      {
       "current": "dbbe9958-cf3d-11e7-b332-0242ac120002",
       "next": "963c894c-ccf6-11e7-84d7-0242ac120003",
       "previous": "fc8cfe3c-cb68-11e7-ab92-0242ac120003"
      }
     ],
     "next": "6637ff92-d994-11e7-9cc0-0242ac120002",
     "previous": "6637f61e-d994-11e7-9cc0-0242ac120002"
    }
   },
   "source": [
    "vyosにroot_wireをアタッチ。"
   ]
  },
  {
   "cell_type": "code",
   "execution_count": null,
   "metadata": {
    "hidden": true,
    "lc_cell_meme": {
     "current": "6637ff92-d994-11e7-9cc0-0242ac120002",
     "history": [
      {
       "current": "963c894c-ccf6-11e7-84d7-0242ac120003",
       "next": "e6351f44-cb5d-11e7-ab92-0242ac120003",
       "previous": "fc8cfe3c-cb68-11e7-ab92-0242ac120003"
      },
      {
       "current": "963c894c-ccf6-11e7-84d7-0242ac120003",
       "next": "963c894c-ccf6-11e7-84d7-0242ac120003",
       "previous": "fc8cfe3c-cb68-11e7-ab92-0242ac120003"
      },
      {
       "current": "963c894c-ccf6-11e7-84d7-0242ac120003",
       "next": "963c894c-ccf6-11e7-84d7-0242ac120003",
       "previous": "dbbe9958-cf3d-11e7-b332-0242ac120002"
      },
      {
       "current": "963c894c-ccf6-11e7-84d7-0242ac120003",
       "next": "23414cd0-cf3e-11e7-b332-0242ac120002",
       "previous": "dbbe9958-cf3d-11e7-b332-0242ac120002"
      }
     ],
     "next": "6638044c-d994-11e7-9cc0-0242ac120002",
     "previous": "6637fad8-d994-11e7-9cc0-0242ac120002"
    },
    "pinned_outputs": [
     {
      "execution_count": 3,
      "outputs": [
       {
        "name": "stdout",
        "output_type": "stream",
        "text": "1 logs recorded\n\npath: /notebooks/wifi/.log/20171205/20171205-204754-0342.log\nstart time: 2017-12-05 20:47:54(JST)\nend time: 2017-12-05 20:47:55(JST)\noutput size: 337 bytes\n0 chunks with matched keywords or errors\n----\n"
       }
      ]
     }
    ]
   },
   "outputs": [],
   "source": [
    "!sudo docker network connect root_wire vyos"
   ]
  },
  {
   "cell_type": "markdown",
   "metadata": {
    "hidden": true,
    "lc_cell_meme": {
     "current": "6638044c-d994-11e7-9cc0-0242ac120002",
     "history": [
      {
       "current": "23414cd0-cf3e-11e7-b332-0242ac120002",
       "next": "963c894c-ccf6-11e7-84d7-0242ac120003",
       "previous": "963c894c-ccf6-11e7-84d7-0242ac120003"
      }
     ],
     "next": "663808f2-d994-11e7-9cc0-0242ac120002",
     "previous": "6637ff92-d994-11e7-9cc0-0242ac120002"
    }
   },
   "source": [
    "3つ目のネットワークがeth2として増えているのを確認する。"
   ]
  },
  {
   "cell_type": "code",
   "execution_count": null,
   "metadata": {
    "hidden": true,
    "lc_cell_meme": {
     "current": "663808f2-d994-11e7-9cc0-0242ac120002",
     "history": [
      {
       "current": "963c894c-ccf6-11e7-84d7-0242ac120003",
       "next": "e6351f44-cb5d-11e7-ab92-0242ac120003",
       "previous": "fc8cfe3c-cb68-11e7-ab92-0242ac120003"
      },
      {
       "current": "963c894c-ccf6-11e7-84d7-0242ac120003",
       "next": "e6351f44-cb5d-11e7-ab92-0242ac120003",
       "previous": "963c894c-ccf6-11e7-84d7-0242ac120003"
      },
      {
       "current": "963c894c-ccf6-11e7-84d7-0242ac120003",
       "next": "a1769c32-cdb2-11e7-bab8-0242ac120002",
       "previous": "963c894c-ccf6-11e7-84d7-0242ac120003"
      },
      {
       "current": "963c894c-ccf6-11e7-84d7-0242ac120003",
       "next": "71f5386a-cdc6-11e7-bab8-0242ac120002",
       "previous": "963c894c-ccf6-11e7-84d7-0242ac120003"
      },
      {
       "current": "963c894c-ccf6-11e7-84d7-0242ac120003",
       "next": "71f5386a-cdc6-11e7-bab8-0242ac120002",
       "previous": "23414cd0-cf3e-11e7-b332-0242ac120002"
      },
      {
       "current": "663808f2-d994-11e7-9cc0-0242ac120002",
       "next": "66380da2-d994-11e7-9cc0-0242ac120002",
       "previous": "6638044c-d994-11e7-9cc0-0242ac120002"
      }
     ],
     "next": "000fe50e-d9a3-11e7-a0fe-0242ac120002",
     "previous": "6638044c-d994-11e7-9cc0-0242ac120002"
    },
    "pinned_outputs": [
     {
      "execution_count": 4,
      "outputs": [
       {
        "name": "stdout",
        "output_type": "stream",
        "text": "1 logs recorded\n\npath: /notebooks/wifi/.log/20171205/20171205-204755-0951.log\nstart time: 2017-12-05 20:47:55(JST)\nend time: 2017-12-05 20:47:59(JST)\noutput size: 2129 bytes\n8 chunks with matched keywords or errors\n----\neth0      Link encap:Ethernet  HWaddr 02:42:ac:12:00:03  \n          inet addr:172.18.0.3  Bcast:0.0.0.0  Mask:255.255.0.0\n          UP BROADCAST RUNNING MULTICAST  MTU:1500  Metric:1\n          RX packets:32 errors:0 dropped:0 overruns:0 frame:0\n          TX packets:4 errors:0 dropped:0 overruns:0 carrier:0\n          collisions:0 txqueuelen:0 \n          RX bytes:3427 (3.3 KiB)  TX bytes:192 (192.0 B)\n\neth1      Link encap:Ethernet  HWaddr 02:42:c0:a8:0e:03  \n          inet addr:192.168.14.3  Bcast:0.0.0.0  Mask:255.255.255.0\n          UP BROADCAST RUNNING MULTICAST  MTU:1500  Metric:1\n          RX packets:20 errors:0 dropped:0 overruns:0 frame:0\n          TX packets:0 errors:0 dropped:0 overruns:0 carrier:0\n          collisions:0 txqueuelen:0 \n          RX bytes:2376 (2.3 KiB)  TX bytes:0 (0.0 B)\n\neth2      Link encap:Ethernet  HWaddr 02:42:c0:a8:13:03  \n          inet addr:192.168.19.3  Bcast:0.0.0.0  Mask:255.255.255.0\n          UP BROADCAST RUNNING MULTICAST  MTU:1500  Metric:1\n          RX packets:6 errors:0 dropped:0 overruns:0 frame:0\n          TX packets:0 errors:0 dropped:0 overruns:0 carrier:0\n          collisions:0 txqueuelen:0 \n          RX bytes:508 (508.0 B)  TX bytes:0 (0.0 B)\n\nlo        Link encap:Local Loopback  \n          inet addr:127.0.0.1  Mask:255.0.0.0\n          UP LOOPBACK RUNNING  MTU:65536  Metric:1\n          RX packets:290 errors:0 dropped:0 overruns:0 frame:0\n          TX packets:290 errors:0 dropped:0 overruns:0 carrier:0\n          collisions:0 txqueuelen:1 \n          RX bytes:16852 (16.4 KiB)  TX bytes:16852 (16.4 KiB)\n"
       }
      ]
     }
    ]
   },
   "outputs": [],
   "source": [
    "!sudo docker exec vyos ifconfig\n",
    "!test $(sudo docker exec vyos ifconfig | grep eth0 | wc -l) -eq 1\n",
    "!test $(sudo docker exec vyos ifconfig | grep eth1 | wc -l) -eq 1\n",
    "!test $(sudo docker exec vyos ifconfig | grep eth2 | wc -l) -eq 1"
   ]
  },
  {
   "cell_type": "markdown",
   "metadata": {
    "hidden": true,
    "lc_cell_meme": {
     "current": "000fe50e-d9a3-11e7-a0fe-0242ac120002",
     "next": "66381248-d994-11e7-9cc0-0242ac120002",
     "previous": "663808f2-d994-11e7-9cc0-0242ac120002"
    }
   },
   "source": [
    "## Ansibleで設定を行う\n",
    "\n",
    "vyosのルータ設定はansible経由で行う。connection:dockerで接続するため、vyos_configが使えないので、スクリプトファイルをコピーしてシェル実行する。併せて、docker execからvyosのコマンドを叩くためのスクリプトファイルもコピーしておく。\n",
    "\n",
    "[vyosの設定](/edit/wifi/vyos-setup.vsh)"
   ]
  },
  {
   "cell_type": "code",
   "execution_count": null,
   "metadata": {
    "hidden": true,
    "lc_cell_meme": {
     "current": "66381248-d994-11e7-9cc0-0242ac120002",
     "history": [
      {
       "current": "e6351f44-cb5d-11e7-ab92-0242ac120003",
       "next": null,
       "previous": "9ebd3e4e-cb5d-11e7-ab92-0242ac120003"
      },
      {
       "current": "e6351f44-cb5d-11e7-ab92-0242ac120003",
       "next": "bcc9fa02-cb5e-11e7-ab92-0242ac120003",
       "previous": "9ebd3e4e-cb5d-11e7-ab92-0242ac120003"
      },
      {
       "current": "e6351f44-cb5d-11e7-ab92-0242ac120003",
       "next": null,
       "previous": "bcc9fa02-cb5e-11e7-ab92-0242ac120003"
      },
      {
       "current": "e6351f44-cb5d-11e7-ab92-0242ac120003",
       "next": "381d521a-cb66-11e7-ab92-0242ac120003",
       "previous": "bcc9fa02-cb5e-11e7-ab92-0242ac120003"
      },
      {
       "current": "e6351f44-cb5d-11e7-ab92-0242ac120003",
       "next": "fc8cfe3c-cb68-11e7-ab92-0242ac120003",
       "previous": "9ebd3e4e-cb5d-11e7-ab92-0242ac120003"
      },
      {
       "current": "e6351f44-cb5d-11e7-ab92-0242ac120003",
       "next": null,
       "previous": "963c894c-ccf6-11e7-84d7-0242ac120003"
      },
      {
       "current": "e6351f44-cb5d-11e7-ab92-0242ac120003",
       "next": "0bbc97ac-cd01-11e7-b777-0242ac120002",
       "previous": "963c894c-ccf6-11e7-84d7-0242ac120003"
      },
      {
       "current": "e6351f44-cb5d-11e7-ab92-0242ac120003",
       "next": "a1769c32-cdb2-11e7-bab8-0242ac120002",
       "previous": "963c894c-ccf6-11e7-84d7-0242ac120003"
      },
      {
       "current": "e6351f44-cb5d-11e7-ab92-0242ac120003",
       "next": "0bbc97ac-cd01-11e7-b777-0242ac120002",
       "previous": "a1769c32-cdb2-11e7-bab8-0242ac120002"
      },
      {
       "current": "e6351f44-cb5d-11e7-ab92-0242ac120003",
       "next": "7809af3c-cdb3-11e7-bab8-0242ac120002",
       "previous": "a1769c32-cdb2-11e7-bab8-0242ac120002"
      },
      {
       "current": "e6351f44-cb5d-11e7-ab92-0242ac120003",
       "next": "c4cc2938-cdc4-11e7-bab8-0242ac120002",
       "previous": "a1769c32-cdb2-11e7-bab8-0242ac120002"
      },
      {
       "current": "e6351f44-cb5d-11e7-ab92-0242ac120003",
       "next": "a1769c32-cdb2-11e7-bab8-0242ac120002",
       "previous": "71f5386a-cdc6-11e7-bab8-0242ac120002"
      },
      {
       "current": "e6351f44-cb5d-11e7-ab92-0242ac120003",
       "next": "981014d6-cf36-11e7-b332-0242ac120002",
       "previous": "71f5386a-cdc6-11e7-bab8-0242ac120002"
      },
      {
       "current": "66381248-d994-11e7-9cc0-0242ac120002",
       "next": "663816f8-d994-11e7-9cc0-0242ac120002",
       "previous": "66380da2-d994-11e7-9cc0-0242ac120002"
      },
      {
       "current": "66381248-d994-11e7-9cc0-0242ac120002",
       "next": "66380da2-d994-11e7-9cc0-0242ac120002",
       "previous": "000fe50e-d9a3-11e7-a0fe-0242ac120002"
      }
     ],
     "next": "3c0435ba-d9a3-11e7-a0fe-0242ac120002",
     "previous": "000fe50e-d9a3-11e7-a0fe-0242ac120002"
    },
    "pinned_outputs": [
     {
      "execution_count": 5,
      "outputs": [
       {
        "name": "stdout",
        "output_type": "stream",
        "text": "1 logs recorded\n\npath: /notebooks/wifi/.log/20171205/20171205-204759-0452.log\nstart time: 2017-12-05 20:47:59(JST)\nend time: 2017-12-05 20:48:26(JST)\noutput size: 13377 bytes\n2 chunks with matched keywords or errors\n----\n\u001b[0;34mansible-playbook 2.4.2.0\u001b[0m\n\u001b[0;34m  config file = /etc/ansible/ansible.cfg\u001b[0m\n\u001b[0;34m  configured module search path = [u'/root/.ansible/plugins/modules', u'/usr/share/ansible/plugins/modules']\u001b[0m\n\u001b[0;34m  ansible python module location = /usr/local/lib/python2.7/dist-packages/ansible\u001b[0m\n\u001b[0;34m  executable location = /usr/local/bin/ansible-playbook\u001b[0m\n\u001b[0;34m  python version = 2.7.9 (default, Jun 29 2016, 13:08:31) [GCC 4.9.2]\u001b[0m\n\u001b[0;34mUsing /etc/ansible/ansible.cfg as config file\u001b[0m\n\u001b[0;34mParsed vyos, inventory source with host_list plugin\u001b[0m\n\nPLAYBOOK: vyos-setup.yml *******************************************************\n\u001b[0;34m1 plays in vyos-setup.yml\u001b[0m\n\nPLAY [vyos] ********************************************************************\n\u001b[0;34mMETA: ran handlers\u001b[0m\n\nTASK [copy] ********************************************************************\n\u001b[1;30mtask path: /notebooks/wifi/vyos-setup.yml:8\u001b[0m\n\u001b[0;34m<vyos> ESTABLISH DOCKER CONNECTION FOR USER: root\u001b[0m\n\u001b[0;34m<vyos> EXEC ['/usr/local/bin/docker', 'exec', '-u', u'root', '-i', u'vyos', u'/bin/sh', '-c', u\"/bin/sh -c 'echo ~ && sleep 0'\"]\u001b[0m\n\u001b[0;34m<vyos> EXEC ['/usr/local/bin/docker', 'exec', '-u', u'root', '-i', u'vyos', u'/bin/sh', '-c', u'/bin/sh -c \\'( umask 77 && mkdir -p \"` echo /root/.ansible/tmp/ansible-tmp-1512474483.97-276523958926943 `\" && echo ansible-tmp-1512474483.97-276523958926943=\"` echo /root/.ansible/tmp/ansible-tmp-1512474483.97-276523958926943 `\" ) && sleep 0\\'']\u001b[0m\n...\n\u001b[0;33m    \"\u001b[0;31mstart\u001b[0m\": \"2017-12-05 11:48:09.161554\", \u001b[0m\n\u001b[0;33mvyos\u001b[0m                       : \u001b[0;32mok=3   \u001b[0m \u001b[0;33mchanged=3   \u001b[0m unreachable=0    \u001b[0;31mfail\u001b[0med=0   \n...\n\u001b[0;33m            \"seuser\": null, \u001b[0m\n\u001b[0;33m            \"src\": \"/root/.ansible/tmp/ansible-tmp-1512474504.0-53940103677455/source\", \u001b[0m\n\u001b[0;33m            \"unsafe_writes\": null, \u001b[0m\n\u001b[0;33m            \"validate\": null\u001b[0m\n\u001b[0;33m        }\u001b[0m\n\u001b[0;33m    }, \u001b[0m\n\u001b[0;33m    \"md5sum\": \"b910e6f1ce535a313d6fe777d1f6c578\", \u001b[0m\n\u001b[0;33m    \"mode\": \"0755\", \u001b[0m\n\u001b[0;33m    \"owner\": \"vyos\", \u001b[0m\n\u001b[0;33m    \"size\": 103, \u001b[0m\n\u001b[0;33m    \"src\": \"/root/.ansible/tmp/ansible-tmp-1512474504.0-53940103677455/source\", \u001b[0m\n\u001b[0;33m    \"state\": \"file\", \u001b[0m\n\u001b[0;33m    \"uid\": 1000\u001b[0m\n\u001b[0;33m}\u001b[0m\n\u001b[0;34mMETA: ran handlers\u001b[0m\n\u001b[0;34mMETA: ran handlers\u001b[0m\n\nPLAY RECAP *********************************************************************\n\u001b[0;33mvyos\u001b[0m                       : \u001b[0;32mok=3   \u001b[0m \u001b[0;33mchanged=3   \u001b[0m unreachable=0    failed=0   \n"
       }
      ]
     }
    ]
   },
   "outputs": [],
   "source": [
    "!sudo ansible-playbook -i vyos, vyos-setup.yml -vvv"
   ]
  },
  {
   "cell_type": "markdown",
   "metadata": {
    "hidden": true,
    "lc_cell_meme": {
     "current": "3c0435ba-d9a3-11e7-a0fe-0242ac120002",
     "next": "66381ba8-d994-11e7-9cc0-0242ac120002",
     "previous": "66381248-d994-11e7-9cc0-0242ac120002"
    }
   },
   "source": [
    "## VyOSコマンドラッパを確認する\n",
    "\n",
    "[コマンドのラッパ](/edit/wifi/run-command.sh)\n",
    "\n",
    "こんな感じでvyosのコマンドが叩ける。"
   ]
  },
  {
   "cell_type": "code",
   "execution_count": null,
   "metadata": {
    "hidden": true,
    "lc_cell_meme": {
     "current": "66381ba8-d994-11e7-9cc0-0242ac120002",
     "history": [
      {
       "current": "a1769c32-cdb2-11e7-bab8-0242ac120002",
       "next": "0bbc97ac-cd01-11e7-b777-0242ac120002",
       "previous": "e6351f44-cb5d-11e7-ab92-0242ac120003"
      },
      {
       "current": "a1769c32-cdb2-11e7-bab8-0242ac120002",
       "next": "e6351f44-cb5d-11e7-ab92-0242ac120003",
       "previous": "963c894c-ccf6-11e7-84d7-0242ac120003"
      },
      {
       "current": "a1769c32-cdb2-11e7-bab8-0242ac120002",
       "next": "c4cc2938-cdc4-11e7-bab8-0242ac120002",
       "previous": "e6351f44-cb5d-11e7-ab92-0242ac120003"
      },
      {
       "current": "a1769c32-cdb2-11e7-bab8-0242ac120002",
       "next": "1f1d2a92-cdc8-11e7-bab8-0242ac120002",
       "previous": "e6351f44-cb5d-11e7-ab92-0242ac120003"
      },
      {
       "current": "a1769c32-cdb2-11e7-bab8-0242ac120002",
       "next": "1f1d2a92-cdc8-11e7-bab8-0242ac120002",
       "previous": "981014d6-cf36-11e7-b332-0242ac120002"
      },
      {
       "current": "66381ba8-d994-11e7-9cc0-0242ac120002",
       "next": "6638203a-d994-11e7-9cc0-0242ac120002",
       "previous": "663816f8-d994-11e7-9cc0-0242ac120002"
      }
     ],
     "next": "6638203a-d994-11e7-9cc0-0242ac120002",
     "previous": "3c0435ba-d9a3-11e7-a0fe-0242ac120002"
    },
    "pinned_outputs": [
     {
      "execution_count": 6,
      "outputs": [
       {
        "name": "stdout",
        "output_type": "stream",
        "text": "1 logs recorded\n\npath: /notebooks/wifi/.log/20171205/20171205-204826-0614.log\nstart time: 2017-12-05 20:48:26(JST)\nend time: 2017-12-05 20:48:28(JST)\noutput size: 802 bytes\n0 chunks with matched keywords or errors\n----\nCodes: S - State, L - Link, u - Up, D - Down, A - Admin Down\nInterface        IP Address                        S/L  Description\n---------        ----------                        ---  -----------\neth0             172.18.0.3/16                     u/u  \neth1             192.168.14.3/24                   u/u  \neth2             192.168.19.3/24                   u/u  \nlo               127.0.0.1/8                       u/u  "
       }
      ]
     }
    ]
   },
   "outputs": [],
   "source": [
    "!sudo docker exec --user vyos vyos /home/vyos/run-command.sh show interfaces"
   ]
  },
  {
   "cell_type": "markdown",
   "metadata": {
    "hidden": true,
    "lc_cell_meme": {
     "current": "6638203a-d994-11e7-9cc0-0242ac120002",
     "history": [
      {
       "current": "1f1d2a92-cdc8-11e7-bab8-0242ac120002",
       "next": "c4cc2938-cdc4-11e7-bab8-0242ac120002",
       "previous": "a1769c32-cdb2-11e7-bab8-0242ac120002"
      }
     ],
     "next": null,
     "previous": "66381ba8-d994-11e7-9cc0-0242ac120002"
    }
   },
   "source": [
    "因みに、VyOSは実質Debianなので、interfaceが絡んだ機能（例えば、FireWallやQoS）は、OSのネットワーク設定で実現されている。このため、本事例のようにコンテナで利用すると、ネットワークデバイスが完全仮想化されていないことから、ネットワーク関連の機能のいくつかが動作しない。vyosにdocker execしてドヤ顔するのが不要で、そこそこのスペックのマシンが用意できるなら、普通にxenとか使った完全仮想化の方が、トラブルも少ないだろう。"
   ]
  }
 ],
 "metadata": {
  "kernelspec": {
   "display_name": "Python 3 (LC_wrapper)",
   "language": "python",
   "name": "python3-wrapper"
  },
  "language_info": {
   "file_extension": ".py",
   "mimetype": "text/x-python",
   "name": "python",
   "nbconvert_exporter": "python",
   "pygments_lexer": "ipython3",
   "version": "3.5.2"
  },
  "lc_notebook_meme": {
   "current": "6637a38a-d994-11e7-9cc0-0242ac120002",
   "history": [
    "9ebd387c-cb5d-11e7-ab92-0242ac120003"
   ],
   "lc_server_signature": {
    "current": {
     "notebook_dir": "/notebooks",
     "notebook_path": "/wifi",
     "server_url": "http://192.168.14.2:8888/",
     "signature_id": "689960ba-d9b1-11e7-9872-0242ac120002"
    },
    "history": [
     {
      "notebook_dir": "/notebooks",
      "notebook_path": "/wifi",
      "server_url": "http://172.18.0.3:8888/",
      "signature_id": "3fb2b046-cb5d-11e7-ab92-0242ac120003"
     },
     {
      "notebook_dir": "/notebooks",
      "notebook_path": "/wifi",
      "server_url": "http://172.18.0.3:8888/",
      "signature_id": "f71c8e3e-cb6a-11e7-8aa9-0242ac120003"
     },
     {
      "notebook_dir": "/notebooks",
      "notebook_path": "/wifi",
      "server_url": "http://172.18.0.3:8888/",
      "signature_id": "9bd36a48-ccf5-11e7-84d7-0242ac120003"
     },
     {
      "notebook_dir": "/notebooks",
      "notebook_path": "/wifi",
      "server_url": "http://172.18.0.2:8888/",
      "signature_id": "6d4fc832-cd00-11e7-b777-0242ac120002"
     },
     {
      "notebook_dir": "/notebooks",
      "notebook_path": "/wifi",
      "server_url": "http://172.18.0.2:8888/",
      "signature_id": "3d80d954-cdb2-11e7-bab8-0242ac120002"
     },
     {
      "notebook_dir": "/notebooks",
      "notebook_path": "/wifi",
      "server_url": "http://172.18.0.2:8888/",
      "signature_id": "30b66460-cdd4-11e7-a50a-0242ac120002"
     },
     {
      "notebook_dir": "/notebooks",
      "notebook_path": "/wifi",
      "server_url": "http://172.18.0.2:8888/",
      "signature_id": "fb1ecc3a-cec7-11e7-b332-0242ac120002"
     },
     {
      "notebook_dir": "/notebooks",
      "notebook_path": "/wifi",
      "server_url": "http://192.168.14.2:8888/",
      "signature_id": "fb1ecc3a-cec7-11e7-b332-0242ac120002"
     },
     {
      "notebook_dir": "/notebooks",
      "notebook_path": "/wifi",
      "server_url": "http://172.18.0.2:8888/",
      "signature_id": "f110a0c8-cf40-11e7-bdd8-0242ac120002"
     },
     {
      "notebook_dir": "/notebooks",
      "notebook_path": "/wifi",
      "server_url": "http://192.168.14.2:8888/",
      "signature_id": "f110a0c8-cf40-11e7-bdd8-0242ac120002"
     },
     {
      "notebook_dir": "/notebooks",
      "notebook_path": "/wifi",
      "server_url": "http://192.168.14.2:8888/",
      "signature_id": "9862618c-cf4f-11e7-8330-0242ac120002"
     },
     {
      "notebook_dir": "/notebooks",
      "notebook_path": "/wifi",
      "server_url": "http://172.18.0.2:8888/",
      "signature_id": "178ef5f6-d8b0-11e7-9867-0242ac120002"
     },
     {
      "notebook_dir": "/notebooks",
      "notebook_path": "/wifi",
      "server_url": "http://192.168.14.2:8888/",
      "signature_id": "178ef5f6-d8b0-11e7-9867-0242ac120002"
     },
     {
      "notebook_dir": "/notebooks",
      "notebook_path": "/wifi",
      "server_url": "http://172.18.0.2:8888/",
      "signature_id": "11615e8a-d8d8-11e7-8379-0242ac120002"
     },
     {
      "notebook_dir": "/notebooks",
      "notebook_path": "/wifi",
      "server_url": "http://192.168.14.2:8888/",
      "signature_id": "11615e8a-d8d8-11e7-8379-0242ac120002"
     },
     {
      "notebook_dir": "/notebooks",
      "notebook_path": "/wifi",
      "server_url": "http://172.18.0.2:8888/",
      "signature_id": "5169c75c-d986-11e7-a0fe-0242ac120002"
     },
     {
      "notebook_dir": "/notebooks",
      "notebook_path": "/wifi",
      "server_url": "http://192.168.14.2:8888/",
      "signature_id": "5169c75c-d986-11e7-a0fe-0242ac120002"
     },
     {
      "notebook_dir": "/notebooks",
      "notebook_path": "/wifi",
      "server_url": "http://172.18.0.2:8888/",
      "signature_id": "689960ba-d9b1-11e7-9872-0242ac120002"
     }
    ]
   },
   "root_cells": [
    "6637b78a-d994-11e7-9cc0-0242ac120002",
    "6637c040-d994-11e7-9cc0-0242ac120002",
    "6637c586-d994-11e7-9cc0-0242ac120002",
    "6637ca72-d994-11e7-9cc0-0242ac120002",
    "6637cfea-d994-11e7-9cc0-0242ac120002",
    "6637d4c2-d994-11e7-9cc0-0242ac120002",
    "6637d9a4-d994-11e7-9cc0-0242ac120002",
    "6637de72-d994-11e7-9cc0-0242ac120002",
    "6637e336-d994-11e7-9cc0-0242ac120002",
    "6637e7f0-d994-11e7-9cc0-0242ac120002",
    "6637ecaa-d994-11e7-9cc0-0242ac120002",
    "6637f16e-d994-11e7-9cc0-0242ac120002",
    "6637f61e-d994-11e7-9cc0-0242ac120002",
    "6637fad8-d994-11e7-9cc0-0242ac120002",
    "6637ff92-d994-11e7-9cc0-0242ac120002",
    "6638044c-d994-11e7-9cc0-0242ac120002",
    "663808f2-d994-11e7-9cc0-0242ac120002",
    "66380da2-d994-11e7-9cc0-0242ac120002",
    "66381248-d994-11e7-9cc0-0242ac120002",
    "663816f8-d994-11e7-9cc0-0242ac120002",
    "66381ba8-d994-11e7-9cc0-0242ac120002",
    "6638203a-d994-11e7-9cc0-0242ac120002",
    "663824e0-d994-11e7-9cc0-0242ac120002",
    "6638297c-d994-11e7-9cc0-0242ac120002",
    "66382e36-d994-11e7-9cc0-0242ac120002",
    "663832d2-d994-11e7-9cc0-0242ac120002",
    "6638378c-d994-11e7-9cc0-0242ac120002",
    "66383c28-d994-11e7-9cc0-0242ac120002",
    "66384858-d994-11e7-9cc0-0242ac120002",
    "66384d30-d994-11e7-9cc0-0242ac120002",
    "663851d6-d994-11e7-9cc0-0242ac120002",
    "6638567c-d994-11e7-9cc0-0242ac120002",
    "66385cbc-d994-11e7-9cc0-0242ac120002",
    "66386180-d994-11e7-9cc0-0242ac120002",
    "66386630-d994-11e7-9cc0-0242ac120002",
    "66386ad6-d994-11e7-9cc0-0242ac120002",
    "66386f72-d994-11e7-9cc0-0242ac120002",
    "66387418-d994-11e7-9cc0-0242ac120002",
    "663878c8-d994-11e7-9cc0-0242ac120002",
    "66387d6e-d994-11e7-9cc0-0242ac120002",
    "66388214-d994-11e7-9cc0-0242ac120002",
    "663886b0-d994-11e7-9cc0-0242ac120002",
    "66388b42-d994-11e7-9cc0-0242ac120002"
   ]
  },
  "toc": {
   "nav_menu": {},
   "number_sections": true,
   "sideBar": true,
   "skip_h1_title": false,
   "title_cell": "Table of Contents",
   "title_sidebar": "Contents",
   "toc_cell": false,
   "toc_position": {},
   "toc_section_display": "block",
   "toc_window_display": true
  }
 },
 "nbformat": 4,
 "nbformat_minor": 2
}

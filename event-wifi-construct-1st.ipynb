{
 "cells": [
  {
   "cell_type": "markdown",
   "metadata": {
    "heading_collapsed": true,
    "lc_cell_meme": {
     "current": "6637b78a-d994-11e7-9cc0-0242ac120002",
     "history": [
      {
       "current": "102e8fee-cdbe-11e7-bab8-0242ac120002",
       "next": "102e97be-cdbe-11e7-bab8-0242ac120002",
       "previous": null
      },
      {
       "current": "6637b78a-d994-11e7-9cc0-0242ac120002",
       "next": "6637c040-d994-11e7-9cc0-0242ac120002",
       "previous": null
      },
      {
       "current": "6637b78a-d994-11e7-9cc0-0242ac120002",
       "next": "6637c040-d994-11e7-9cc0-0242ac120002",
       "previous": "f70e5f98-d994-11e7-a0fe-0242ac120002"
      }
     ],
     "next": "6637c040-d994-11e7-9cc0-0242ac120002",
     "previous": null
    }
   },
   "source": [
    "# 前提条件の確認\n",
    "\n",
    "技術的な前提条件を確認する。"
   ]
  },
  {
   "cell_type": "markdown",
   "metadata": {
    "hidden": true,
    "lc_cell_meme": {
     "current": "6637c040-d994-11e7-9cc0-0242ac120002",
     "history": [
      {
       "current": "102e97be-cdbe-11e7-bab8-0242ac120002",
       "next": "102e9ca0-cdbe-11e7-bab8-0242ac120002",
       "previous": "102e8fee-cdbe-11e7-bab8-0242ac120002"
      },
      {
       "current": "102e97be-cdbe-11e7-bab8-0242ac120002",
       "next": "102e97be-cdbe-11e7-bab8-0242ac120002",
       "previous": "102e8fee-cdbe-11e7-bab8-0242ac120002"
      },
      {
       "current": "102e97be-cdbe-11e7-bab8-0242ac120002",
       "next": "aaadf4f8-d8b1-11e7-9867-0242ac120002",
       "previous": "102e8fee-cdbe-11e7-bab8-0242ac120002"
      },
      {
       "current": "102e97be-cdbe-11e7-bab8-0242ac120002",
       "next": "5ec8d2d2-d8cb-11e7-9867-0242ac120002",
       "previous": "102e8fee-cdbe-11e7-bab8-0242ac120002"
      },
      {
       "current": "102e97be-cdbe-11e7-bab8-0242ac120002",
       "next": "aaadf4f8-d8b1-11e7-9867-0242ac120002",
       "previous": "102e8fee-cdbe-11e7-bab8-0242ac120002"
      }
     ],
     "next": "6637c586-d994-11e7-9cc0-0242ac120002",
     "previous": "6637b78a-d994-11e7-9cc0-0242ac120002"
    }
   },
   "source": [
    "## ネットワークの確認\n",
    "\n",
    "ホストマシンに物理NICが3つあって、1つは上流に接続、2つはブリッジに繋がった状態であることを確認する。\n",
    "\n",
    "/etc/network/interfacesの例\n",
    "```\n",
    "auto lo\n",
    "iface lo inet loopback\n",
    "\n",
    "# 1つは上流に接続\n",
    "auto eth0\n",
    "iface eth0 inet dhcp\n",
    "\n",
    "# 2つはブリッジに繋がった状態\n",
    "auto enx14\n",
    "iface enx14 inet manual\n",
    "\n",
    "auto enx19\n",
    "iface enx19 inet manual\n",
    "\n",
    "auto br14\n",
    "iface br14 inet static\n",
    "address 192.168.14.1\n",
    "netmask 255.255.255.0\n",
    "bridge_ports enx14\n",
    "bridge_maxwait 0\n",
    "bridge_fd 0\n",
    "bridge_stp off\n",
    "\n",
    "auto br19\n",
    "iface br19 inet static\n",
    "address 192.168.19.1\n",
    "netmask 255.255.255.0\n",
    "bridge_ports enx19\n",
    "bridge_maxwait 0\n",
    "bridge_fd 0\n",
    "bridge_stp off\n",
    "\n",
    "```\n",
    "\n",
    "jupiterは3つのネットワークを全て繋ぐ設定で起動しているので、192.168.14.0/24と192.168.19.0/24のネットワークに繋がったインタフェースが見えていることと、上流への疎通があってインターネットに出れることを確認しておく。"
   ]
  },
  {
   "cell_type": "code",
   "execution_count": null,
   "metadata": {
    "hidden": true,
    "lc_cell_meme": {
     "current": "6637c586-d994-11e7-9cc0-0242ac120002",
     "history": [
      {
       "current": "aaadf4f8-d8b1-11e7-9867-0242ac120002",
       "next": "102e97be-cdbe-11e7-bab8-0242ac120002",
       "previous": "102e97be-cdbe-11e7-bab8-0242ac120002"
      },
      {
       "current": "aaadf4f8-d8b1-11e7-9867-0242ac120002",
       "next": "102e97be-cdbe-11e7-bab8-0242ac120002",
       "previous": "5ec8d2d2-d8cb-11e7-9867-0242ac120002"
      },
      {
       "current": "aaadf4f8-d8b1-11e7-9867-0242ac120002",
       "next": "102e97be-cdbe-11e7-bab8-0242ac120002",
       "previous": "102e97be-cdbe-11e7-bab8-0242ac120002"
      }
     ],
     "next": "6637ca72-d994-11e7-9cc0-0242ac120002",
     "previous": "6637c040-d994-11e7-9cc0-0242ac120002"
    },
    "pinned_outputs": [
     {
      "execution_count": 1,
      "outputs": [
       {
        "name": "stdout",
        "output_type": "stream",
        "text": "1 logs recorded\n\npath: /notebooks/wifi/.log/20171205/20171205-114352-0741.log\nstart time: 2017-12-05 11:43:52(UTC)\nend time: 2017-12-05 11:44:02(UTC)\noutput size: 1902 bytes\n0 chunks with matched keywords or errors\n----\n1: lo: <LOOPBACK,UP,LOWER_UP> mtu 65536 qdisc noqueue state UNKNOWN group default qlen 1\n    link/loopback 00:00:00:00:00:00 brd 00:00:00:00:00:00\n    inet 127.0.0.1/8 scope host lo\n       valid_lft forever preferred_lft forever\n72: eth0@if73: <BROADCAST,MULTICAST,UP,LOWER_UP> mtu 1500 qdisc noqueue state UP group default \n    link/ether 02:42:ac:12:00:02 brd ff:ff:ff:ff:ff:ff\n    inet 172.18.0.2/16 scope global eth0\n       valid_lft forever preferred_lft forever\n74: eth1@if75: <BROADCAST,MULTICAST,UP,LOWER_UP> mtu 1500 qdisc noqueue state UP group default \n    link/ether 02:42:c0:a8:13:02 brd ff:ff:ff:ff:ff:ff\n    inet 192.168.19.2/24 scope global eth1\n       valid_lft forever preferred_lft forever\n76: eth2@if77: <BROADCAST,MULTICAST,UP,LOWER_UP> mtu 1500 qdisc noqueue state UP group default \n    link/ether 02:42:c0:a8:0e:02 brd ff:ff:ff:ff:ff:ff\n    inet 192.168.14.2/24 scope global eth2\n       valid_lft forever preferred_lft forever\nPING yahoo.jp (183.79.23.196): 56 data bytes\n64 bytes from 183.79.23.196: icmp_seq=0 ttl=54 time=14.848 ms\n64 bytes from 183.79.23.196: icmp_seq=1 ttl=54 time=14.964 ms\n64 bytes from 183.79.23.196: icmp_seq=2 ttl=54 time=14.868 ms\n64 bytes from 183.79.23.196: icmp_seq=3 ttl=54 time=14.965 ms\n--- yahoo.jp ping statistics ---\n4 packets transmitted, 4 packets received, 0% packet loss\nround-trip min/avg/max/stddev = 14.848/14.911/14.965/0.054 ms"
       }
      ]
     }
    ]
   },
   "outputs": [],
   "source": [
    "!ip a\n",
    "!test $(ip a | grep 192.168.14 | wc -l) -eq 1\n",
    "!test $(ip a | grep 192.168.19 | wc -l) -eq 1\n",
    "\n",
    "!ping -c 4 yahoo.jp\n",
    "!test $(ping -c 4 yahoo.jp | grep \"4 packets received\" | wc -l) -eq 1"
   ]
  },
  {
   "cell_type": "markdown",
   "metadata": {
    "hidden": true,
    "lc_cell_meme": {
     "current": "6637ca72-d994-11e7-9cc0-0242ac120002",
     "history": [
      {
       "current": "102e97be-cdbe-11e7-bab8-0242ac120002",
       "next": "102e9ca0-cdbe-11e7-bab8-0242ac120002",
       "previous": "102e8fee-cdbe-11e7-bab8-0242ac120002"
      },
      {
       "current": "102e97be-cdbe-11e7-bab8-0242ac120002",
       "next": "102e9ca0-cdbe-11e7-bab8-0242ac120002",
       "previous": "102e97be-cdbe-11e7-bab8-0242ac120002"
      },
      {
       "current": "102e97be-cdbe-11e7-bab8-0242ac120002",
       "next": "102e9ca0-cdbe-11e7-bab8-0242ac120002",
       "previous": "aaadf4f8-d8b1-11e7-9867-0242ac120002"
      },
      {
       "current": "102e97be-cdbe-11e7-bab8-0242ac120002",
       "next": "6a5e463c-d8b6-11e7-9867-0242ac120002",
       "previous": "aaadf4f8-d8b1-11e7-9867-0242ac120002"
      }
     ],
     "next": "6637cfea-d994-11e7-9cc0-0242ac120002",
     "previous": "6637c586-d994-11e7-9cc0-0242ac120002"
    }
   },
   "source": [
    "## コンテナの起動確認\n",
    "\n",
    "同梱のdocker-compose.ymlでコンテナ一式が起動した状態であることを確認する。\n",
    "\n",
    "[同梱のdocker-compose.yml](/edit/wifi/docker-compose.yml)\n",
    "\n",
    "docker-composeで作成された各種リソースには、起動した場所（docker-compose.ymlの場所）を示す文字列が接頭語として追加される。このnotebookでは/rootで起動して、接頭語がrootになっている前提とする。\n",
    "\n",
    "コンテナ起動状態を確認するため、dockerコマンドをインストール（jupyterには/var/run/docker.sockをマウントして、dockerコマンドを使えるようにしてある）し、juyter、vyos、muninのコンテナが動いていることと、dockerの内部ネットワーク、root_default、root_wifi、root_wireが存在することを確認しておく。"
   ]
  },
  {
   "cell_type": "code",
   "execution_count": null,
   "metadata": {
    "hidden": true,
    "lc_cell_meme": {
     "current": "6637cfea-d994-11e7-9cc0-0242ac120002",
     "history": [
      {
       "current": "6a5e463c-d8b6-11e7-9867-0242ac120002",
       "next": "102e9ca0-cdbe-11e7-bab8-0242ac120002",
       "previous": "102e97be-cdbe-11e7-bab8-0242ac120002"
      },
      {
       "current": "6637cfea-d994-11e7-9cc0-0242ac120002",
       "next": "6637d4c2-d994-11e7-9cc0-0242ac120002",
       "previous": "6637ca72-d994-11e7-9cc0-0242ac120002"
      }
     ],
     "next": null,
     "previous": "6637ca72-d994-11e7-9cc0-0242ac120002"
    },
    "pinned_outputs": [
     {
      "execution_count": 2,
      "outputs": [
       {
        "name": "stdout",
        "output_type": "stream",
        "text": "1 logs recorded\n\npath: /notebooks/wifi/.log/20171205/20171205-114402-0491.log\nstart time: 2017-12-05 11:44:02(UTC)\nend time: 2017-12-05 11:44:13(UTC)\noutput size: 1869 bytes\n1 chunks with matched keywords or errors\n----\nCONTAINER ID        IMAGE                        COMMAND                  CREATED              STATUS              PORTS               NAMES\nd385586acb67        shaf/munin-server            \"/start.sh\"              About a minute ago   Up About a minute   80/tcp, 4949/tcp    munin\n9ae9d692fc7e        mnagaku/vyos                 \"/sbin/init\"             About a minute ago   Up About a minute                       vyos\nec0823eb39ed        niicloudoperation/notebook   \"tini -- bash -c '...\"   About a minute ago   Up About a minute                       jupyter\nNETWORK ID          NAME                DRIVER              SCOPE\n9a1ba38ef56a        bridge              bridge              local\n3b9c79d243c1        host                host                local\n6c3e5aba58a0        none                null                local\nff3807a0399f        root_default        bridge              local\n727894fa5202        root_wifi           bridge              local\nf4b8fd2e8e70        root_wire           bridge              local"
       }
      ]
     }
    ]
   },
   "outputs": [],
   "source": [
    "!curl -fsSL https://download.docker.com/linux/static/stable/x86_64/docker-17.09.0-ce.tgz \\\n",
    "    | sudo tar -xzC /usr/local/bin --strip=1 docker/docker\n",
    "\n",
    "!sudo docker ps\n",
    "!test $(sudo docker ps | grep jupyter | wc -l) -eq 1\n",
    "!test $(sudo docker ps | grep vyos | wc -l) -eq 1\n",
    "!test $(sudo docker ps | grep munin | wc -l) -eq 1\n",
    "\n",
    "!sudo docker network ls\n",
    "!test $(sudo docker network ls | grep root_default | wc -l) -eq 1\n",
    "!test $(sudo docker network ls | grep root_wifi | wc -l) -eq 1\n",
    "!test $(sudo docker network ls | grep root_wire | wc -l) -eq 1"
   ]
  }
 ],
 "metadata": {
  "kernelspec": {
   "display_name": "Python 3 (LC_wrapper)",
   "language": "python",
   "name": "python3-wrapper"
  },
  "language_info": {
   "file_extension": ".py",
   "mimetype": "text/x-python",
   "name": "python",
   "nbconvert_exporter": "python",
   "pygments_lexer": "ipython3",
   "version": "3.5.2"
  },
  "lc_notebook_meme": {
   "current": "6637a38a-d994-11e7-9cc0-0242ac120002",
   "history": [
    "9ebd387c-cb5d-11e7-ab92-0242ac120003"
   ],
   "lc_server_signature": {
    "current": {
     "notebook_dir": "/notebooks",
     "notebook_path": "/wifi",
     "server_url": "http://192.168.14.2:8888/",
     "signature_id": "689960ba-d9b1-11e7-9872-0242ac120002"
    },
    "history": [
     {
      "notebook_dir": "/notebooks",
      "notebook_path": "/wifi",
      "server_url": "http://172.18.0.3:8888/",
      "signature_id": "3fb2b046-cb5d-11e7-ab92-0242ac120003"
     },
     {
      "notebook_dir": "/notebooks",
      "notebook_path": "/wifi",
      "server_url": "http://172.18.0.3:8888/",
      "signature_id": "f71c8e3e-cb6a-11e7-8aa9-0242ac120003"
     },
     {
      "notebook_dir": "/notebooks",
      "notebook_path": "/wifi",
      "server_url": "http://172.18.0.3:8888/",
      "signature_id": "9bd36a48-ccf5-11e7-84d7-0242ac120003"
     },
     {
      "notebook_dir": "/notebooks",
      "notebook_path": "/wifi",
      "server_url": "http://172.18.0.2:8888/",
      "signature_id": "6d4fc832-cd00-11e7-b777-0242ac120002"
     },
     {
      "notebook_dir": "/notebooks",
      "notebook_path": "/wifi",
      "server_url": "http://172.18.0.2:8888/",
      "signature_id": "3d80d954-cdb2-11e7-bab8-0242ac120002"
     },
     {
      "notebook_dir": "/notebooks",
      "notebook_path": "/wifi",
      "server_url": "http://172.18.0.2:8888/",
      "signature_id": "30b66460-cdd4-11e7-a50a-0242ac120002"
     },
     {
      "notebook_dir": "/notebooks",
      "notebook_path": "/wifi",
      "server_url": "http://172.18.0.2:8888/",
      "signature_id": "fb1ecc3a-cec7-11e7-b332-0242ac120002"
     },
     {
      "notebook_dir": "/notebooks",
      "notebook_path": "/wifi",
      "server_url": "http://192.168.14.2:8888/",
      "signature_id": "fb1ecc3a-cec7-11e7-b332-0242ac120002"
     },
     {
      "notebook_dir": "/notebooks",
      "notebook_path": "/wifi",
      "server_url": "http://172.18.0.2:8888/",
      "signature_id": "f110a0c8-cf40-11e7-bdd8-0242ac120002"
     },
     {
      "notebook_dir": "/notebooks",
      "notebook_path": "/wifi",
      "server_url": "http://192.168.14.2:8888/",
      "signature_id": "f110a0c8-cf40-11e7-bdd8-0242ac120002"
     },
     {
      "notebook_dir": "/notebooks",
      "notebook_path": "/wifi",
      "server_url": "http://192.168.14.2:8888/",
      "signature_id": "9862618c-cf4f-11e7-8330-0242ac120002"
     },
     {
      "notebook_dir": "/notebooks",
      "notebook_path": "/wifi",
      "server_url": "http://172.18.0.2:8888/",
      "signature_id": "178ef5f6-d8b0-11e7-9867-0242ac120002"
     },
     {
      "notebook_dir": "/notebooks",
      "notebook_path": "/wifi",
      "server_url": "http://192.168.14.2:8888/",
      "signature_id": "178ef5f6-d8b0-11e7-9867-0242ac120002"
     },
     {
      "notebook_dir": "/notebooks",
      "notebook_path": "/wifi",
      "server_url": "http://172.18.0.2:8888/",
      "signature_id": "11615e8a-d8d8-11e7-8379-0242ac120002"
     },
     {
      "notebook_dir": "/notebooks",
      "notebook_path": "/wifi",
      "server_url": "http://192.168.14.2:8888/",
      "signature_id": "11615e8a-d8d8-11e7-8379-0242ac120002"
     },
     {
      "notebook_dir": "/notebooks",
      "notebook_path": "/wifi",
      "server_url": "http://172.18.0.2:8888/",
      "signature_id": "5169c75c-d986-11e7-a0fe-0242ac120002"
     },
     {
      "notebook_dir": "/notebooks",
      "notebook_path": "/wifi",
      "server_url": "http://192.168.14.2:8888/",
      "signature_id": "5169c75c-d986-11e7-a0fe-0242ac120002"
     },
     {
      "notebook_dir": "/notebooks",
      "notebook_path": "/wifi",
      "server_url": "http://172.18.0.2:8888/",
      "signature_id": "689960ba-d9b1-11e7-9872-0242ac120002"
     }
    ]
   },
   "root_cells": [
    "6637b78a-d994-11e7-9cc0-0242ac120002",
    "6637c040-d994-11e7-9cc0-0242ac120002",
    "6637c586-d994-11e7-9cc0-0242ac120002",
    "6637ca72-d994-11e7-9cc0-0242ac120002",
    "6637cfea-d994-11e7-9cc0-0242ac120002",
    "6637d4c2-d994-11e7-9cc0-0242ac120002",
    "6637d9a4-d994-11e7-9cc0-0242ac120002",
    "6637de72-d994-11e7-9cc0-0242ac120002",
    "6637e336-d994-11e7-9cc0-0242ac120002",
    "6637e7f0-d994-11e7-9cc0-0242ac120002",
    "6637ecaa-d994-11e7-9cc0-0242ac120002",
    "6637f16e-d994-11e7-9cc0-0242ac120002",
    "6637f61e-d994-11e7-9cc0-0242ac120002",
    "6637fad8-d994-11e7-9cc0-0242ac120002",
    "6637ff92-d994-11e7-9cc0-0242ac120002",
    "6638044c-d994-11e7-9cc0-0242ac120002",
    "663808f2-d994-11e7-9cc0-0242ac120002",
    "66380da2-d994-11e7-9cc0-0242ac120002",
    "66381248-d994-11e7-9cc0-0242ac120002",
    "663816f8-d994-11e7-9cc0-0242ac120002",
    "66381ba8-d994-11e7-9cc0-0242ac120002",
    "6638203a-d994-11e7-9cc0-0242ac120002",
    "663824e0-d994-11e7-9cc0-0242ac120002",
    "6638297c-d994-11e7-9cc0-0242ac120002",
    "66382e36-d994-11e7-9cc0-0242ac120002",
    "663832d2-d994-11e7-9cc0-0242ac120002",
    "6638378c-d994-11e7-9cc0-0242ac120002",
    "66383c28-d994-11e7-9cc0-0242ac120002",
    "66384858-d994-11e7-9cc0-0242ac120002",
    "66384d30-d994-11e7-9cc0-0242ac120002",
    "663851d6-d994-11e7-9cc0-0242ac120002",
    "6638567c-d994-11e7-9cc0-0242ac120002",
    "66385cbc-d994-11e7-9cc0-0242ac120002",
    "66386180-d994-11e7-9cc0-0242ac120002",
    "66386630-d994-11e7-9cc0-0242ac120002",
    "66386ad6-d994-11e7-9cc0-0242ac120002",
    "66386f72-d994-11e7-9cc0-0242ac120002",
    "66387418-d994-11e7-9cc0-0242ac120002",
    "663878c8-d994-11e7-9cc0-0242ac120002",
    "66387d6e-d994-11e7-9cc0-0242ac120002",
    "66388214-d994-11e7-9cc0-0242ac120002",
    "663886b0-d994-11e7-9cc0-0242ac120002",
    "66388b42-d994-11e7-9cc0-0242ac120002"
   ]
  },
  "toc": {
   "nav_menu": {},
   "number_sections": true,
   "sideBar": true,
   "skip_h1_title": false,
   "title_cell": "Table of Contents",
   "title_sidebar": "Contents",
   "toc_cell": false,
   "toc_position": {},
   "toc_section_display": "block",
   "toc_window_display": true
  }
 },
 "nbformat": 4,
 "nbformat_minor": 2
}
